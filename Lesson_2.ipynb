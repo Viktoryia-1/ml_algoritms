{
 "cells": [
  {
   "cell_type": "markdown",
   "metadata": {},
   "source": [
    "# Урок 2. Масштабирование признаков. Регуляризация. Стохастический градиентный спуск."
   ]
  },
  {
   "cell_type": "markdown",
   "metadata": {
    "toc": true
   },
   "source": [
    "<h1>План урока<span class=\"tocSkip\"></span></h1>\n",
    "<div class=\"toc\"><ul class=\"toc-item\"><li><span><a href=\"#mini-batch-сильно-занижает-ошибку.-проверить-код!\" data-toc-modified-id=\"mini-batch-сильно-занижает-ошибку.-проверить-код!-1\">mini-batch сильно занижает ошибку. проверить код!</a></span></li><li><span><a href=\"#Масштабирование-признаков\" data-toc-modified-id=\"Масштабирование-признаков-2\">Масштабирование признаков</a></span><ul class=\"toc-item\"><li><span><a href=\"#Нормализация-[0,-1]\" data-toc-modified-id=\"Нормализация-[0,-1]-2.1\">Нормализация [0, 1]</a></span></li><li><span><a href=\"#Стандартизация\" data-toc-modified-id=\"Стандартизация-2.2\">Стандартизация</a></span></li></ul></li><li><span><a href=\"#Стохастический-градиентный-спуск-и-mini-batch-градиентный-спуск\" data-toc-modified-id=\"Стохастический-градиентный-спуск-и-mini-batch-градиентный-спуск-3\">Стохастический градиентный спуск и mini-batch градиентный спуск</a></span></li><li><span><a href=\"#Регуляризация\" data-toc-modified-id=\"Регуляризация-4\">Регуляризация</a></span><ul class=\"toc-item\"><li><span><a href=\"#L1-регуляризация---Lasso\" data-toc-modified-id=\"L1-регуляризация---Lasso-4.1\">L1 регуляризация - Lasso</a></span></li><li><span><a href=\"#L2-регуляризация---Ridge\" data-toc-modified-id=\"L2-регуляризация---Ridge-4.2\">L2 регуляризация - Ridge</a></span></li></ul></li><li><span><a href=\"#Домашние-задания\" data-toc-modified-id=\"Домашние-задания-5\">Домашние задания</a></span></li></ul></div>"
   ]
  },
  {
   "cell_type": "markdown",
   "metadata": {},
   "source": [
    "## mini-batch сильно занижает ошибку. проверить код!"
   ]
  },
  {
   "cell_type": "code",
   "execution_count": 101,
   "metadata": {
    "colab": {},
    "colab_type": "code",
    "id": "_u5bV-OlT34p"
   },
   "outputs": [],
   "source": [
    "import numpy as np\n",
    "import matplotlib.pyplot as plt\n",
    "plt.rcParams.update({'font.size': 14,\n",
    "                     'xtick.labelsize': 14})"
   ]
  },
  {
   "cell_type": "markdown",
   "metadata": {},
   "source": [
    "## Масштабирование признаков"
   ]
  },
  {
   "cell_type": "code",
   "execution_count": 102,
   "metadata": {
    "colab": {},
    "colab_type": "code",
    "id": "_n6il-AZaLuA"
   },
   "outputs": [],
   "source": [
    "# К признаку стажа добавим новые признаки\n",
    "X = np.array([[1, 1, 1, 1, 1, 1, 1, 1, 1, 1],\n",
    "              [1, 1, 2, 1, 3, 0, 5, 10, 1, 2],  # стаж репетитора\n",
    "              [500, 700, 750, 600, 1450,        # средняя стоимость занятия\n",
    "               800, 1500, 2000, 450, 1000],\n",
    "              [1, 1, 2, 1, 2, 1, 3, 3, 1, 2]]).T  # квалификация репетитора\n",
    "               \n",
    "y = [45, 55, 50, 59, 65, 35, 75, 80, 50, 60]    # средний балл ЕГЭ (целевая переменная)"
   ]
  },
  {
   "cell_type": "code",
   "execution_count": 103,
   "metadata": {},
   "outputs": [
    {
     "data": {
      "text/plain": [
       "array([3.98828270e+01, 2.18657683e+00, 2.94591674e-03, 5.27047320e+00])"
      ]
     },
     "execution_count": 103,
     "metadata": {},
     "output_type": "execute_result"
    }
   ],
   "source": [
    "# веса по МНК\n",
    "w = np.linalg.inv(X.T @ X) @ X.T @ y\n",
    "w"
   ]
  },
  {
   "cell_type": "code",
   "execution_count": 104,
   "metadata": {},
   "outputs": [
    {
     "data": {
      "text/plain": [
       "(50.285793741586204, 55.55626694644788)"
      ]
     },
     "execution_count": 104,
     "metadata": {},
     "output_type": "execute_result"
    }
   ],
   "source": [
    "X_1 = [1, 1, 1000, 1]\n",
    "X_2 = [1, 1, 1000, 2]\n",
    "X_1 @ w, X_2 @ w"
   ]
  },
  {
   "cell_type": "markdown",
   "metadata": {},
   "source": [
    "### Нормализация [0, 1]"
   ]
  },
  {
   "cell_type": "code",
   "execution_count": 105,
   "metadata": {
    "colab": {
     "base_uri": "https://localhost:8080/",
     "height": 34
    },
    "colab_type": "code",
    "id": "Ei5qeZO_aT6m",
    "outputId": "fa5f34f5-dda6-4654-eceb-8fa6877723dc"
   },
   "outputs": [
    {
     "data": {
      "text/plain": [
       "(0, 10)"
      ]
     },
     "execution_count": 105,
     "metadata": {},
     "output_type": "execute_result"
    }
   ],
   "source": [
    "X[:, 1].min(), X[:, 1].max()"
   ]
  },
  {
   "cell_type": "code",
   "execution_count": 106,
   "metadata": {
    "colab": {
     "base_uri": "https://localhost:8080/",
     "height": 34
    },
    "colab_type": "code",
    "id": "L7wsW1Q7b4Ts",
    "outputId": "3e75a3c2-eb7b-4513-af0a-0fe07b58890a"
   },
   "outputs": [
    {
     "data": {
      "text/plain": [
       "(450, 2000)"
      ]
     },
     "execution_count": 106,
     "metadata": {},
     "output_type": "execute_result"
    }
   ],
   "source": [
    "X[:, 2].min(), X[:, 2].max()"
   ]
  },
  {
   "cell_type": "code",
   "execution_count": 107,
   "metadata": {
    "colab": {
     "base_uri": "https://localhost:8080/",
     "height": 155
    },
    "colab_type": "code",
    "id": "E55S9Bzob9Xa",
    "outputId": "640d733b-404c-49cc-9763-6c8cf156c30e"
   },
   "outputs": [
    {
     "data": {
      "text/plain": [
       "array([[1.00e+00, 1.00e+00, 5.00e+02, 1.00e+00],\n",
       "       [1.00e+00, 1.00e+00, 7.00e+02, 1.00e+00],\n",
       "       [1.00e+00, 2.00e+00, 7.50e+02, 2.00e+00],\n",
       "       [1.00e+00, 1.00e+00, 6.00e+02, 1.00e+00],\n",
       "       [1.00e+00, 3.00e+00, 1.45e+03, 2.00e+00],\n",
       "       [1.00e+00, 0.00e+00, 8.00e+02, 1.00e+00],\n",
       "       [1.00e+00, 5.00e+00, 1.50e+03, 3.00e+00],\n",
       "       [1.00e+00, 1.00e+01, 2.00e+03, 3.00e+00],\n",
       "       [1.00e+00, 1.00e+00, 4.50e+02, 1.00e+00],\n",
       "       [1.00e+00, 2.00e+00, 1.00e+03, 2.00e+00]])"
      ]
     },
     "execution_count": 107,
     "metadata": {},
     "output_type": "execute_result"
    }
   ],
   "source": [
    "X_norm = X.copy()\n",
    "X_norm = X_norm.astype(np.float64)\n",
    "X_norm"
   ]
  },
  {
   "cell_type": "markdown",
   "metadata": {},
   "source": [
    "$$x_{ij} = \\frac{x_{ij} - min_{j} (x_{ij})}{max_{j} (x_{ij})-min_{j} (x_{ij})}$$"
   ]
  },
  {
   "cell_type": "code",
   "execution_count": 108,
   "metadata": {
    "colab": {
     "base_uri": "https://localhost:8080/",
     "height": 155
    },
    "colab_type": "code",
    "id": "7x-6IuPOcIo0",
    "outputId": "358cc945-0d0b-43c4-eb84-91b902fab2d9"
   },
   "outputs": [
    {
     "data": {
      "text/plain": [
       "array([0.1, 0.1, 0.2, 0.1, 0.3, 0. , 0.5, 1. , 0.1, 0.2])"
      ]
     },
     "execution_count": 108,
     "metadata": {},
     "output_type": "execute_result"
    }
   ],
   "source": [
    "X_norm[:, 1] = (X[:, 1] - X[:, 1].min()) / (X[:, 1].max() - X[:, 1].min())\n",
    "X_norm[:, 1]"
   ]
  },
  {
   "cell_type": "code",
   "execution_count": 109,
   "metadata": {
    "colab": {
     "base_uri": "https://localhost:8080/",
     "height": 155
    },
    "colab_type": "code",
    "id": "izkMRdXFcjyK",
    "outputId": "c663a777-7eac-466c-ff56-a76087f3b90b"
   },
   "outputs": [
    {
     "data": {
      "text/plain": [
       "array([0.03225806, 0.16129032, 0.19354839, 0.09677419, 0.64516129,\n",
       "       0.22580645, 0.67741935, 1.        , 0.        , 0.35483871])"
      ]
     },
     "execution_count": 109,
     "metadata": {},
     "output_type": "execute_result"
    }
   ],
   "source": [
    "X_norm[:, 2] = (X[:, 2] - X[:, 2].min()) / (X[:, 2].max() - X[:, 2].min())\n",
    "X_norm[:, 2]"
   ]
  },
  {
   "cell_type": "markdown",
   "metadata": {
    "colab": {},
    "colab_type": "code",
    "id": "Zy63bpFfeqzu"
   },
   "source": [
    "### Стандартизация"
   ]
  },
  {
   "cell_type": "code",
   "execution_count": 110,
   "metadata": {
    "colab": {
     "base_uri": "https://localhost:8080/",
     "height": 317
    },
    "colab_type": "code",
    "id": "8i9pB-3-fMD4",
    "outputId": "4a249998-968a-4862-b18c-68a32825c0b9"
   },
   "outputs": [
    {
     "data": {
      "image/png": "[encoded data removed]",
      "text/plain": [
       "<Figure size 432x288 with 1 Axes>"
      ]
     },
     "metadata": {
      "needs_background": "light"
     },
     "output_type": "display_data"
    }
   ],
   "source": [
    "plt.hist(X[:, 1]);"
   ]
  },
  {
   "cell_type": "code",
   "execution_count": 111,
   "metadata": {
    "colab": {
     "base_uri": "https://localhost:8080/",
     "height": 334
    },
    "colab_type": "code",
    "id": "-bnAYQqVfRX-",
    "outputId": "3fbece7c-6155-4688-e12f-725c1a3e0b8a"
   },
   "outputs": [
    {
     "data": {
      "image/png": "[encoded data removed]",
      "text/plain": [
       "<Figure size 432x288 with 1 Axes>"
      ]
     },
     "metadata": {
      "needs_background": "light"
     },
     "output_type": "display_data"
    }
   ],
   "source": [
    "plt.hist(X[:, 2]);"
   ]
  },
  {
   "cell_type": "markdown",
   "metadata": {},
   "source": [
    "$$s_{ij}=\\frac{x_{ij} - \\mu_{j}}{\\sigma_{j}}$$"
   ]
  },
  {
   "cell_type": "code",
   "execution_count": 112,
   "metadata": {
    "colab": {},
    "colab_type": "code",
    "id": "M57-Pzl_f_rF"
   },
   "outputs": [
    {
     "data": {
      "text/plain": [
       "array([-0.57142857, -0.57142857, -0.21428571, -0.57142857,  0.14285714,\n",
       "       -0.92857143,  0.85714286,  2.64285714, -0.57142857, -0.21428571])"
      ]
     },
     "execution_count": 112,
     "metadata": {},
     "output_type": "execute_result"
    }
   ],
   "source": [
    "X_st = X.copy().astype(np.float64)\n",
    "\n",
    "X_st[:, 1] = (X[:, 1] - X[:, 1].mean()) / X[:, 1].std()\n",
    "X_st[:, 1]"
   ]
  },
  {
   "cell_type": "code",
   "execution_count": 113,
   "metadata": {},
   "outputs": [
    {
     "data": {
      "text/plain": [
       "(3.3306690738754695e-17, 1.0)"
      ]
     },
     "execution_count": 113,
     "metadata": {},
     "output_type": "execute_result"
    }
   ],
   "source": [
    "X_st[:, 1].mean(), X_st[:, 1].std()"
   ]
  },
  {
   "cell_type": "code",
   "execution_count": 114,
   "metadata": {
    "colab": {
     "base_uri": "https://localhost:8080/",
     "height": 351
    },
    "colab_type": "code",
    "id": "-Y1tzWGCgYjA",
    "outputId": "93a187e9-639c-4d86-a3e0-5a474c0572b1"
   },
   "outputs": [
    {
     "data": {
      "image/png": "[encoded data removed]",
      "text/plain": [
       "<Figure size 432x288 with 1 Axes>"
      ]
     },
     "metadata": {
      "needs_background": "light"
     },
     "output_type": "display_data"
    }
   ],
   "source": [
    "plt.hist(X_st[:, 1]);"
   ]
  },
  {
   "cell_type": "code",
   "execution_count": 115,
   "metadata": {
    "colab": {},
    "colab_type": "code",
    "id": "ZlJUBOyzgkJV"
   },
   "outputs": [],
   "source": [
    "def calc_std_feat(x):\n",
    "    s = (x - x.mean()) / x.std()\n",
    "    return s"
   ]
  },
  {
   "cell_type": "code",
   "execution_count": 116,
   "metadata": {
    "colab": {},
    "colab_type": "code",
    "id": "6PlDlFY0hGZA"
   },
   "outputs": [
    {
     "name": "stdout",
     "output_type": "stream",
     "text": [
      "[-0.97958969 -0.56713087 -0.46401617 -0.77336028  0.97958969 -0.36090146\n",
      "  1.08270439  2.11385144 -1.08270439  0.05155735]\n",
      "[-0.89625816 -0.89625816  0.38411064 -0.89625816  0.38411064 -0.89625816\n",
      "  1.66447944  1.66447944 -0.89625816  0.38411064]\n"
     ]
    }
   ],
   "source": [
    "X_st[:, 2] = calc_std_feat(X[:, 2])\n",
    "X_st[:, 3] = calc_std_feat(X[:, 3])\n",
    "print(X_st[:, 2])\n",
    "print(X_st[:, 3])"
   ]
  },
  {
   "cell_type": "code",
   "execution_count": 117,
   "metadata": {},
   "outputs": [
    {
     "data": {
      "image/png": "[encoded data removed]",
      "text/plain": [
       "<Figure size 432x288 with 1 Axes>"
      ]
     },
     "metadata": {
      "needs_background": "light"
     },
     "output_type": "display_data"
    }
   ],
   "source": [
    "plt.hist(X_st[:, 2]);"
   ]
  },
  {
   "cell_type": "code",
   "execution_count": 118,
   "metadata": {
    "colab": {},
    "colab_type": "code",
    "id": "VDpN7UxYnrcS"
   },
   "outputs": [],
   "source": [
    "def calc_mse(y, y_pred):\n",
    "    err = np.mean((y - y_pred)**2)\n",
    "    return err\n",
    "\n",
    "# Метод градиентного спуска\n",
    "def eval_GD(X, y, iterations, alpha=1e-4, show=False):\n",
    "    np.random.seed(42)\n",
    "    w = np.random.randn(X.shape[1])\n",
    "    n = X.shape[0]\n",
    "    err_list = []\n",
    "    for i in range(1, iterations + 1):\n",
    "        y_pred = np.dot(X, w)\n",
    "        err = calc_mse(y, y_pred)\n",
    "        err_list.append(err)\n",
    "        w -= alpha * (1/n * 2 * np.dot((y_pred - y), X))\n",
    "        if i % (iterations / 10) == 0:\n",
    "            print(i, w, err)\n",
    "    if show == True:\n",
    "        return err_list\n",
    "    else:\n",
    "        return w"
   ]
  },
  {
   "cell_type": "code",
   "execution_count": 119,
   "metadata": {},
   "outputs": [
    {
     "data": {
      "text/plain": [
       "array([57.4       ,  6.12241513,  1.42846588,  4.11637116])"
      ]
     },
     "execution_count": 119,
     "metadata": {},
     "output_type": "execute_result"
    }
   ],
   "source": [
    "np.linalg.inv(X_st.T @ X_st) @ X_st.T @ y"
   ]
  },
  {
   "cell_type": "code",
   "execution_count": 120,
   "metadata": {
    "colab": {
     "base_uri": "https://localhost:8080/",
     "height": 207
    },
    "colab_type": "code",
    "id": "4nsYMAGjmFlB",
    "outputId": "71a5878c-8bcd-4d73-9f43-2df2b94ecd81"
   },
   "outputs": [
    {
     "name": "stdout",
     "output_type": "stream",
     "text": [
      "MSE для МНК для данных после стандартизации \t- 39.777746035558316\n",
      "\n",
      "MSE для МНК для данных БЕЗ стандартизации \t- 39.77774603555831\n",
      "\n",
      "150 [54.6517977   3.93619295  3.32277184  4.38532407] 48.50975036735786\n",
      "300 [57.26727276  4.55529967  2.89027948  4.20488959] 40.2568881963691\n",
      "450 [57.3935898   4.99245761  2.55431791  4.1072208 ] 40.02700920102978\n",
      "600 [57.39969041  5.30327372  2.29437853  4.05919065] 39.91468961744933\n",
      "750 [57.39998505  5.52555085  2.09368278  4.03988293] 39.85398827258408\n",
      "900 [57.39999928  5.6854157   1.93900185  4.03650044] 39.820644308603235\n",
      "1050 [57.39999997  5.80102512  1.81996261  4.04134839] 39.80208512858156\n",
      "1200 [57.4         5.8850695   1.72846716  4.0499101 ] 39.79164482320059\n",
      "1350 [57.4         5.94647036  1.65821673  4.05962582] 39.78572228821726\n",
      "1500 [57.4         5.99153676  1.60432664  4.06912267] 39.78234065772863\n",
      "MSE для метода градиентного спуска для данных после стандартизации - 39.78232384079615\n",
      "\n",
      "150 [nan nan nan nan] nan\n",
      "300 [nan nan nan nan] nan\n",
      "450 [nan nan nan nan] nan\n",
      "600 [nan nan nan nan] nan\n",
      "750 [nan nan nan nan] nan\n",
      "900 [nan nan nan nan] nan\n",
      "1050 [nan nan nan nan] nan\n",
      "1200 [nan nan nan nan] nan\n",
      "1350 [nan nan nan nan] nan\n",
      "1500 [nan nan nan nan] nan\n",
      "MSE для метода градиентного спуска для данных БЕЗ стандартизации - nan\n",
      "\n"
     ]
    },
    {
     "name": "stderr",
     "output_type": "stream",
     "text": [
      "/var/folders/lw/sfx9kxt17jj8cb5s59ll44q80000gp/T/ipykernel_15750/1461585088.py:2: RuntimeWarning: overflow encountered in square\n",
      "  err = np.mean((y - y_pred)**2)\n",
      "/var/folders/lw/sfx9kxt17jj8cb5s59ll44q80000gp/T/ipykernel_15750/1461585088.py:15: RuntimeWarning: invalid value encountered in subtract\n",
      "  w -= alpha * (1/n * 2 * np.dot((y_pred - y), X))\n"
     ]
    }
   ],
   "source": [
    "w_sq_st = np.linalg.inv(X_st.T @ X_st) @ X_st.T @ y\n",
    "y_pred = np.dot(X_st, w_sq_st)\n",
    "err_sq = calc_mse(y, y_pred)\n",
    "print(f'MSE для МНК для данных после стандартизации \\t- {err_sq}\\n')\n",
    "\n",
    "w_sq = np.linalg.inv(X.T @ X) @ X.T @ y\n",
    "y_pred = np.dot(X, w_sq)\n",
    "err = calc_mse(y, y_pred)\n",
    "print(f'MSE для МНК для данных БЕЗ стандартизации \\t- {err}\\n')\n",
    "\n",
    "w_gd_st = eval_GD(X_st, y, iterations=1500, alpha=1e-2)\n",
    "y_pred = np.dot(X_st, w_gd_st)\n",
    "err_st = calc_mse(y, y_pred)\n",
    "print(f'MSE для метода градиентного спуска для данных после стандартизации - {err_st}\\n')\n",
    "\n",
    "# Градиентный спуск на данных без стандартизации не сходится! \n",
    "w_gd = eval_GD(X, y, iterations=1500, alpha=1e-2)\n",
    "y_pred = np.dot(X, w_gd)\n",
    "err_gd = calc_mse(y, y_pred)\n",
    "print(f'MSE для метода градиентного спуска для данных БЕЗ стандартизации - {err_gd}\\n')"
   ]
  },
  {
   "cell_type": "markdown",
   "metadata": {},
   "source": [
    "## Стохастический градиентный спуск и mini-batch градиентный спуск\n",
    "\n",
    "На каждом шаге итерации градиентный спуск вычисляет градиенты для всего обучающего набора, стохастический градиентный спуск вычисляет градиент для одного объекта, а mini-batch градиентный спуск будет случайно отбирать небольшой набор данных (batch) и по ним вычислять градиент."
   ]
  },
  {
   "cell_type": "code",
   "execution_count": 121,
   "metadata": {},
   "outputs": [],
   "source": [
    "# SGD - стохастический градиентный спуск\n",
    "def eval_SGD(X, y, iterations, alpha=1e-4, show=False):\n",
    "    np.random.seed(42)\n",
    "    w = np.random.randn(X.shape[1]) # начальное приближение весов\n",
    "    n = X.shape[0] # число наблюдений\n",
    "    err_list = []\n",
    "    for i in range(1, iterations + 1):\n",
    "        err = calc_mse(y, np.dot(X, w))\n",
    "        err_list.append(err)\n",
    "        # генерируем случайный индекс объекта выборки\n",
    "        ind = np.random.randint(n)\n",
    "        y_pred = np.dot(X[ind], w)\n",
    "        w -= alpha * (2 * np.dot((y_pred - y[ind]), X[ind]))\n",
    "        if i % (iterations / 10) == 0:\n",
    "            print(i, w, err)\n",
    "    if show == True:\n",
    "        return err_list\n",
    "    else:\n",
    "        return w, err"
   ]
  },
  {
   "cell_type": "code",
   "execution_count": 122,
   "metadata": {
    "colab": {},
    "colab_type": "code",
    "id": "nCcMmNdQmxDp"
   },
   "outputs": [],
   "source": [
    "# 26.995611345195748\n",
    "def eval_mbGD(X, y, iterations, batch=1, alpha=1e-4, show=False):\n",
    "    np.random.seed(42)\n",
    "    w = np.random.randn(X.shape[1]) # начальное приближение весов\n",
    "    n = X.shape[0] # число наблюдений\n",
    "    n_batch = n // batch\n",
    "    print('Количество батчей - ', n_batch)\n",
    "    if n % batch != 0:\n",
    "        n_batch += 1\n",
    "    err_list = []    \n",
    "    for i in range(1, iterations + 1):\n",
    "        err = calc_mse(y, np.dot(X, w))\n",
    "        err_list.append(err)\n",
    "        for b in range(n_batch):\n",
    "            start_ = batch * b\n",
    "            end_ = batch * (b + 1)\n",
    "            X_b = X[start_ : end_, :]\n",
    "            y_b = y[start_ : end_]\n",
    "            y_pred = np.dot(X_b, w)\n",
    "            w -= alpha * (2/len(y_b) * np.dot((y_pred - y_b), X_b))\n",
    "        if i % (iterations / 10) == 0:\n",
    "            print(i, w, err)\n",
    "    if show == True:\n",
    "        return err_list\n",
    "    else:\n",
    "        return w, err"
   ]
  },
  {
   "cell_type": "code",
   "execution_count": 123,
   "metadata": {},
   "outputs": [
    {
     "name": "stdout",
     "output_type": "stream",
     "text": [
      "100 [10.82085913  1.29195795  1.98348488  2.85162983] 2248.0687649833903\n",
      "200 [19.27186149  2.14047528  2.7330693   3.60356199] 1510.2342373891095\n",
      "300 [26.18957149  2.65450377  3.14650922  4.02491826] 1022.3117228222378\n",
      "400 [31.85217926  2.97593535  3.36731266  4.25691776] 697.4953996732185\n",
      "500 [36.48740201  3.18621662  3.47783381  4.380594  ] 480.53723685247013\n",
      "600 [40.28164149  3.33210452  3.52533114  4.4424407 ] 335.3786903208636\n",
      "700 [43.38747997  3.44044741  3.53692186  4.46912965] 238.17499151935831\n",
      "800 [45.92981625  3.52666784  3.52816434  4.4759573 ] 173.05307208407038\n",
      "900 [48.01088834  3.59963079  3.50798339  4.47169216] 129.4114395039912\n",
      "1000 [49.71438487  3.66443755  3.48149699  4.4613567 ] 100.15781666892352\n",
      "CPU times: user 77.8 ms, sys: 18.6 ms, total: 96.4 ms\n",
      "Wall time: 110 ms\n"
     ]
    },
    {
     "data": {
      "text/plain": [
       "array([49.71438487,  3.66443755,  3.48149699,  4.4613567 ])"
      ]
     },
     "execution_count": 123,
     "metadata": {},
     "output_type": "execute_result"
    }
   ],
   "source": [
    "%%time\n",
    "\n",
    "eval_GD(X_st, y, iterations=1000, alpha=1e-3)"
   ]
  },
  {
   "cell_type": "code",
   "execution_count": 124,
   "metadata": {},
   "outputs": [
    {
     "name": "stdout",
     "output_type": "stream",
     "text": [
      "100 [11.09673045  2.76640986  3.09785138  4.05453675] 2198.8260418322543\n",
      "200 [19.40970234  2.86400447  3.09542826  4.41261566] 1489.2685911460044\n",
      "300 [26.17509739  3.11438104  2.58040039  4.09774734] 1023.6032132506491\n",
      "400 [31.81702081  3.52542922  3.12340955  4.91301949] 698.280881085139\n",
      "500 [36.60993144  3.44836722  3.08448844  5.056057  ] 475.87491472215333\n",
      "600 [40.30217517  3.07591389  2.79879237  4.97630842] 334.73121001431434\n",
      "700 [43.25459714  3.16236038  3.0582185   5.02397079] 241.43930064205966\n",
      "800 [45.76168692  3.39544823  3.18838517  5.19073598] 177.1779186488138\n",
      "900 [47.76897074  3.42737814  3.03692328  4.92938277] 134.3585635124187\n",
      "1000 [49.48646635  3.6879653   3.15768445  4.99102713] 104.15396824710633\n",
      "CPU times: user 94.1 ms, sys: 21.9 ms, total: 116 ms\n",
      "Wall time: 113 ms\n"
     ]
    },
    {
     "data": {
      "text/plain": [
       "(array([49.48646635,  3.6879653 ,  3.15768445,  4.99102713]),\n",
       " 104.15396824710633)"
      ]
     },
     "execution_count": 124,
     "metadata": {},
     "output_type": "execute_result"
    }
   ],
   "source": [
    "%%time\n",
    "\n",
    "eval_SGD(X_st, y, iterations=1000, alpha=1e-3) "
   ]
  },
  {
   "cell_type": "code",
   "execution_count": 125,
   "metadata": {
    "colab": {
     "base_uri": "https://localhost:8080/",
     "height": 207
    },
    "colab_type": "code",
    "id": "2aXap4Vsm3GV",
    "outputId": "af0f4e17-d075-47e7-c848-44c637dadb67"
   },
   "outputs": [
    {
     "name": "stdout",
     "output_type": "stream",
     "text": [
      "Количество батчей -  1\n",
      "100 [10.82085913  1.29195795  1.98348488  2.85162983] 2248.0687649833903\n",
      "200 [19.27186149  2.14047528  2.7330693   3.60356199] 1510.2342373891095\n",
      "300 [26.18957149  2.65450377  3.14650922  4.02491826] 1022.3117228222378\n",
      "400 [31.85217926  2.97593535  3.36731266  4.25691776] 697.4953996732185\n",
      "500 [36.48740201  3.18621662  3.47783381  4.380594  ] 480.53723685247013\n",
      "600 [40.28164149  3.33210452  3.52533114  4.4424407 ] 335.3786903208636\n",
      "700 [43.38747997  3.44044741  3.53692186  4.46912965] 238.17499151935831\n",
      "800 [45.92981625  3.52666784  3.52816434  4.4759573 ] 173.05307208407038\n",
      "900 [48.01088834  3.59963079  3.50798339  4.47169216] 129.4114395039912\n",
      "1000 [49.71438487  3.66443755  3.48149699  4.4613567 ] 100.15781666892352\n",
      "CPU times: user 94 ms, sys: 29.4 ms, total: 123 ms\n",
      "Wall time: 122 ms\n"
     ]
    },
    {
     "data": {
      "text/plain": [
       "(array([49.71438487,  3.66443755,  3.48149699,  4.4613567 ]),\n",
       " 100.15781666892352)"
      ]
     },
     "execution_count": 125,
     "metadata": {},
     "output_type": "execute_result"
    }
   ],
   "source": [
    "%%time\n",
    "\n",
    "eval_mbGD(X_st, y, iterations=1000, batch=10, alpha=1e-3) "
   ]
  },
  {
   "cell_type": "markdown",
   "metadata": {},
   "source": [
    "## Регуляризация"
   ]
  },
  {
   "cell_type": "markdown",
   "metadata": {
    "colab": {},
    "colab_type": "code",
    "id": "DYTxT_6OrZpe"
   },
   "source": [
    "### L1 регуляризация - Lasso"
   ]
  },
  {
   "cell_type": "markdown",
   "metadata": {},
   "source": [
    "$$\\sum^{n}_{i=1}L_i(\\vec{x}_i,{y_i},\\vec{w}) + \\lambda \\sum^{m}_{j=1}|w_{j}| \\rightarrow \\underset{w}{\\text{min}}$$"
   ]
  },
  {
   "cell_type": "markdown",
   "metadata": {
    "colab": {},
    "colab_type": "code",
    "id": "j38vId7Hvtg0"
   },
   "source": [
    "### L2 регуляризация - Ridge"
   ]
  },
  {
   "cell_type": "markdown",
   "metadata": {},
   "source": [
    "$$\\sum^{n}_{i=1}L_i(\\vec{x}_i,y_i,\\vec{w}) + \\lambda \\sum^{m}_{j=1}w_{j}^{2} \\rightarrow \\underset{w}{\\text{min}}$$"
   ]
  },
  {
   "cell_type": "code",
   "execution_count": 126,
   "metadata": {
    "colab": {},
    "colab_type": "code",
    "id": "7AVoe1Mswjni"
   },
   "outputs": [],
   "source": [
    "def eval_model_reg2(X, y, iterations, alpha=1e-4, lambda_=1e-8, verbose=False):\n",
    "    np.random.seed(42)\n",
    "    w = np.random.randn(X.shape[1])\n",
    "    n = X.shape[0]\n",
    "    for i in range(1, iterations + 1):\n",
    "        y_pred = np.dot(X, w)\n",
    "        err = calc_mse(y, y_pred)\n",
    "        w -= alpha * (1/n * 2 * np.dot((y_pred - y), X) + 2 * lambda_ * w)\n",
    "        if verbose and i % (iterations / 10) == 0:\n",
    "            print(i, w, err)\n",
    "    return w"
   ]
  },
  {
   "cell_type": "code",
   "execution_count": 127,
   "metadata": {
    "colab": {
     "base_uri": "https://localhost:8080/",
     "height": 207
    },
    "colab_type": "code",
    "id": "vLJL6j8Lw6OA",
    "outputId": "84591f9f-2c7d-42fc-f2e2-5d2614be6113"
   },
   "outputs": [
    {
     "name": "stdout",
     "output_type": "stream",
     "text": [
      "100 [10.82085913  1.29195795  1.98348488  2.85162983] 2248.0687649833903\n",
      "200 [19.27186149  2.14047528  2.7330693   3.60356199] 1510.2342373891095\n",
      "300 [26.18957149  2.65450377  3.14650922  4.02491826] 1022.3117228222378\n",
      "400 [31.85217926  2.97593535  3.36731266  4.25691776] 697.4953996732185\n",
      "500 [36.48740201  3.18621662  3.47783381  4.380594  ] 480.53723685247013\n",
      "600 [40.28164149  3.33210452  3.52533114  4.4424407 ] 335.3786903208636\n",
      "700 [43.38747997  3.44044741  3.53692186  4.46912965] 238.17499151935831\n",
      "800 [45.92981625  3.52666784  3.52816434  4.4759573 ] 173.05307208407038\n",
      "900 [48.01088834  3.59963079  3.50798339  4.47169216] 129.4114395039912\n",
      "1000 [49.71438487  3.66443755  3.48149699  4.4613567 ] 100.15781666892352\n"
     ]
    },
    {
     "data": {
      "text/plain": [
       "array([49.71438487,  3.66443755,  3.48149699,  4.4613567 ])"
      ]
     },
     "execution_count": 127,
     "metadata": {},
     "output_type": "execute_result"
    }
   ],
   "source": [
    "eval_model_reg2(X_st, y, iterations=1000, alpha=1e-3, lambda_=0, verbose=True)"
   ]
  },
  {
   "cell_type": "markdown",
   "metadata": {},
   "source": [
    "Веса без регуляризации: [49.71438487,  3.66443755,  3.48149699,  4.4613567 ]"
   ]
  },
  {
   "cell_type": "markdown",
   "metadata": {},
   "source": [
    "Визуализируем изменение весов при изменении коэффициента регуляризации."
   ]
  },
  {
   "cell_type": "code",
   "execution_count": 128,
   "metadata": {},
   "outputs": [],
   "source": [
    "w_list = []\n",
    "l_list = []\n",
    "error_list = []\n",
    "\n",
    "for l in np.logspace(start=-4, stop=1, num=20):\n",
    "    l_list.append(l)\n",
    "    w_new = eval_model_reg2(X_st, y, iterations=1000, alpha=1e-2, lambda_=l)\n",
    "    w_list.append(w_new)\n",
    "    error_list.append(calc_mse(y, np.dot(X_st, w_new)))\n",
    "weights = np.array(w_list)\n",
    "errors = np.array(error_list)"
   ]
  },
  {
   "cell_type": "code",
   "execution_count": 129,
   "metadata": {},
   "outputs": [
    {
     "data": {
      "image/png": "[encoded data removed]",
      "text/plain": [
       "<Figure size 720x360 with 1 Axes>"
      ]
     },
     "metadata": {
      "needs_background": "light"
     },
     "output_type": "display_data"
    }
   ],
   "source": [
    "plt.figure(figsize=(10, 5))\n",
    "plt.xscale('log')\n",
    "#plt.plot(l_list, weights[:, 0], 'mo-', label=r'$w_0$')\n",
    "plt.plot(l_list, weights[:, 1], 'go-', label=r'$w_1$')\n",
    "plt.plot(l_list, weights[:, 2], 'ro-', label=r'$w_2$')\n",
    "plt.plot(l_list, weights[:, 3], 'bo-', label=r'$w_3$')\n",
    "plt.xlabel('Коэффициент регуляризации (для L2)')\n",
    "plt.ylabel('Веса')\n",
    "plt.grid()\n",
    "plt.legend();"
   ]
  },
  {
   "cell_type": "code",
   "execution_count": 130,
   "metadata": {},
   "outputs": [
    {
     "data": {
      "image/png": "[encoded data removed]",
      "text/plain": [
       "<Figure size 720x360 with 1 Axes>"
      ]
     },
     "metadata": {
      "needs_background": "light"
     },
     "output_type": "display_data"
    }
   ],
   "source": [
    "plt.figure(figsize=(10, 5))\n",
    "plt.xscale('log')\n",
    "plt.plot(l_list, errors, 'o-')\n",
    "plt.xlabel('Коэффициент регуляризации (для L2)')\n",
    "plt.ylabel('MSE')\n",
    "plt.grid();"
   ]
  },
  {
   "cell_type": "markdown",
   "metadata": {},
   "source": [
    "## Домашние задания"
   ]
  },
  {
   "cell_type": "markdown",
   "metadata": {},
   "source": [
    "1. Сгенерировать датасет при помощи `sklearn.datasets.make_regression` и обучить линейную модель при помощи градиентного спуска и  стохастического градиентного спуска. Построить графики среднеквадратичной ошибки от числа итераций для обоих методов на одном рисунке, сделать выводы о разнице скорости сходимости каждого из методов.\n",
    "2. [\\*] Добавить в алгоритм градиентного спуска L1 регуляризацию. Сравнить влияние коэффициентов регуляризации L1 и L2 на величину весов (лучше графически).  \n"
   ]
  },
  {
   "cell_type": "code",
   "execution_count": 131,
   "metadata": {},
   "outputs": [],
   "source": [
    "from sklearn import datasets\n",
    "\n",
    "X_, y_, coef = datasets.make_regression(n_samples=1000, \n",
    "                                      n_features=10, \n",
    "                                      n_informative=3, \n",
    "                                      n_targets=1,\n",
    "                                      noise=5, \n",
    "                                      coef=True, \n",
    "                                      random_state=42)"
   ]
  },
  {
   "cell_type": "markdown",
   "metadata": {},
   "source": [
    "Методичка https://colab.research.google.com/drive/1nEC_D2y-maMuvbN-5iYFAjzLUw0eGOir"
   ]
  },
  {
   "cell_type": "code",
   "execution_count": 132,
   "metadata": {},
   "outputs": [
    {
     "data": {
      "text/plain": [
       "array([ 0.        ,  7.18075454, 10.30191944, 32.12551734,  0.        ,\n",
       "        0.        ,  0.        ,  0.        ,  0.        ,  0.        ])"
      ]
     },
     "execution_count": 132,
     "metadata": {},
     "output_type": "execute_result"
    }
   ],
   "source": [
    "coef"
   ]
  },
  {
   "cell_type": "code",
   "execution_count": 133,
   "metadata": {},
   "outputs": [],
   "source": [
    "def show_coef(coef):\n",
    "    round_coef = []\n",
    "    for i in coef:\n",
    "        i = round(i, 4)\n",
    "        round_coef.append(i)\n",
    "    return  round_coef  "
   ]
  },
  {
   "cell_type": "code",
   "execution_count": 134,
   "metadata": {},
   "outputs": [
    {
     "name": "stdout",
     "output_type": "stream",
     "text": [
      "100 [ 0.30596255  1.30048733  2.51171041  7.22090886 -0.34546743 -0.06808626\n",
      "  1.2163988   0.48110829 -0.49877396  0.42027249] 774.3006371432413\n",
      "200 [ 0.17006585  2.45937157  4.01314555 11.85936208 -0.4149335   0.05235126\n",
      "  0.93049658  0.28092283 -0.50890083  0.33183591] 519.7958758428306\n",
      "300 [ 0.07521932  3.39251836  5.22229841 15.6360201  -0.45359842  0.13797097\n",
      "  0.70606975  0.14451733 -0.5056356   0.26877786] 351.8057313308904\n",
      "400 [ 1.08650201e-02  4.14363341e+00  6.19587421e+00  1.87115372e+01\n",
      " -4.69947652e-01  1.97197452e-01  5.30647241e-01  5.49219554e-02\n",
      " -4.93320598e-01  2.24626473e-01] 240.86910075095778\n",
      "500 [-3.10418453e-02  4.74799910e+00  6.97960481e+00  2.12165279e+01\n",
      " -4.70461116e-01  2.36582319e-01  3.94176323e-01 -6.85988964e-04\n",
      " -4.75188161e-01  1.94455688e-01] 167.57360596980715\n",
      "600 [-0.05660506  5.23409236  7.61036828 23.25719964 -0.46005302  0.26120058\n",
      "  0.28857222 -0.03194709 -0.45361738  0.17453111] 119.12300714609275\n",
      "700 [-0.07043291  5.62489246  8.11789956 24.91992613 -0.4424193   0.27496579\n",
      "  0.20734819 -0.04606726 -0.43033456  0.16203471] 87.07879830868782\n",
      "800 [-0.07598456  5.93893829  8.52617109 26.27496176 -0.42031157  0.28088022\n",
      "  0.1453124  -0.0483956  -0.40656936  0.15485114] 65.87380967827578\n",
      "900 [-0.0758389   6.19118286  8.85450706 27.37945868 -0.39575264  0.28123321\n",
      "  0.09832003 -0.0428702  -0.38317592  0.15140222] 51.833562589867014\n",
      "1000 [-0.07190288  6.39368384  9.11848247 28.27991751 -0.37020575  0.27775804\n",
      "  0.063071   -0.03236137 -0.3607268   0.15051902] 42.53168992450937\n"
     ]
    }
   ],
   "source": [
    "gd = eval_GD(X_, y_, iterations=1000, alpha=1e-3)"
   ]
  },
  {
   "cell_type": "code",
   "execution_count": 135,
   "metadata": {},
   "outputs": [
    {
     "data": {
      "text/plain": [
       "array([-0.07190288,  6.39368384,  9.11848247, 28.27991751, -0.37020575,\n",
       "        0.27775804,  0.063071  , -0.03236137, -0.3607268 ,  0.15051902])"
      ]
     },
     "execution_count": 135,
     "metadata": {},
     "output_type": "execute_result"
    }
   ],
   "source": [
    "gd"
   ]
  },
  {
   "cell_type": "code",
   "execution_count": 136,
   "metadata": {},
   "outputs": [
    {
     "name": "stdout",
     "output_type": "stream",
     "text": [
      "[-0.0719, 6.3937, 9.1185, 28.2799, -0.3702, 0.2778, 0.0631, -0.0324, -0.3607, 0.1505]\n"
     ]
    }
   ],
   "source": [
    "print(show_coef(gd))"
   ]
  },
  {
   "cell_type": "code",
   "execution_count": 137,
   "metadata": {},
   "outputs": [
    {
     "name": "stdout",
     "output_type": "stream",
     "text": [
      "100 [ 0.21746844  1.7602708   1.47421753  8.62217799 -0.70957422  0.02571641\n",
      "  1.37986931  1.42903813  0.13179399  1.0708656 ] 719.8285663995921\n",
      "200 [ 0.39095596  3.44998926  3.74849537 12.30621291 -0.59261113  0.59281473\n",
      "  0.47840248 -0.23325422 -0.63721955  0.62370032] 493.03549734910297\n",
      "300 [ 0.24424148  3.44426762  4.88632703 16.47730737 -1.22199323  0.30371651\n",
      " -0.09259301 -0.17566727 -0.16956273  0.90524162] 326.2266006462754\n",
      "400 [ 0.74875426  4.66359959  5.95161023 19.88620252 -1.08642687  0.60237048\n",
      " -0.5320573  -0.50482426 -0.19680148  0.65511095] 208.93744115432162\n",
      "500 [ 0.51015414  5.32022456  6.59074545 22.50490526 -0.82971066  0.57994449\n",
      " -0.39254209 -0.50924689 -0.21433616  0.32136827] 140.2153101605467\n",
      "600 [ 0.17164879  6.06522567  7.01661371 24.06281816 -0.82203445  0.61950927\n",
      " -0.34990735 -0.3896893  -0.11723485  0.14825909] 105.73876567080399\n",
      "700 [ 0.28915604  6.17965864  7.3613397  25.59596361 -0.66403196  0.70690158\n",
      "  0.18132188 -0.52229348  0.1820962   0.18831877] 80.30336196732617\n",
      "800 [ 0.07407921  6.56983927  7.93826691 27.04438793 -0.81657389  0.65443623\n",
      "  0.2666293  -0.28489021  0.18270258  0.05555263] 58.81247210688413\n",
      "900 [-2.26975520e-03  6.77973621e+00  8.65566653e+00  2.79511637e+01\n",
      " -8.85437227e-01  5.54690609e-01  1.30586680e-01 -4.63703324e-01\n",
      "  2.73907296e-01  7.67192248e-02] 47.015255024999284\n",
      "1000 [ 0.06564202  6.83698201  9.10336677 28.89815973 -0.90776739  0.67538531\n",
      " -0.03881579 -0.18537692  0.36059366  0.30729994] 38.26404358816425\n"
     ]
    }
   ],
   "source": [
    "sgd = eval_SGD(X_, y_, iterations=1000, alpha=1e-3)"
   ]
  },
  {
   "cell_type": "code",
   "execution_count": 138,
   "metadata": {},
   "outputs": [
    {
     "name": "stdout",
     "output_type": "stream",
     "text": [
      "150 [ 2.32106113e-01  1.91125899e+00  3.30300383e+00  9.65925370e+00\n",
      " -3.84673580e-01 -2.90275980e-03  1.06487514e+00  3.71788658e-01\n",
      " -5.05834575e-01  3.72405376e-01] 633.873124500776\n",
      "300 [ 0.07521932  3.39251836  5.22229841 15.6360201  -0.45359842  0.13797097\n",
      "  0.70606975  0.14451733 -0.5056356   0.26877786] 351.8057313308904\n",
      "450 [-1.24731275e-02  4.46223730e+00  6.60897960e+00  2.00281965e+01\n",
      " -4.71844493e-01  2.19022337e-01  4.58089565e-01  2.35369798e-02\n",
      " -4.84815461e-01  2.08051269e-01] 200.44000363248395\n",
      "600 [-0.05660506  5.23409236  7.61036828 23.25719964 -0.46005302  0.26120058\n",
      "  0.28857222 -0.03194709 -0.45361738  0.17453111] 119.12300714609275\n",
      "750 [-0.07406415  5.79049986  8.33313756 25.63205741 -0.43178336  0.27874657\n",
      "  0.17421279 -0.04843067 -0.41845129  0.15788839] 75.38656089424607\n",
      "900 [-0.0758389   6.19118286  8.85450706 27.37945868 -0.39575264  0.28123321\n",
      "  0.09832003 -0.0428702  -0.38317592  0.15140222] 51.833562589867014\n",
      "1050 [-6.89661169e-02  6.47939644e+00  9.23035853e+00  2.86657496e+01\n",
      " -3.57399295e-01  2.75005559e-01  4.90087552e-02 -2.59093884e-02\n",
      " -3.49976447e-01  1.50761383e-01] 39.132953285578836\n",
      "1200 [-5.78574522e-02  6.68645014e+00  9.50111878e+00  2.96130397e+01\n",
      " -3.19968758e-01  2.64193317e-01  1.78691419e-02 -4.05572365e-03\n",
      " -3.19961048e-01  1.53250665e-01] 32.27465087613021\n",
      "1350 [-4.51983897e-02  6.83499225e+00  9.69602338e+00  3.03109990e+01\n",
      " -2.85262506e-01  2.51419190e-01 -1.00815236e-03  1.88602177e-02\n",
      " -2.93562750e-01  1.57201510e-01] 28.565594339397414\n",
      "1500 [-3.25540025e-02  6.94139422e+00  9.83620632e+00  3.08255002e+01\n",
      " -2.54150848e-01  2.38292014e-01 -1.17430031e-02  4.07131139e-02\n",
      " -2.70807117e-01  1.61623363e-01] 26.556460148301014\n"
     ]
    }
   ],
   "source": [
    "gd_err = gd = eval_GD(X_, y_, iterations=1500, alpha=1e-3, show=True)"
   ]
  },
  {
   "cell_type": "code",
   "execution_count": 139,
   "metadata": {},
   "outputs": [
    {
     "name": "stdout",
     "output_type": "stream",
     "text": [
      "150 [ 0.87666807  2.92988093  2.64461753 10.33052975 -0.44277131  0.43634816\n",
      "  0.51313568  0.74852027 -0.29778708  0.87374565] 603.0312578529152\n",
      "300 [ 0.24424148  3.44426762  4.88632703 16.47730737 -1.22199323  0.30371651\n",
      " -0.09259301 -0.17566727 -0.16956273  0.90524162] 326.2266006462754\n",
      "450 [ 0.68576074  4.946634    6.41097806 21.18380482 -0.79373403  0.4300289\n",
      " -0.67314578 -0.33984662 -0.02201347  0.6100648 ] 172.25408953169605\n",
      "600 [ 0.17164879  6.06522567  7.01661371 24.06281816 -0.82203445  0.61950927\n",
      " -0.34990735 -0.3896893  -0.11723485  0.14825909] 105.73876567080399\n",
      "750 [ 0.15970411  6.32821693  7.65446448 26.30305317 -0.74956522  0.79301571\n",
      "  0.11035211 -0.25632793  0.29995587  0.1126574 ] 69.18689049534774\n",
      "900 [-2.26975520e-03  6.77973621e+00  8.65566653e+00  2.79511637e+01\n",
      " -8.85437227e-01  5.54690609e-01  1.30586680e-01 -4.63703324e-01\n",
      "  2.73907296e-01  7.67192248e-02] 47.015255024999284\n",
      "1050 [ 1.74838545e-02  6.82193434e+00  9.23425168e+00  2.90877520e+01\n",
      " -8.40955684e-01  6.50291974e-01 -1.54272955e-01 -6.47587943e-02\n",
      "  2.07450792e-01  2.19710377e-01] 36.41378852519667\n",
      "1200 [ 1.08462970e-01  6.80552752e+00  9.45982900e+00  2.96831342e+01\n",
      " -5.52358739e-01  4.10514807e-01 -9.66180643e-02 -2.17288320e-02\n",
      "  1.25873369e-01  2.75994218e-01] 32.0619427243064\n",
      "1350 [ 0.33388719  6.99841526  9.90745446 30.24786493 -0.4130561   0.54468277\n",
      " -0.27776278  0.12482963  0.11354801  0.41097749] 29.058430706010476\n",
      "1500 [ 2.00661370e-01  7.19680751e+00  9.84362195e+00  3.07447256e+01\n",
      " -4.12919135e-01  3.95445724e-01 -2.47393809e-01  1.45597416e-01\n",
      "  1.11900448e-02  3.92054543e-01] 26.995611345195748\n"
     ]
    }
   ],
   "source": [
    "sgd_err = eval_SGD(X_, y_, iterations=1500, alpha=1e-3, show=True)"
   ]
  },
  {
   "cell_type": "code",
   "execution_count": 153,
   "metadata": {},
   "outputs": [
    {
     "name": "stdout",
     "output_type": "stream",
     "text": [
      "Количество батчей -  200\n",
      "150 [ 2.64159951e-02  7.17680475e+00  1.01666433e+01  3.22921763e+01\n",
      " -1.03081971e-01  1.55798117e-01 -6.95026537e-03  1.86856474e-01\n",
      " -1.57766450e-01  2.05017927e-01] 24.163702486679835\n",
      "300 [ 2.64159951e-02  7.17680475e+00  1.01666433e+01  3.22921763e+01\n",
      " -1.03081971e-01  1.55798117e-01 -6.95026537e-03  1.86856474e-01\n",
      " -1.57766450e-01  2.05017927e-01] 24.163702486679835\n",
      "450 [ 2.64159951e-02  7.17680475e+00  1.01666433e+01  3.22921763e+01\n",
      " -1.03081971e-01  1.55798117e-01 -6.95026537e-03  1.86856474e-01\n",
      " -1.57766450e-01  2.05017927e-01] 24.163702486679835\n",
      "600 [ 2.64159951e-02  7.17680475e+00  1.01666433e+01  3.22921763e+01\n",
      " -1.03081971e-01  1.55798117e-01 -6.95026537e-03  1.86856474e-01\n",
      " -1.57766450e-01  2.05017927e-01] 24.163702486679835\n",
      "750 [ 2.64159951e-02  7.17680475e+00  1.01666433e+01  3.22921763e+01\n",
      " -1.03081971e-01  1.55798117e-01 -6.95026537e-03  1.86856474e-01\n",
      " -1.57766450e-01  2.05017927e-01] 24.163702486679835\n",
      "900 [ 2.64159951e-02  7.17680475e+00  1.01666433e+01  3.22921763e+01\n",
      " -1.03081971e-01  1.55798117e-01 -6.95026537e-03  1.86856474e-01\n",
      " -1.57766450e-01  2.05017927e-01] 24.163702486679835\n",
      "1050 [ 2.64159951e-02  7.17680475e+00  1.01666433e+01  3.22921763e+01\n",
      " -1.03081971e-01  1.55798117e-01 -6.95026537e-03  1.86856474e-01\n",
      " -1.57766450e-01  2.05017927e-01] 24.163702486679835\n",
      "1200 [ 2.64159951e-02  7.17680475e+00  1.01666433e+01  3.22921763e+01\n",
      " -1.03081971e-01  1.55798117e-01 -6.95026537e-03  1.86856474e-01\n",
      " -1.57766450e-01  2.05017927e-01] 24.163702486679835\n",
      "1350 [ 2.64159951e-02  7.17680475e+00  1.01666433e+01  3.22921763e+01\n",
      " -1.03081971e-01  1.55798117e-01 -6.95026537e-03  1.86856474e-01\n",
      " -1.57766450e-01  2.05017927e-01] 24.163702486679835\n",
      "1500 [ 2.64159951e-02  7.17680475e+00  1.01666433e+01  3.22921763e+01\n",
      " -1.03081971e-01  1.55798117e-01 -6.95026537e-03  1.86856474e-01\n",
      " -1.57766450e-01  2.05017927e-01] 24.163702486679835\n"
     ]
    }
   ],
   "source": [
    "mb_err = eval_mbGD(X_, y_, iterations=1500, alpha=1e-3,batch=5, show=True)"
   ]
  },
  {
   "cell_type": "code",
   "execution_count": 154,
   "metadata": {},
   "outputs": [],
   "source": [
    "iterations = np.array([i for i in range(1500)])"
   ]
  },
  {
   "cell_type": "code",
   "execution_count": 155,
   "metadata": {},
   "outputs": [
    {
     "data": {
      "image/png": "[encoded data removed]",
      "text/plain": [
       "<Figure size 1080x720 with 1 Axes>"
      ]
     },
     "metadata": {
      "needs_background": "light"
     },
     "output_type": "display_data"
    }
   ],
   "source": [
    "plt.figure(figsize=(15, 10))\n",
    "plt.xlabel(\"MSE error\")\n",
    "plt.ylabel(\"Iterations count\")\n",
    "plt.plot(gd_err,iterations, color=\"red\")\n",
    "plt.plot(sgd_err,iterations, color=\"blue\")\n",
    "plt.plot(mb_err,iterations, color=\"green\")\n",
    "plt.vlines(26.995611345195748, iterations.min(), iterations.max(), color=\"yellow\")\n",
    "plt.show()"
   ]
  },
  {
   "cell_type": "code",
   "execution_count": 156,
   "metadata": {},
   "outputs": [],
   "source": [
    "# Градиентный и стохастический спуск сходятся на 1000 итераций.\n",
    "# При добавлении mini-batch пришлось увеличить до 1500 для получния схождения\n",
    "# график mini-batch вышел какой-то странный, но не могу найти ошибку.\n",
    "# Все изменения для подсчета ошибки вносила сразу в функцию."
   ]
  },
  {
   "cell_type": "code",
   "execution_count": 157,
   "metadata": {},
   "outputs": [],
   "source": [
    "# [*] Добавить в алгоритм градиентного спуска L1 регуляризацию.\n",
    "# Сравнить влияние коэффициентов регуляризации L1 и L2 на величину весов (лучше графически)."
   ]
  },
  {
   "cell_type": "code",
   "execution_count": 158,
   "metadata": {},
   "outputs": [],
   "source": [
    "# Метод градиентного спуска с L-1 регуляризацией\n",
    "def eval_GD_1(X, y, iterations, alpha=1e-4,lambda_=1e-8, show=False):\n",
    "    np.random.seed(42)\n",
    "    w = np.random.randn(X.shape[1])\n",
    "    n = X.shape[0]\n",
    "    err_list = []\n",
    "    for i in range(1, iterations + 1):\n",
    "        y_pred = np.dot(X, w)\n",
    "        err = calc_mse(y, y_pred)\n",
    "        err_list.append(err)\n",
    "        w -= alpha * (1/n * 2 * np.dot((y_pred - y), X) + lambda_ * (w / abs(w)))\n",
    "        if i % (iterations / 10) == 0:\n",
    "            print(i, w, err)\n",
    "    if show == True:\n",
    "        return err_list\n",
    "    else:\n",
    "        return w"
   ]
  },
  {
   "cell_type": "code",
   "execution_count": 159,
   "metadata": {},
   "outputs": [],
   "source": [
    "# Метод градиентного спуска с L-2 регуляризацией\n",
    "def eval_GD_2(X, y, iterations, alpha=1e-4,lambda_=1e-8, show=False):\n",
    "    np.random.seed(42)\n",
    "    w = np.random.randn(X.shape[1])\n",
    "    n = X.shape[0]\n",
    "    err_list = []\n",
    "    for i in range(1, iterations + 1):\n",
    "        y_pred = np.dot(X, w)\n",
    "        err = calc_mse(y, y_pred)\n",
    "        err_list.append(err)\n",
    "        w -= alpha * (1/n * 2 * np.dot((y_pred - y), X) + 2 * lambda_ * w)\n",
    "        if i % (iterations / 10) == 0:\n",
    "            print(i, w, err)\n",
    "    if show == True:\n",
    "        return err_list\n",
    "    else:\n",
    "        return w"
   ]
  },
  {
   "cell_type": "code",
   "execution_count": 160,
   "metadata": {},
   "outputs": [
    {
     "name": "stdout",
     "output_type": "stream",
     "text": [
      "100 [ 0.47472623  0.01984989  0.8525439   2.14644784 -0.24752113 -0.21513791\n",
      "  1.53899995  0.73420163 -0.47345545  0.52853476] 1109.838957610534\n",
      "200 [ 0.45344055  0.17458628  1.05302282  2.75717494 -0.26034806 -0.19671321\n",
      "  1.49972056  0.70208036 -0.4771797   0.51494242] 1065.7382191916324\n",
      "300 [ 0.43283759  0.32601827  1.24921847  3.3554705  -0.27264963 -0.17884799\n",
      "  1.46135428  0.67103904 -0.48065544  0.50177103] 1023.4336144759936\n",
      "400 [ 0.41289837  0.47421598  1.44122202  3.94158855 -0.28444094 -0.16152775\n",
      "  1.42388119  0.64104666 -0.48389076  0.48900891] 982.8518157492402\n",
      "500 [ 0.3936044   0.61924803  1.62912273  4.5157779  -0.2957367  -0.14473833\n",
      "  1.38728176  0.61207301 -0.48689351  0.47664471] 943.9224954464296\n",
      "600 [ 0.37493765  0.76118161  1.81300794  5.07828227 -0.30655123 -0.12846591\n",
      "  1.35153688  0.5840887  -0.48967135  0.46466734] 906.578203156574\n",
      "700 [ 0.35688057  0.90008247  1.99296316  5.62934037 -0.31689852 -0.11269701\n",
      "  1.31662783  0.55706512 -0.49223172  0.45306602] 870.7542476789922\n",
      "800 [ 0.33941607  1.03601498  2.16907206  6.16918604 -0.32679218 -0.09741845\n",
      "  1.28253629  0.53097443 -0.49458186  0.44183025] 836.3885839236278\n",
      "900 [ 0.32252749  1.16904217  2.34141655  6.69804831 -0.33624549 -0.0826174\n",
      "  1.24924432  0.50578951 -0.49672881  0.43094981] 803.4217044560406\n",
      "1000 [ 0.30619863  1.29922571  2.51007679  7.21615151 -0.34527138 -0.06828133\n",
      "  1.21673433  0.481484   -0.49867942  0.42041472] 771.7965354959823\n",
      "100 [ 0.47472541  0.01985051  0.85254307  2.14644702 -0.24752031 -0.21513709\n",
      "  1.53899913  0.73420081 -0.47345462  0.52853394] 1109.839005704958\n",
      "200 [ 0.45343891  0.17458607  1.05302119  2.75717331 -0.26034642 -0.19671158\n",
      "  1.49971893  0.70207872 -0.47717806  0.51494079] 1065.7383354846024\n",
      "300 [ 0.43283517  0.32601724  1.24921604  3.35546808 -0.27264721 -0.17884558\n",
      "  1.46135186  0.67103661 -0.48065302  0.5017686 ] 1023.4337948682751\n",
      "400 [ 0.41289517  0.47421415  1.44121882  3.94158534 -0.28443774 -0.16152457\n",
      "  1.42387798  0.64104345 -0.48388756  0.48900571] 982.8520563317932\n",
      "500 [ 0.39360044  0.61924541  1.62911877  4.51577393 -0.29573273 -0.14473439\n",
      "  1.38727779  0.61206904 -0.48688956  0.47664075] 943.92279249232\n",
      "600 [ 0.37493294  0.76117821  1.81300324  5.07827755 -0.30654652 -0.12846123\n",
      "  1.35153217  0.58408398 -0.48966666  0.46466263] 906.5785531132186\n",
      "700 [ 0.35687513  0.90007831  1.99295773  5.62933493 -0.31689308 -0.11269161\n",
      "  1.3166224   0.55705967 -0.4922263   0.45306059] 870.7546471607209\n",
      "800 [ 0.33940991  1.03601009  2.16906592  6.16917988 -0.32678602 -0.09741235\n",
      "  1.28253014  0.53096825 -0.49457573  0.4418241 ] 836.3890297045505\n",
      "900 [ 0.32252064  1.16903655  2.34140971  6.69804145 -0.33623862 -0.08261061\n",
      "  1.24923747  0.50578263 -0.49672198  0.43094296] 803.4221934632069\n",
      "1000 [ 0.30619109  1.29921937  2.51006926  7.21614396 -0.34526382 -0.06827386\n",
      "  1.21672679  0.48147642 -0.4986719   0.42040719] 771.7970648028241\n",
      "100 [ 0.4747239   0.01985166  0.85254156  2.1464455  -0.2475188  -0.21513558\n",
      "  1.53899762  0.73419929 -0.47345311  0.52853243] 1109.8390938611433\n",
      "200 [ 0.45343592  0.17458568  1.0530182   2.75717031 -0.26034343 -0.19670859\n",
      "  1.49971593  0.70207573 -0.47717507  0.51493779] 1065.738548647499\n",
      "300 [ 0.43283072  0.32601535  1.2492116   3.35546363 -0.27264276 -0.17884114\n",
      "  1.46134741  0.67103216 -0.48064858  0.50176416] 1023.434125524132\n",
      "400 [ 0.41288931  0.47421078  1.44121296  3.94157947 -0.28443187 -0.16151872\n",
      "  1.42387212  0.64103757 -0.4838817   0.48899985] 982.8524973154764\n",
      "500 [ 0.39359318  0.6192406   1.62911152  4.51576666 -0.29572547 -0.14472716\n",
      "  1.38727053  0.61206176 -0.48688231  0.47663349] 943.9233369724902\n",
      "600 [ 0.37492432  0.76117198  1.81299463  5.07826892 -0.30653789 -0.12845266\n",
      "  1.35152355  0.58407533 -0.48965805  0.46465401] 906.5791945781133\n",
      "700 [ 0.35686517  0.9000707   1.99294778  5.62932495 -0.3168831  -0.11268171\n",
      "  1.31661243  0.55704967 -0.49221636  0.45305063] 870.7553794045214\n",
      "800 [ 0.33939863  1.03600111  2.16905466  6.16916859 -0.32677473 -0.09740115\n",
      "  1.28251887  0.53095693 -0.49456448  0.44181284] 836.3898468143094\n",
      "900 [ 0.32250807  1.16902623  2.34139717  6.69802887 -0.33622604 -0.08259815\n",
      "  1.24922491  0.50577001 -0.49670946  0.43093041] 803.4230898063101\n",
      "1000 [ 0.30617726  1.29920775  2.51005547  7.21613012 -0.34524997 -0.06826017\n",
      "  1.21671297  0.48146254 -0.49865813  0.42039338] 771.7980350149705\n",
      "100 [ 0.47472113  0.01985376  0.85253879  2.14644273 -0.24751603 -0.21513281\n",
      "  1.53899484  0.73419652 -0.47345034  0.52852965] 1109.8392554498437\n",
      "200 [ 0.45343044  0.17458497  1.05301271  2.75716482 -0.26033795 -0.19670311\n",
      "  1.49971045  0.70207024 -0.47716959  0.51493231] 1065.7389393714009\n",
      "300 [ 0.43282258  0.32601189  1.24920346  3.35545547 -0.27263461 -0.17883302\n",
      "  1.46133926  0.671024   -0.48064044  0.50175601] 1023.4347316108949\n",
      "400 [ 0.41287856  0.47420462  1.44120222  3.9415687  -0.28442111 -0.161508\n",
      "  1.42386136  0.6410268  -0.48387096  0.4889891 ] 982.8533056317553\n",
      "500 [ 0.39357987  0.61923178  1.62909823  4.51575334 -0.29571215 -0.14471392\n",
      "  1.38725723  0.61204842 -0.48686902  0.47662019] 943.9243349967647\n",
      "600 [ 0.3749085   0.76116057  1.81297884  5.07825308 -0.30652206 -0.12843693\n",
      "  1.35150774  0.58405947 -0.48964227  0.46463821] 906.5803703746307\n",
      "700 [ 0.3568469   0.90005674  1.99292954  5.62930666 -0.31686481 -0.11266356\n",
      "  1.31659417  0.55703134 -0.49219814  0.45303237] 870.7567215983073\n",
      "800 [ 0.33937796  1.03598465  2.16903403  6.16914789 -0.32675403 -0.09738064\n",
      "  1.2824982   0.53093618 -0.49454387  0.44179218] 836.3913445672034\n",
      "900 [ 0.32248503  1.16900733  2.34137419  6.69800581 -0.33620297 -0.08257532\n",
      "  1.24920189  0.50574689 -0.4966865   0.4309074 ] 803.4247327939883\n",
      "1000 [ 0.3061519   1.29918645  2.51003019  7.21610474 -0.34522458 -0.06823507\n",
      "  1.21668765  0.48143709 -0.49863288  0.42036807] 771.7998134049103\n",
      "100 [ 0.47471605  0.01985761  0.85253371  2.14643765 -0.24751095 -0.21512773\n",
      "  1.53898977  0.73419144 -0.47344526  0.52852458] 1109.8395516391954\n",
      "200 [ 0.45342039  0.17458367  1.05300266  2.75715476 -0.26032789 -0.19669308\n",
      "  1.49970039  0.70206017 -0.47715954  0.51492225] 1065.7396555622015\n",
      "300 [ 0.43280765  0.32600554  1.24918854  3.35544052 -0.27261968 -0.17881812\n",
      "  1.46132433  0.67100905 -0.48062552  0.50174108] 1023.4358425594494\n",
      "400 [ 0.41285885  0.47419331  1.44118252  3.94154897 -0.28440139 -0.16148836\n",
      "  1.42384165  0.64100705 -0.48385127  0.48896939] 982.8547872655922\n",
      "500 [ 0.39355548  0.61921563  1.62907386  4.51572891 -0.29568774 -0.14468963\n",
      "  1.38723283  0.61202396 -0.48684467  0.4765958 ] 943.9261643648315\n",
      "600 [ 0.37487952  0.76113965  1.81294989  5.07822406 -0.30649305 -0.12840811\n",
      "  1.35147876  0.5840304  -0.48961334  0.46460924] 906.5825255995335\n",
      "700 [ 0.35681341  0.90003115  1.99289612  5.62927313 -0.31683129 -0.1126303\n",
      "  1.3165607   0.55699775 -0.49216474  0.45299891] 870.7591818305079\n",
      "800 [ 0.33934006  1.03595449  2.16899621  6.16910995 -0.32671608 -0.09734304\n",
      "  1.28246032  0.53089815 -0.49450609  0.44175432] 836.3940899410985\n",
      "900 [ 0.3224428   1.16897268  2.34133207  6.69796354 -0.33616069 -0.08253347\n",
      "  1.24915969  0.50570451 -0.49664443  0.43086523] 803.4277443857897\n",
      "1000 [ 0.30610544  1.2991474   2.50998386  7.21605824 -0.34517804 -0.06818907\n",
      "  1.21664122  0.48139043 -0.49858661  0.42032168] 771.8030731922581\n",
      "100 [ 0.47470675  0.01986467  0.85252441  2.14642833 -0.24750164 -0.21511843\n",
      "  1.53898046  0.73418212 -0.47343595  0.52851527] 1109.8400945498413\n",
      "200 [ 0.45340197  0.17458129  1.05298424  2.75713631 -0.26030946 -0.19667467\n",
      "  1.49968196  0.70204172 -0.47714112  0.51490382] 1065.740968330908\n",
      "300 [ 0.4327803   0.3259939   1.24916119  3.35541312 -0.2725923  -0.17879082\n",
      "  1.46129696  0.67098163 -0.48059817  0.50171371] 1023.4378789175022\n",
      "400 [ 0.41282273  0.4741726   1.44114643  3.9415128  -0.28436525 -0.16145236\n",
      "  1.42380552  0.64097084 -0.48381519  0.48893326] 982.8575030909518\n",
      "500 [ 0.39351077  0.61918601  1.62902919  4.51568414 -0.29564299 -0.14464512\n",
      "  1.38718812  0.61197914 -0.48680002  0.4765511 ] 943.929517590853\n",
      "600 [ 0.37482639  0.76110131  1.81289684  5.07817087 -0.30643987 -0.12835528\n",
      "  1.35142563  0.58397712 -0.48956032  0.46455613] 906.5864761274286\n",
      "700 [ 0.35675203  0.89998426  1.99283484  5.62921168 -0.31676984 -0.11256933\n",
      "  1.31649934  0.55693617 -0.49210351  0.45293758] 870.7636914453972\n",
      "800 [ 0.33927059  1.03589921  2.16892688  6.1690404  -0.32664652 -0.09727411\n",
      "  1.28239089  0.53082844 -0.49443683  0.44168492] 836.3991222315085\n",
      "900 [ 0.3223654   1.16890917  2.34125486  6.69788606 -0.33608318 -0.08245676\n",
      "  1.24908235  0.50562682 -0.49656731  0.43078793] 803.4332646664567\n",
      "1000 [ 0.30602026  1.29907583  2.50989892  7.21597299 -0.34509274 -0.06810475\n",
      "  1.21655613  0.48130492 -0.49850179  0.42023664] 771.8090484301052\n",
      "100 [ 0.47468969  0.01987762  0.85250735  2.14641126 -0.24748458 -0.21510138\n",
      "  1.53896339  0.73416505 -0.47341889  0.5284982 ] 1109.8410896988776\n",
      "200 [ 0.4533682   0.17457692  1.05295047  2.75710249 -0.26027568 -0.19664095\n",
      "  1.49964817  0.70200789 -0.47710735  0.51487003] 1065.7433746267025\n",
      "300 [ 0.43273015  0.32597256  1.24911105  3.3553629  -0.27254213 -0.17874079\n",
      "  1.46124679  0.67093138 -0.48054804  0.50166355] 1023.4416115587603\n",
      "400 [ 0.41275653  0.47413462  1.44108026  3.94144649 -0.28429899 -0.16138637\n",
      "  1.4237393   0.64090448 -0.48374904  0.48886705] 982.8624812106782\n",
      "500 [ 0.39342882  0.61913172  1.62894732  4.51560208 -0.29556097 -0.14456354\n",
      "  1.38710617  0.61189697 -0.48671819  0.47646916] 943.9356640890629\n",
      "600 [ 0.37472901  0.76103103  1.81279958  5.07807336 -0.30634239 -0.12825844\n",
      "  1.35132827  0.58387945 -0.48946313  0.4644588 ] 906.593717510714\n",
      "700 [ 0.35663952  0.89989829  1.99272252  5.62909904 -0.31665721 -0.11245757\n",
      "  1.31638687  0.5568233  -0.49199129  0.45282515] 870.7719576730747\n",
      "800 [ 0.33914325  1.03579787  2.16879981  6.16891293 -0.32651903 -0.09714777\n",
      "  1.28226362  0.53070066 -0.49430989  0.44155771] 836.4083465680801\n",
      "900 [ 0.32222353  1.16879276  2.34111333  6.69774405 -0.33594111 -0.08231616\n",
      "  1.24894058  0.50548442 -0.49642595  0.43064624] 803.4433835401317\n",
      "1000 [ 0.30586413  1.29894464  2.50974324  7.21581673 -0.34493639 -0.0679502\n",
      "  1.21640016  0.48114818 -0.49834631  0.42008076] 771.820001297137\n",
      "100 [ 0.47465843  0.01990134  0.85247608  2.14637996 -0.24745331 -0.21507012\n",
      "  1.53893211  0.73413375 -0.47338762  0.52846692] 1109.8429138022927\n",
      "200 [ 0.45330631  0.17456892  1.05288857  2.75704051 -0.26021376 -0.19657912\n",
      "  1.49958624  0.70194589 -0.47704545  0.5148081 ] 1065.7477853744936\n",
      "300 [ 0.43263822  0.32593345  1.24901915  3.35527084 -0.27245015 -0.17864907\n",
      "  1.46115483  0.67083927 -0.48045616  0.50157159] 1023.448453539899\n",
      "400 [ 0.41263517  0.47406502  1.44095897  3.94132496 -0.28417755 -0.16126542\n",
      "  1.42361791  0.64078283 -0.4836278   0.48874568] 982.8716062239057\n",
      "500 [ 0.39327861  0.61903222  1.62879726  4.51545166 -0.29541064 -0.14441399\n",
      "  1.38695595  0.61174636 -0.4865682   0.47631898] 943.9469308363339\n",
      "600 [ 0.37455051  0.76090221  1.81262133  5.07789463 -0.30616372 -0.12808094\n",
      "  1.35114979  0.58370043 -0.48928499  0.46428038] 906.6069913032039\n",
      "700 [ 0.35643329  0.89974073  1.99251665  5.62889257 -0.31645076 -0.11225273\n",
      "  1.31618071  0.55661642 -0.49178559  0.45261908] 870.7871101492443\n",
      "800 [ 0.33890984  1.03561212  2.16856689  6.16867927 -0.32628533 -0.09691619\n",
      "  1.28203034  0.53046645 -0.4940772   0.44132455] 836.4252554233112\n",
      "900 [ 0.32196347  1.16857938  2.34085392  6.69748374 -0.33568071 -0.08205844\n",
      "  1.24868073  0.5052234  -0.49616684  0.43038653] 803.4619322674691\n"
     ]
    },
    {
     "name": "stdout",
     "output_type": "stream",
     "text": [
      "1000 [ 0.30557796  1.29870417  2.50945788  7.2155303  -0.34464979 -0.06766691\n",
      "  1.21611426  0.48086087 -0.49806133  0.41979505] 771.8400789386842\n",
      "100 [ 0.47460112  0.01994483  0.85241876  2.1463226  -0.24739599 -0.21501284\n",
      "  1.53887478  0.73407638 -0.4733303   0.52840959] 1109.8462573971399\n",
      "200 [ 0.45319285  0.17455425  1.05277511  2.75692689 -0.26010026 -0.1964658\n",
      "  1.49947272  0.70183225 -0.47693199  0.51469459] 1065.755870371599\n",
      "300 [ 0.43246973  0.32586177  1.2488507   3.3551021  -0.27228157 -0.17848094\n",
      "  1.46098626  0.67067043 -0.48028774  0.50140304] 1023.4609951682838\n",
      "400 [ 0.41241272  0.47393743  1.44073666  3.9411022  -0.28395495 -0.16104371\n",
      "  1.42339541  0.64055986 -0.48340556  0.48852322] 982.8883329221646\n",
      "500 [ 0.39300327  0.61884982  1.62852218  4.51517595 -0.29513507 -0.14413988\n",
      "  1.38668059  0.61147029 -0.48629327  0.47604369] 943.9675836909969\n",
      "600 [ 0.37422333  0.76066607  1.81229458  5.07756703 -0.30583622 -0.12775558\n",
      "  1.35082265  0.58337229 -0.48895847  0.46395335] 906.6313235101144\n",
      "700 [ 0.35605528  0.89945191  1.99213929  5.62851411 -0.31607233 -0.11187726\n",
      "  1.31580283  0.5562372  -0.49140854  0.45224135] 870.814886497027\n",
      "800 [ 0.338482    1.03527165  2.16813996  6.16825097 -0.32585698 -0.09649171\n",
      "  1.28160275  0.53003713 -0.49365069  0.44089716] 836.4562517980402\n",
      "900 [ 0.3214868   1.16818826  2.34037843  6.6970066  -0.33520339 -0.08158603\n",
      "  1.24820441  0.50474495 -0.49569189  0.42991049] 803.4959351776771\n",
      "1000 [ 0.3050534   1.29826339  2.50893483  7.2150053  -0.34412445 -0.06714764\n",
      "  1.21559021  0.48033423 -0.49753896  0.41927134] 771.876885059899\n",
      "100 [ 0.47449609  0.02002454  0.85231369  2.14621744 -0.24729093 -0.21490783\n",
      "  1.53876969  0.73397123 -0.47322523  0.52830449] 1109.8523863048608\n",
      "200 [ 0.4529849   0.17452737  1.05256714  2.75671864 -0.25989222 -0.19625808\n",
      "  1.49926465  0.70162395 -0.47672403  0.51448652] 1065.7706906250935\n",
      "300 [ 0.43216089  0.32573037  1.24854193  3.3547928  -0.27197256 -0.17817278\n",
      "  1.46067729  0.67036096 -0.47997903  0.50109409] 1023.4839851051365\n",
      "400 [ 0.41200498  0.47370357  1.44032916  3.94069387 -0.28354693 -0.16063732\n",
      "  1.42298756  0.64015115 -0.4829982   0.48811544] 982.9189950733853\n",
      "500 [ 0.39249859  0.6185155   1.62801799  4.51467057 -0.29462997 -0.14363743\n",
      "  1.38617587  0.61096426 -0.48578933  0.4755391 ] 944.0054437524631\n",
      "600 [ 0.3736236   0.76023325  1.81169566  5.07696654 -0.30523593 -0.1271592\n",
      "  1.35022301  0.58277081 -0.48835995  0.4633539 ] 906.6759293561663\n",
      "700 [ 0.3553624   0.89892251  1.9914476   5.62782041 -0.31537869 -0.11118902\n",
      "  1.31511018  0.5555421  -0.49071743  0.45154899] 870.8658072345152\n",
      "800 [ 0.33769779  1.03464756  2.16735739  6.16746592 -0.32507181 -0.09571365\n",
      "  1.28081897  0.52925021 -0.4928689   0.44011376] 836.5130768591919\n",
      "900 [ 0.32061306  1.16747134  2.33950686  6.69613202 -0.33432847 -0.08072013\n",
      "  1.24733134  0.50386797 -0.49482132  0.42903791] 803.5582734502208\n",
      "1000 [ 0.30409191  1.29745545  2.50797607  7.21404297 -0.34316153 -0.06619584\n",
      "  1.21462964  0.47936893 -0.49658147  0.41831139] 771.9443640529397\n",
      "100 [ 0.47430355  0.02017064  0.85212111  2.1460247  -0.24709835 -0.21471535\n",
      "  1.53857705  0.73377849 -0.47303265  0.52811186] 1109.863621021673\n",
      "200 [ 0.45260372  0.17447809  1.05218593  2.75633691 -0.25951089 -0.19587733\n",
      "  1.49888326  0.70124213 -0.47634284  0.51410514] 1065.7978579125358\n",
      "300 [ 0.43159479  0.32548953  1.24797596  3.35422586 -0.27140614 -0.17760792\n",
      "  1.46011094  0.66979369 -0.47941317  0.5005278 ] 1023.5261298321241\n",
      "400 [ 0.41125761  0.4732749   1.43958223  3.93994541 -0.28279904 -0.15989242\n",
      "  1.42223999  0.63940201 -0.48225153  0.48736799] 982.9752063894973\n",
      "500 [ 0.39157351  0.61790268  1.6270938   4.51374423 -0.29370412 -0.14271646\n",
      "  1.38525073  0.61003673 -0.48486561  0.47461418] 944.0748532057013\n",
      "600 [ 0.37252432  0.75943989  1.81059786  5.07586585 -0.30413559 -0.12606605\n",
      "  1.34912389  0.58166831 -0.48726288  0.46225513] 906.7577090878426\n",
      "700 [ 0.35409235  0.89795213  1.99017974  5.62654886 -0.31410726 -0.1099275\n",
      "  1.31384058  0.55426799 -0.48945062  0.45027989] 870.9591682481586\n",
      "800 [ 0.33626034  1.03350363  2.16592296  6.16602693 -0.32363261 -0.09428747\n",
      "  1.27938232  0.5278078  -0.4914359   0.4386778 ] 836.6172673604926\n",
      "900 [ 0.31901151  1.16615724  2.33790928  6.69452892 -0.33272476 -0.07913294\n",
      "  1.24573101  0.50226048 -0.49322559  0.42743849] 803.6725772551454\n",
      "1000 [ 0.3023295   1.29597451  2.5062187   7.21227905 -0.34139651 -0.0644512\n",
      "  1.21286894  0.47759954 -0.4948264   0.41655183] 772.0680990612665\n",
      "100 [ 0.47395064  0.0204228   0.85176812  2.1456714  -0.24674535 -0.21436254\n",
      "  1.53822396  0.73342519 -0.47267964  0.52775876] 1109.884460800137\n",
      "200 [ 0.45190502  0.1743724   1.05148718  2.75563722 -0.2588119  -0.19517943\n",
      "  1.49818417  0.70054227 -0.47564413  0.51340607] 1065.8478965047825\n",
      "300 [ 0.43055712  0.325033    1.24693856  3.35318669 -0.2703679  -0.17657256\n",
      "  1.45907284  0.66875392 -0.47837597  0.49948979] 1023.603620516215\n",
      "400 [ 0.40988765  0.47247439  1.43821311  3.93857353 -0.28142814 -0.15852704\n",
      "  1.42086971  0.63802885 -0.4808829   0.48599795] 983.0784833712147\n",
      "500 [ 0.38987781  0.61676492  1.62539978  4.51204628 -0.29200704 -0.14102835\n",
      "  1.38355497  0.60833658 -0.48317246  0.47291884] 944.2023281795454\n",
      "600 [ 0.37050931  0.75797146  1.8085856   5.07384836 -0.30211866 -0.12406234\n",
      "  1.34710921  0.57964745 -0.48525199  0.46024112] 906.907867938925\n",
      "700 [ 0.35176432  0.8961595   1.98785577  5.6242182  -0.31177671 -0.10761517\n",
      "  1.31151342  0.5519326  -0.48712861  0.44795368] 871.1305678893152\n",
      "800 [ 0.33362547  1.03139314  2.16329369  6.16338934 -0.32099453 -0.09167334\n",
      "  1.27674897  0.5251639  -0.48880926  0.43604575] 836.8085326991662\n",
      "900 [ 0.31607584  1.16373511  2.33498096  6.69159054 -0.32978513 -0.07622369\n",
      "  1.24279766  0.49931401 -0.49030067  0.4245068 ] 803.8823982848031\n",
      "1000 [ 0.29909896  1.29324682  2.50299746  7.20904588 -0.3381612  -0.06125334\n",
      "  1.20964162  0.4743563  -0.49160942  0.41332661] 772.2952280723306\n",
      "100 [ 0.47330376  0.02090065  0.85112109  2.14502382 -0.24609832 -0.21371585\n",
      "  1.53757676  0.73277761 -0.47203258  0.52711154] 1109.9224209415959\n",
      "200 [ 0.45062433  0.17419404  1.05020639  2.75435469 -0.25753069 -0.1939002\n",
      "  1.49690276  0.69925943 -0.4743634   0.51212469] 1065.9394048204344\n",
      "300 [ 0.42865511  0.32421126  1.24503701  3.35128188 -0.26846484 -0.17467474\n",
      "  1.45717001  0.66684803 -0.47647479  0.49758715] 1023.7454868972256\n",
      "400 [ 0.40737657  0.47102185  1.43570355  3.93605888 -0.27891533 -0.1560243\n",
      "  1.41835801  0.63551186 -0.47837421  0.48348667] 983.2676653274553\n",
      "500 [ 0.38676967  0.61469391  1.62229467  4.50893396 -0.28889634 -0.13793407\n",
      "  1.38044668  0.60522023 -0.48006894  0.46981131] 944.4359245699999\n",
      "600 [ 0.36681589  0.75529408  1.80489717  5.07015029 -0.2984217  -0.12038957\n",
      "  1.34341635  0.57594326 -0.48156604  0.45654945] 907.183112958888\n",
      "700 [ 0.34749714  0.8928876   1.98359599  5.61994608 -0.30750489 -0.1033767\n",
      "  1.30724777  0.54765185 -0.48287239  0.44368977] 871.4448253040374\n",
      "800 [ 0.32879585  1.02753833  2.15847427  6.15855463 -0.31615903 -0.08688167\n",
      "  1.2719221   0.52031767 -0.48399465  0.43122122] 837.1592903140124\n",
      "900 [ 0.31069488  1.1593088   2.32961339  6.68620448 -0.32439691 -0.07089105\n",
      "  1.23742086  0.49391316 -0.48493933  0.41913306] 804.267262642387\n",
      "1000 [ 0.29317752  1.28826018  2.49709299  7.20311947 -0.33223101 -0.0553917\n",
      "  1.20372598  0.46841149 -0.48571274  0.40741482] 772.7119193674736\n",
      "100 [ 0.47211803  0.02172393  0.84993509  2.14383682 -0.24491231 -0.21253048\n",
      "  1.53639044  0.7315906  -0.47084653  0.5259252 ] 1109.9928444190095\n",
      "200 [ 0.44827681  0.17381551  1.04785873  2.75200387 -0.25518221 -0.1915554\n",
      "  1.49455396  0.69690802 -0.47201586  0.50977595] 1066.1080036090934\n",
      "300 [ 0.4251687   0.32265441  1.24155152  3.34779048 -0.2649765  -0.17119612\n",
      "  1.45368219  0.66335458 -0.47298999  0.49409965] 1024.0064554603237\n",
      "400 [ 0.40277372  0.46830973  1.43110357  3.93144966 -0.27430931 -0.15143689\n",
      "  1.41375413  0.6308983  -0.47377588  0.47888357] 983.6154661693487\n",
      "500 [ 0.38107239  0.6108491   1.61660308  4.50322924 -0.28319438 -0.13226235\n",
      "  1.37474925  0.59950807 -0.4743803   0.46411531] 944.865276863557\n",
      "600 [ 0.36004575  0.75033872  1.79813636  5.06337194 -0.29164512 -0.11365752\n",
      "  1.33664743  0.56915359 -0.47480983  0.44978276] 907.6889816383894\n",
      "700 [ 0.33967531  0.88684342  1.9757879   5.61211553 -0.29967458 -0.09560774\n",
      "  1.29942896  0.53980537 -0.47507088  0.43587416] 872.0224106048685\n"
     ]
    },
    {
     "name": "stdout",
     "output_type": "stream",
     "text": [
      "800 [ 0.31994306  1.02042661  2.14964039  6.1496929  -0.30729548 -0.07809872\n",
      "  1.26307456  0.51143468 -0.47516964  0.42237802] 837.8040177411502\n",
      "900 [ 0.30083145  1.15115039  2.31977476  6.67633215 -0.31452021 -0.06111653\n",
      "  1.22756533  0.48401358 -0.47511217  0.40928317] 804.9747733504023\n",
      "1000 [ 0.28232339  1.27907555  2.48627022  7.19225671 -0.32136085 -0.04464753\n",
      "  1.19288278  0.45751485 -0.47490433  0.3965787 ] 773.478060935454\n",
      "100 [ 0.46994462  0.02318921  0.84776118  2.14166107 -0.24273838 -0.21035773\n",
      "  1.53421594  0.72941483 -0.46867254  0.52375066] 1110.1226831158635\n",
      "200 [ 0.44397382  0.17307871  1.04355551  2.74769489 -0.25087747 -0.18725745\n",
      "  1.49024866  0.69259796 -0.46771288  0.50547077] 1066.4179594952611\n",
      "300 [ 0.41877811  0.3197586   1.23516268  3.34139086 -0.25858241 -0.16481988\n",
      "  1.44728908  0.65695118 -0.46660244  0.48770716] 1024.4860240809603\n",
      "400 [ 0.39433669  0.46329713  1.4226719   3.92300113 -0.2658665  -0.14302828\n",
      "  1.40531532  0.62244177 -0.46534725  0.47044622] 984.254626000869\n",
      "500 [ 0.37062927  0.6037611   1.6061705   4.4927727  -0.27274271 -0.12186626\n",
      "  1.36430599  0.58903782 -0.46395316  0.45367467] 945.6544688625031\n",
      "600 [ 0.34763609  0.7412159   1.78574392  5.05094748 -0.27922366 -0.10131785\n",
      "  1.32424015  0.5567083  -0.46242588  0.43737959] 908.6190896266004\n",
      "700 [ 0.32533789  0.87572555  1.96147582  5.59776244 -0.28532164 -0.08136744\n",
      "  1.28509725  0.52542297 -0.46077092  0.42154835] 873.084742457294\n",
      "800 [ 0.30371589  1.00735269  2.13344804  6.13344967 -0.29104862 -0.06199981\n",
      "  1.24685722  0.4951524  -0.45899364  0.40616867] 838.9902873439895\n",
      "900 [ 0.28275179  1.13615867  2.30174073  6.65823653 -0.29641625 -0.04320009\n",
      "  1.20950038  0.4658679  -0.45709925  0.39122857] 806.277083298546\n",
      "1000 [ 0.26242776  1.26220351  2.4664323   7.17234569 -0.30143589 -0.02495376\n",
      "  1.17300745  0.43754158 -0.45509279  0.37671637] 774.8888859394467\n",
      "100 [ 0.46596077  0.02561814  0.84377645  2.13767298 -0.23875359 -0.20637512\n",
      "  1.53023012  0.72542671 -0.46468766  0.51976478] 1110.3649214387149\n",
      "200 [ 0.43608633  0.17147621  1.03566779  2.73979679 -0.2429868  -0.17937945\n",
      "  1.48235717  0.68469774 -0.45982567  0.49757952] 1066.9908308099361\n",
      "300 [ 0.40706394  0.3142035   1.22345206  3.32966079 -0.24686186 -0.15313252\n",
      "  1.43557069  0.64521398 -0.45489431  0.47598997] 1025.3707369693782\n",
      "400 [ 0.37887129  0.45386672  1.40721682  3.90751559 -0.25039059 -0.12761566\n",
      "  1.38984722  0.60694125 -0.4498979   0.45498088] 985.4332459666521\n",
      "500 [ 0.35148661  0.59053116  1.58704779  4.47360664 -0.25358449 -0.10281068\n",
      "  1.34516381  0.56984625 -0.44484065  0.4345374 ] 947.1098821754547\n",
      "600 [ 0.32488867  0.72426071  1.76302883  5.02817439 -0.25645474 -0.07869979\n",
      "  1.30149797  0.53389657 -0.4397266   0.41464506] 910.3349686426782\n",
      "700 [ 0.29905678  0.85511795  1.93524205  5.57145432 -0.25901224 -0.05526563\n",
      "  1.25882766  0.4990606  -0.43455968  0.3952897 ] 875.045512354771\n",
      "800 [ 0.27397077  0.98316408  2.1037678   6.1036771  -0.26126758 -0.03249125\n",
      "  1.21713133  0.46530759 -0.42934369  0.37645757] 841.1810942188595\n",
      "900 [ 0.24961097  1.10845904  2.26868472  6.62506866 -0.26323108 -0.01036009\n",
      "  1.17638786  0.43260758 -0.4240823   0.35813521] 808.6837635645056\n",
      "1000 [ 2.25959035e-01  1.23106088e+00  2.43006899e+00  7.13585149e+00\n",
      " -2.64911756e-01  1.97633090e-03  1.13657528e+00  4.00931179e-01\n",
      " -4.18775237e-01  3.40308346e-01] 777.509072672318\n",
      "100 [ 0.45865836  0.02945273  0.83647252  2.13036297 -0.23144947 -0.19907511\n",
      "  1.52292422  0.71811657 -0.45738348  0.51245876] 1110.8193580268576\n",
      "200 [ 0.42162825  0.16793308  1.02120976  2.72532014 -0.22852298 -0.16493944\n",
      "  1.46789229  0.67021695 -0.44536872  0.48311517] 1068.0531070433176\n",
      "300 [ 0.38559127  0.30342694  1.20198673  3.30816056 -0.22537765 -0.13171014\n",
      "  1.41409125  0.62370018 -0.43343382  0.45451284] 1027.0079565930619\n",
      "400 [ 0.35052234  0.43599817  1.37888798  3.87913197 -0.22202256 -0.09936512\n",
      "  1.3614947   0.57852947 -0.42157997  0.42663359] 987.6139887491819\n",
      "500 [ 0.31639695  0.56570929  1.55199625  4.43847703 -0.21846655 -0.0678828\n",
      "  1.31007683  0.53466895 -0.4098083   0.39945966] 949.8041420948904\n",
      "600 [ 0.28319122  0.69262148  1.72139253  4.98643345 -0.21471818 -0.03724209\n",
      "  1.25981231  0.49208367 -0.3981199   0.37297371] 913.51409458479\n",
      "700 [ 0.25088185  0.81679464  1.8871561   5.52323403 -0.21078579 -0.00742241\n",
      "  1.21067638  0.45073956 -0.38651575  0.34715883] 878.6821512226846\n",
      "800 [ 2.19448853e-01  9.38285297e-01  2.04936188e+00  6.04911075e+00\n",
      " -2.06674034e-01 -9.49808609e-06  1.16264048e+00  4.10602814e-01\n",
      " -3.74983919e-01  3.21994521e-01] 845.2758125207558\n",
      "900 [ 1.88876859e-01  1.05714569e+00  2.20807925e+00  6.56429673e+00\n",
      " -2.02382362e-01  1.21944548e-05  1.11567034e+00  3.71639590e-01\n",
      " -3.63493584e-01  2.97454813e-01] 813.2174426454471\n",
      "1000 [ 1.59144107e-01  1.17343206e+00  2.36338258e+00  7.06901061e+00\n",
      " -1.97918497e-01  1.35721916e-04  1.06974290e+00  3.33818360e-01\n",
      " -3.52046017e-01  2.73524129e-01] 782.4426310445941\n",
      "100 [ 0.4452728   0.03389621  0.82308455  2.11696422 -0.21806084 -0.18569449\n",
      "  1.50953271  0.70471737 -0.44399519  0.49906711] 1111.6952498666951\n",
      "200 [ 0.39512486  0.15890285  0.9947085   2.69878658 -0.20200941 -0.138472\n",
      "  1.44137879  0.64367454 -0.41887013  0.45660295] 1070.0489842063869\n",
      "300 [ 0.34622872  0.2811865   1.16264124  3.26875432 -0.18599453 -0.09244481\n",
      "  1.37472045  0.58426689 -0.3940984   0.41514686] 1030.0687286107784\n",
      "400 [ 0.29855421  0.40080587  1.3269618   3.82710997 -0.1700203  -0.04758452\n",
      "  1.30952594  0.52645278 -0.36967551  0.37467523] 991.6869522633157\n",
      "500 [ 2.52071833e-01  5.17818402e-01  1.48774753e+00  4.37409108e+00\n",
      " -1.54090647e-01 -3.86334953e-03  1.24576415e+00  4.70191631e-01\n",
      " -3.45596972e-01  3.35164969e-01] 954.8388825433606\n",
      "600 [ 2.06758896e-01  6.32275735e-01  1.64506827e+00  4.90993901e+00\n",
      " -1.38201830e-01  3.89994822e-04  1.18339520e+00  4.15442529e-01\n",
      " -3.21830070e-01  2.96584738e-01] 919.5107080804382\n",
      "700 [ 1.62595667e-01  7.44226584e-01  1.79899004e+00  5.43489367e+00\n",
      " -1.22347116e-01  2.01308692e-04  1.12237633e+00  3.62165013e-01\n",
      " -2.98331401e-01  2.58900384e-01] 885.5919430118731\n",
      "800 [ 1.19554102e-01  8.53725229e-01  1.94958582e+00  5.94917749e+00\n",
      " -1.06530665e-01  3.41890752e-04  1.06267932e+00  3.10321526e-01\n",
      " -2.75099309e-01  2.22091219e-01] 853.0218890347307\n",
      "900 [ 7.76067416e-02  9.60824845e-01  2.09692712e+00  6.45300821e+00\n",
      " -9.07565649e-02  2.20932088e-04  1.00427665e+00  2.59875461e-01\n",
      " -2.52132470e-01  1.86137143e-01] 821.7439599491668\n",
      "1000 [ 3.67267999e-02  1.06557745e+00  2.24108390e+00  6.94659916e+00\n",
      " -7.50287210e-02 -1.56373593e-04  9.47141305e-01  2.10791108e-01\n",
      " -2.29429441e-01  1.51018495e-01] 791.7082477657841\n",
      "100 [ 0.42073596  0.03583387  0.79854468  2.09240581 -0.19351861 -0.16116865\n",
      "  1.48498656  0.68015729 -0.4194552   0.47452091] 1113.4060413108468\n",
      "200 [ 0.34653943  0.1362623   0.94613225  2.65015585 -0.15340622 -0.08995986\n",
      "  1.39278094  0.59502445 -0.37030055  0.40800827] 1073.8344095142133\n",
      "300 [ 0.27406902  0.23444846  1.09052182  3.19653163 -0.11379863 -0.02047592\n",
      "  1.30255606  0.51198919 -0.32200049  0.34299272] 1035.8452067367555\n",
      "400 [ 2.03290888e-01  3.30437343e-01  1.23177682e+00  3.73177427e+00\n",
      " -7.46837339e-02 -3.70626298e-04  1.21426147e+00  4.30999831e-01\n",
      " -2.74513472e-01  2.79432414e-01] 999.4339194087426\n",
      "500 [ 1.34182817e-01  4.24264802e-01  1.36994890e+00  4.25613541e+00\n",
      " -3.60362316e-02 -3.16721497e-04  1.12783105e+00  3.52003535e-01\n",
      " -2.27748389e-01  2.17270796e-01] 964.4921067232519\n",
      "600 [ 6.67071108e-02  5.15977949e-01  1.50510384e+00  4.76983873e+00\n",
      " -3.21776322e-05  4.85500338e-04  1.04322485e+00  2.74952148e-01\n",
      " -1.81690202e-01  1.56475582e-01] 930.9292349779769\n",
      "700 [ 8.24302053e-04  6.05634647e-01  1.63730741e+00  5.27308703e+00\n",
      " -1.18388069e-04 -1.30610117e-04  9.60389125e-01  1.99795315e-01\n",
      " -1.36324305e-01  9.70185054e-02] 898.6329851731535\n",
      "800 [ 2.12809353e-04  6.93308888e-01  1.76660159e+00  5.76609857e+00\n",
      "  1.35844572e-05  1.95378186e-05  8.79306067e-01  1.26480614e-01\n",
      " -9.16371211e-02  3.88623235e-02] 867.6715886881826\n",
      "900 [-2.30673580e-04  7.79064479e-01  1.89302568e+00  6.24910057e+00\n",
      "  3.62275251e-04 -1.59244296e-04  7.99973036e-01  5.49596492e-02\n",
      " -4.76206788e-02  4.60750791e-04] 837.9261194542614\n",
      "1000 [-5.22242856e-04  8.62934340e-01  2.01663508e+00  6.72231163e+00\n",
      " -1.71427169e-04  4.50987687e-04  7.22362314e-01 -6.57267628e-04\n",
      " -4.28817343e-03 -4.86219040e-04] 809.3623678775958\n",
      "100 [ 0.37575671  0.02731832  0.75356361  2.04739414 -0.14853011 -0.11621478\n",
      "  1.43999457  0.6351403  -0.37447517  0.42952943] 1116.7583849959\n",
      "200 [ 2.57472113e-01  8.29263857e-02  8.57093054e-01  2.56102692e+00\n",
      " -6.43082161e-02 -1.04267679e-03  1.30370393e+00  5.05853216e-01\n",
      " -2.81277386e-01  3.18938851e-01] 1081.0699658792992\n",
      "300 [ 1.41802318e-01  1.37155608e-01  9.58310220e-01  3.06419159e+00\n",
      "  6.10752579e-04  4.94926377e-04  1.17025198e+00  3.79506701e-01\n",
      " -1.89763319e-01  2.10714106e-01] 1046.9721047704384\n",
      "400 [ 2.87057745e-02  1.90052516e-01  1.05724783e+00  3.55709239e+00\n",
      " -7.42225572e-04 -4.25649013e-04  1.03950662e+00  2.56020446e-01\n",
      " -9.97964053e-02  1.04780087e-01] 1014.1465695534798\n",
      "500 [-5.14023784e-04  2.41680672e-01  1.15393537e+00  4.03993809e+00\n",
      "  8.04502615e-05  2.04505418e-04  9.11425043e-01  1.35321834e-01\n",
      " -1.13451868e-02  1.08130215e-03] 982.7267450761154\n",
      "600 [ 4.69563806e-04  2.92100146e-01  1.24838679e+00  4.51297274e+00\n",
      " -9.16023266e-04  4.46831327e-04  7.86023992e-01  1.73425745e-02\n",
      "  2.25542505e-04  5.54837241e-04] 952.5009645168183\n",
      "700 [-4.48682800e-04  3.41310191e-01  1.34071378e+00  4.97640866e+00\n",
      "  2.80746864e-04  4.23123965e-04  6.63291227e-01 -8.58721480e-04\n",
      " -6.60781648e-05  1.37877399e-04] 923.5604805420555\n",
      "800 [ 7.20247818e-04  3.89324541e-01  1.43101350e+00  5.43048129e+00\n",
      " -3.20869701e-04  1.46676137e-04  5.43264988e-01 -8.77198210e-04\n",
      " -2.15943227e-04 -1.72059710e-04] 895.719424670333\n",
      "900 [-2.67484167e-05  4.36170996e-01  1.51933115e+00  5.87538072e+00\n",
      " -7.23371527e-04 -3.77760270e-04  4.25887639e-01 -7.45681058e-04\n",
      " -2.25733480e-04 -3.76302153e-04] 868.9157831925043\n",
      "1000 [-6.90833316e-04  4.81876930e-01  1.60570994e+00  6.31129252e+00\n",
      " -9.30829463e-04  8.54034858e-04  3.11101020e-01 -4.66721980e-04\n",
      " -9.96371126e-05 -4.76581133e-04] 843.1033616565185\n"
     ]
    }
   ],
   "source": [
    "l_1 = []\n",
    "w_1 = []\n",
    "for l in np.logspace(start=-4, stop=1, num=20):\n",
    "    l_1.append(l)\n",
    "    result_1 = eval_GD_1(X_, y_, iterations=1000, alpha=1e-4,lambda_=l, show=False)\n",
    "    w_1.append(result_1)"
   ]
  },
  {
   "cell_type": "code",
   "execution_count": 161,
   "metadata": {},
   "outputs": [
    {
     "name": "stdout",
     "output_type": "stream",
     "text": [
      "100 [ 0.47472626  0.01984925  0.8525434   2.1464452  -0.24752165 -0.21513846\n",
      "  1.53899785  0.73420113 -0.4734555   0.52853469] 1109.8391289353972\n",
      "200 [ 0.45344064  0.17458646  1.05302144  2.75716849 -0.26034906 -0.19671433\n",
      "  1.49971648  0.70207943 -0.4771798   0.5149423 ] 1065.7386131849685\n",
      "300 [ 0.43283779  0.32601895  1.24921583  3.35545912 -0.27265108 -0.17884971\n",
      "  1.46134835  0.67103775 -0.48065559  0.50177089] 1023.4343013515826\n",
      "400 [ 0.41289871  0.47421686  1.44121777  3.94157116 -0.28444282 -0.16153008\n",
      "  1.4238735   0.64104507 -0.48389094  0.48900879] 982.8528578152245\n",
      "500 [ 0.3936049   0.61924881  1.62911652  4.51575347 -0.29573898 -0.1447413\n",
      "  1.38727243  0.61207118 -0.48689373  0.47664461] 943.9239476714588\n",
      "600 [ 0.37493835  0.76118201  1.81299945  5.07824982 -0.3065539  -0.12846954\n",
      "  1.35152601  0.58408668 -0.4896716   0.46466729] 906.5801137020603\n",
      "700 [ 0.3568815   0.90008224  1.99295207  5.62929896 -0.31690155 -0.1127013\n",
      "  1.31661553  0.55706296 -0.49223199  0.45306604] 870.7566583993181\n",
      "800 [ 0.33941725  1.03601386  2.16905808  6.16913477 -0.32679555 -0.09742343\n",
      "  1.28252265  0.53097217 -0.49458215  0.44183035] 836.3915308360562\n",
      "900 [ 0.32252896  1.16903991  2.3413994   6.69798632 -0.33624918 -0.08262308\n",
      "  1.24922942  0.5057872  -0.49672912  0.43095001] 803.4252181819895\n",
      "1000 [ 0.30620039  1.29922209  2.51005619  7.21607798 -0.34527537 -0.06828772\n",
      "  1.21671827  0.48148168 -0.49867974  0.42041504] 771.8006416752385\n",
      "100 [ 0.47472546  0.01984935  0.85254217  2.14644218 -0.24752125 -0.21513809\n",
      "  1.53899528  0.73419989 -0.47345473  0.52853381] 1109.8393197398393\n",
      "200 [ 0.45343908  0.1745864   1.05301866  2.75716148 -0.26034826 -0.19671363\n",
      "  1.49971146  0.70207703 -0.47717826  0.51494058] 1065.7390576655143\n",
      "300 [ 0.43283552  0.32601849  1.24921121  3.35544721 -0.27264987 -0.17884871\n",
      "  1.46134098  0.67103425 -0.48065329  0.50176836] 1023.4350538948972\n",
      "400 [ 0.41289579  0.47421575  1.44121103  3.94155346 -0.28444119 -0.16152884\n",
      "  1.4238639   0.64104054 -0.4838879   0.48900548] 982.8539664128394\n",
      "500 [ 0.39360136  0.61924684  1.62910739  4.51572915 -0.29573692 -0.14473983\n",
      "  1.3872607   0.61206568 -0.48688996  0.47664056] 943.9254543833115\n",
      "600 [ 0.37493423  0.76117896  1.81298768  5.07821808 -0.30655141 -0.12846787\n",
      "  1.35151226  0.58408027 -0.48966711  0.46466254] 906.5820550921266\n",
      "700 [ 0.35687684  0.90007789  1.99293741  5.62925902 -0.31689862 -0.11269948\n",
      "  1.31659984  0.5570557  -0.49222679  0.45306062] 870.759065944867\n",
      "800 [ 0.33941209  1.03600803  2.1690403   6.1690859  -0.32679219 -0.09742148\n",
      "  1.28250513  0.53096411 -0.49457626  0.44182429] 836.3944313119699\n",
      "900 [ 0.32252332  1.16903241  2.34137827  6.69792782 -0.33624538 -0.08262102\n",
      "  1.24921016  0.5057784  -0.49672255  0.43094333] 803.4286340215166\n",
      "1000 [ 0.30619432  1.29921273  2.51003151  7.21600917 -0.34527114 -0.06828558\n",
      "  1.21669735  0.48147217 -0.4986725   0.42040778] 771.8045913084862\n",
      "100 [ 0.47472399  0.01984953  0.8525399   2.14643663 -0.24752053 -0.21513741\n",
      "  1.53899057  0.73419762 -0.4734533   0.52853219] 1109.8396694800542\n",
      "200 [ 0.45343623  0.17458629  1.05301356  2.75714863 -0.26034679 -0.19671234\n",
      "  1.49970224  0.70207261 -0.47717543  0.51493741] 1065.739872386903\n",
      "300 [ 0.43283138  0.32601763  1.24920274  3.35542537 -0.27264765 -0.1788469\n",
      "  1.46132747  0.67102783 -0.48064908  0.50176371] 1023.436433285285\n",
      "400 [ 0.41289043  0.47421372  1.44119867  3.94152103 -0.28443819 -0.16152655\n",
      "  1.4238463   0.64103223 -0.48388232  0.48899942] 982.8559984376966\n",
      "500 [ 0.39359487  0.61924322  1.62909066  4.51568459 -0.29573315 -0.14473713\n",
      "  1.3872392   0.6120556  -0.48688304  0.47663315] 943.9282161354965\n",
      "600 [ 0.37492668  0.76117335  1.8129661   5.07815989 -0.30654684 -0.12846483\n",
      "  1.35148704  0.58406853 -0.48965887  0.46465384] 906.585613590473\n",
      "700 [ 0.3568683   0.90006992  1.99291053  5.62918582 -0.31689326 -0.11269614\n",
      "  1.3165711   0.5570424  -0.49221726  0.45305068] 870.7634788844043\n",
      "800 [ 0.33940262  1.03599733  2.1690077   6.16899633 -0.32678603 -0.09741789\n",
      "  1.28247302  0.53094934 -0.49456546  0.44181318] 836.3997477684314\n",
      "900 [ 0.32251298  1.16901864  2.34133955  6.69782058 -0.33623843 -0.08261724\n",
      "  1.24917485  0.50576226 -0.4967105   0.43093109] 803.4348951126481\n",
      "1000 [ 0.30618318  1.29919557  2.50998628  7.21588306 -0.34526339 -0.06828165\n",
      "  1.21665901  0.48145475 -0.49865923  0.42039446] 771.8118308145359\n",
      "100 [ 0.47472129  0.01984987  0.85253575  2.14642647 -0.2475192  -0.21513617\n",
      "  1.53898193  0.73419345 -0.47345069  0.52852922] 1109.8403105449477\n",
      "200 [ 0.45343101  0.17458609  1.05300422  2.75712509 -0.2603441  -0.19670999\n",
      "  1.49968536  0.70206453 -0.47717024  0.5149316 ] 1065.7413657458223\n",
      "300 [ 0.43282379  0.32601607  1.24918722  3.35538536 -0.27264357 -0.17884356\n",
      "  1.46130272  0.67101606 -0.48064135  0.50175519] 1023.438961657767\n",
      "400 [ 0.41288061  0.47421     1.44117603  3.94146159 -0.2844327  -0.16152235\n",
      "  1.42381405  0.641017   -0.4838721   0.48898831] 982.8597230557552\n",
      "500 [ 0.39358298  0.61923659  1.62905999  4.5156029  -0.29572622 -0.14473219\n",
      "  1.3871998   0.61203712 -0.48687036  0.47661957] 943.9332783014819\n",
      "600 [ 0.37491284  0.76116308  1.81292654  5.07805325 -0.30653848 -0.12845924\n",
      "  1.35144083  0.584047   -0.48964377  0.46463789] 906.5921361411216\n",
      "700 [ 0.35685264  0.90005532  1.99286127  5.62905164 -0.31688344 -0.11269001\n",
      "  1.3165184   0.55701801 -0.49219979  0.45303247] 870.771567566207\n",
      "800 [ 0.33938526  1.03597774  2.16894795  6.16883214 -0.32677475 -0.09741132\n",
      "  1.28241416  0.53092228 -0.49454566  0.44179281] 836.4094925291797\n",
      "900 [ 0.32249404  1.16899342  2.34126857  6.69762404 -0.33622568 -0.08261031\n",
      "  1.24911014  0.50573267 -0.49668841  0.43090866] 803.4463713137682\n",
      "1000 [ 0.30616276  1.29916411  2.50990337  7.2156519  -0.34524917 -0.06827445\n",
      "  1.21658873  0.48142281 -0.4986349   0.42037006] 771.8251003685831\n",
      "100 [ 0.47471635  0.01985048  0.85252813  2.14640784 -0.24751676 -0.21513389\n",
      "  1.53896609  0.73418581 -0.47344591  0.52852377] 1109.8414855972278\n",
      "200 [ 0.45342143  0.17458572  1.0529871   2.75708192 -0.26033917 -0.19670569\n",
      "  1.4996544   0.70204971 -0.47716074  0.51492096] 1065.744103011425\n",
      "300 [ 0.43280986  0.32601321  1.24915877  3.35531201 -0.27263609 -0.17883745\n",
      "  1.46125734  0.67099449 -0.4806272   0.50173958] 1023.4435960368284\n",
      "400 [ 0.41286262  0.47420319  1.44113452  3.94135264 -0.28442264 -0.16151466\n",
      "  1.42375492  0.64098909 -0.48385337  0.48896795] 982.8665500599453\n",
      "500 [ 0.39356117  0.61922443  1.62900377  4.51545317 -0.29571354 -0.14472313\n",
      "  1.38712757  0.61200325 -0.48684712  0.47659467] 943.9425569105124\n",
      "600 [ 0.37488747  0.76114425  1.81285403  5.07785779 -0.30652314 -0.128449\n",
      "  1.35135613  0.58400755 -0.4896161   0.46460865] 906.6040914871897\n",
      "700 [ 0.35682394  0.90002855  1.99277098  5.6288057  -0.31686544 -0.11267878\n",
      "  1.31642182  0.55697332 -0.49216777  0.45299909] 870.7863934557787\n",
      "800 [ 0.33935345  1.03594181  2.16883844  6.16853121 -0.32675407 -0.09739927\n",
      "  1.28230629  0.53087266 -0.49450936  0.44175547] 836.4273538110289\n",
      "900 [ 0.32245933  1.16894719  2.34113848  6.69726379 -0.33620231 -0.08259762\n",
      "  1.24899152  0.50567845 -0.49664793  0.43086754] 803.4674061017341\n",
      "1000 [ 0.30612534  1.29910647  2.50975141  7.21522822 -0.34522312 -0.06826125\n",
      "  1.21645992  0.48136427 -0.49859031  0.42032533] 771.8494221270628\n",
      "100 [ 0.4747073   0.0198516   0.85251418  2.14637369 -0.2475123  -0.21512972\n",
      "  1.53893706  0.73417181 -0.47343714  0.5285138 ] 1109.8436394208518\n",
      "200 [ 0.45340388  0.17458505  1.05295571  2.75700281 -0.26033013 -0.19669779\n",
      "  1.49959767  0.70202254 -0.47714332  0.51490144] 1065.7491202573128\n",
      "300 [ 0.43278435  0.32600796  1.24910662  3.35517756 -0.27262239 -0.17882626\n",
      "  1.46117418  0.67095495 -0.48060125  0.50171096] 1023.4520904990782\n",
      "400 [ 0.41282964  0.4741907   1.44105844  3.94115295 -0.2844042  -0.16150057\n",
      "  1.42364656  0.64093793 -0.48381903  0.48893062] 982.8790633267882\n",
      "500 [ 0.39352121  0.61920215  1.62890073  4.51517873 -0.29569029 -0.14470652\n",
      "  1.38699519  0.61194118 -0.48680452  0.47654903] 943.9595636035443\n",
      "600 [ 0.37484097  0.76110974  1.81272114  5.07749952 -0.30649504 -0.12843024\n",
      "  1.35120088  0.58393524 -0.48956539  0.46455507] 906.6260041848195\n",
      "700 [ 0.35677133  0.89997948  1.99260549  5.62835494 -0.31683245 -0.1126582\n",
      "  1.31624481  0.5568914  -0.49210908  0.45293792] 870.8135673181574\n",
      "800 [ 0.33929514  1.03587597  2.16863773  6.16797966 -0.32671616 -0.09737719\n",
      "  1.28210858  0.53078174 -0.49444285  0.44168705] 836.4600909228446\n",
      "900 [ 0.3223957   1.16886245  2.34090006  6.69660353 -0.33615949 -0.08257434\n",
      "  1.24877414  0.50557908 -0.49657373  0.43079219] 803.5059595483984\n",
      "1000 [ 0.30605675  1.29900081  2.5094729   7.2144517  -0.34517538 -0.06823707\n",
      "  1.21622385  0.48125698 -0.4985086   0.42024335] 771.893999819021\n",
      "100 [ 0.4746907   0.01985364  0.8524886   2.14631109 -0.24750412 -0.21512207\n",
      "  1.53888386  0.73414614 -0.47342106  0.52849551] 1109.8475872555584\n",
      "200 [ 0.45337171  0.17458382  1.05289817  2.75685779 -0.26031357 -0.19668331\n",
      "  1.49949368  0.70197274 -0.47711139  0.51486568] 1065.7583164054897\n",
      "300 [ 0.43273758  0.32599834  1.24901104  3.35493114 -0.27259728 -0.17880574\n",
      "  1.46102175  0.67088248 -0.4805537   0.5016585 ] 1023.4676597936184\n",
      "400 [ 0.4127692   0.4741678   1.440919    3.94078695 -0.28437039 -0.16147474\n",
      "  1.42344794  0.64084416 -0.4837561   0.48886222] 982.9019982232027\n",
      "500 [ 0.39344796  0.61916131  1.62871188  4.51467574 -0.29564768 -0.14467608\n",
      "  1.38675258  0.61182742 -0.48672646  0.47646539] 943.9907337944861\n",
      "600 [ 0.37475575  0.76104649  1.81247759  5.07684292 -0.30644353 -0.12839585\n",
      "  1.35091636  0.58380272 -0.48947245  0.46445687] 906.6661656344536\n",
      "700 [ 0.35667493  0.89988956  1.99230219  5.62752882 -0.31677198 -0.11262048\n",
      "  1.31592042  0.55674127 -0.49200153  0.45282581] 870.8633707481385\n",
      "800 [ 0.33918829  1.0357553   2.16826989  6.16696884 -0.3266467  -0.09733673\n",
      "  1.28174626  0.53061511 -0.49432095  0.44156165] 836.520089780031\n",
      "900 [ 0.32227911  1.16870714  2.34046311  6.69539351 -0.336081   -0.08253169\n",
      "  1.24837578  0.50539698 -0.49643777  0.43065409] 803.5766174828643\n",
      "1000 [ 0.30593107  1.29880717  2.5089625   7.21302865 -0.34508788 -0.06819275\n",
      "  1.21579126  0.48106038 -0.49835885  0.42009312] 771.9756976994526\n",
      "100 [ 0.47466028  0.0198574   0.85244172  2.14619636 -0.24748912 -0.21510805\n",
      "  1.53878633  0.7340991  -0.47339159  0.52846199] 1109.8548232834164\n",
      "200 [ 0.45331275  0.17458156  1.05279272  2.75659201 -0.26028322 -0.19665678\n",
      "  1.49930309  0.70188148 -0.47705287  0.51480014] 1065.7751715355348\n",
      "300 [ 0.43265187  0.3259807   1.24883587  3.35447952 -0.27255125 -0.17876813\n",
      "  1.46074238  0.67074967 -0.48046655  0.50156237] 1023.4961950170866\n",
      "400 [ 0.41265843  0.47412584  1.44066345  3.94011618 -0.28430844 -0.1614274\n",
      "  1.42308396  0.64067233 -0.48364076  0.48873686] 982.9440318007802\n",
      "500 [ 0.39331374  0.61908646  1.62836579  4.51375397 -0.29556959 -0.1446203\n",
      "  1.38630797  0.61161896 -0.4865834   0.47631211] 944.0478589168666\n",
      "600 [ 0.3745996   0.76093058  1.81203127  5.07563967 -0.30634914 -0.12833283\n",
      "  1.350395    0.58355988 -0.48930214  0.46427693] 906.739767015021\n",
      "700 [ 0.35649828  0.89972476  1.99174641  5.62601498 -0.31666118 -0.11255137\n",
      "  1.31532601  0.5564662  -0.49180445  0.45262039] 870.9546402063764\n",
      "800 [ 0.33899251  1.03553416  2.16759586  6.16511658 -0.32651942 -0.0972626\n",
      "  1.28108239  0.53030981 -0.4940976   0.44133189] 836.6300408712125\n",
      "900 [ 0.32206549  1.16842255  2.33966247  6.69317631 -0.33593721 -0.08245356\n",
      "  1.24764591  0.50506335 -0.49618866  0.43040108] 803.7060992267124\n",
      "1000 [ 0.30570083  1.29845233  2.5080273   7.21042119 -0.34492757 -0.06811157\n",
      "  1.21499871  0.4807002  -0.49808449  0.4198179 ] 772.1254074577114\n",
      "100 [ 0.47460452  0.01986429  0.85235579  2.14598609 -0.24746164 -0.21508235\n",
      "  1.53860759  0.73401288 -0.47333759  0.52840056] 1109.8680858522405\n",
      "200 [ 0.4532047   0.17457741  1.05259947  2.75610492 -0.26022759 -0.19660816\n",
      "  1.4989538   0.70171422 -0.47694562  0.51468003] 1065.8060625242456\n",
      "300 [ 0.4324948   0.32594838  1.24851486  3.3536519  -0.27246691 -0.17869921\n",
      "  1.46023046  0.67050629 -0.48030685  0.50138621] 1023.5484894762238\n",
      "400 [ 0.41245546  0.47404893  1.44019518  3.93888704 -0.28419491 -0.16134067\n",
      "  1.42241703  0.64035747 -0.48342943  0.48850716] 983.0210595739218\n",
      "500 [ 0.39306782  0.61894929  1.62773165  4.51206499 -0.29542651 -0.1445181\n",
      "  1.38549339  0.61123702 -0.48632129  0.47603129] 944.1525371374072\n",
      "600 [ 0.37431353  0.76071816  1.81121354  5.07343508 -0.30617622 -0.12821738\n",
      "  1.34943986  0.58311501 -0.48899012  0.46394727] 906.8746306305372\n"
     ]
    },
    {
     "name": "stdout",
     "output_type": "stream",
     "text": [
      "700 [ 0.3561747   0.89942279  1.99072819  5.6232415  -0.31645821 -0.11242477\n",
      "  1.31423716  0.55596231 -0.49144343  0.4522441 ] 871.1218706392359\n",
      "800 [ 0.33863392  1.03512897  2.16636108  6.16172333 -0.32628626 -0.09712683\n",
      "  1.27986641  0.5297506  -0.49368849  0.44091105] 836.8314929184464\n",
      "900 [ 0.32167425  1.16790112  2.33819584  6.68911474 -0.33567381 -0.08231047\n",
      "  1.24630916  0.50445231 -0.49573239  0.4299377 ] 803.9433262967987\n",
      "1000 [ 0.30527918  1.29780225  2.5063143   7.205645   -0.34463396 -0.06796291\n",
      "  1.21354731  0.48004061 -0.49758202  0.41931387] 772.3996852368333\n",
      "100 [ 0.47450234  0.01987691  0.85219831  2.14560071 -0.24741128 -0.21503526\n",
      "  1.53828001  0.73385486 -0.47323861  0.52828797] 1109.892392758469\n",
      "200 [ 0.45300671  0.17456981  1.05224535  2.75521235 -0.26012565 -0.19651907\n",
      "  1.49831377  0.70140774 -0.47674909  0.51445993] 1065.8626712047671\n",
      "300 [ 0.43220704  0.32588913  1.2479267   3.35213553 -0.27231239 -0.17857294\n",
      "  1.45929257  0.6700604  -0.48001426  0.50106346] 1023.6443104355068\n",
      "400 [ 0.41208367  0.473908    1.43933732  3.93663531 -0.28398696 -0.1611818\n",
      "  1.42119536  0.63978073 -0.48304231  0.48808641] 983.1621862995229\n",
      "500 [ 0.39261744  0.61869796  1.62657008  4.50897121 -0.29516445 -0.14433093\n",
      "  1.38400151  0.61053751 -0.48584123  0.47551696] 944.344306086529\n",
      "600 [ 0.37378969  0.760329    1.80971586  5.06939731 -0.30585954 -0.128006\n",
      "  1.34769084  0.58230039 -0.48841875  0.46334361] 907.1216775504903\n",
      "700 [ 0.35558228  0.89886962  1.98886355  5.61816237 -0.31608655 -0.11219302\n",
      "  1.31224362  0.55503979 -0.49078241  0.45155515] 871.4281834252461\n",
      "800 [ 0.33797753  1.03438682  2.16410012  6.15550991 -0.32585939 -0.09687833\n",
      "  1.2776405   0.52872699 -0.49293953  0.44014068] 837.2004612016003\n",
      "900 [ 0.32095824  1.16694616  2.33551065  6.68167839 -0.33519166 -0.08204863\n",
      "  1.24386257  0.50333402 -0.49489724  0.42908958] 804.3777879448078\n",
      "1000 [ 0.30450764  1.29661181  2.50317838  7.19690124 -0.34409657 -0.06769094\n",
      "  1.21089131  0.47883367 -0.49666245  0.41839154] 772.9019699406927\n",
      "100 [ 0.4743151   0.01990002  0.85190973  2.14489452 -0.24731898 -0.21494897\n",
      "  1.53767974  0.73356531 -0.47305724  0.52808166] 1109.9369363454623\n",
      "200 [ 0.45264401  0.17455585  1.0515966   2.75357717 -0.25993891 -0.19635587\n",
      "  1.4971413   0.70084632 -0.47638908  0.51405674] 1065.9663871162602\n",
      "300 [ 0.43168007  0.32578055  1.24684949  3.34935821 -0.27202939 -0.17834172\n",
      "  1.45757499  0.66924383 -0.47947842  0.5004724 ] 1023.8198349723297\n",
      "400 [ 0.41140302  0.4736498   1.43776652  3.93251207 -0.28360622 -0.16089095\n",
      "  1.41895875  0.63872486 -0.48233357  0.4873161 ] 983.420654966897\n",
      "500 [ 0.39179316  0.6182376   1.62444365  4.50330734 -0.29468478 -0.14398841\n",
      "  1.38127103  0.6092573  -0.48496257  0.47457564] 944.6954649585645\n",
      "600 [ 0.37283129  0.75961634  1.80697472  5.06200686 -0.30528005 -0.12761929\n",
      "  1.34449073  0.58080997 -0.48737326  0.46223912] 907.5739877431389\n",
      "700 [ 0.35449876  0.89785682  1.9854515   5.60886787 -0.31540661 -0.11176919\n",
      "  1.30859722  0.55335251 -0.48957324  0.45029499] 871.9889190652224\n",
      "800 [ 0.33677738  1.03302828  2.15996374  6.14414211 -0.32507866 -0.09642404\n",
      "  1.2735703   0.52685541 -0.49156989  0.43873202] 837.8758012582217\n",
      "900 [ 0.31964949  1.16519844  2.3305992   6.66807598 -0.33431002 -0.08157014\n",
      "  1.23939022  0.50128998 -0.49337039  0.42753925] 805.1729022721959\n",
      "1000 [ 0.30309788  1.29443352  2.49744369  7.18091058 -0.34311415 -0.06719413\n",
      "  1.20603766  0.47662833 -0.49498171  0.41670603] 773.8210998592645\n",
      "100 [ 0.47397207  0.01994237  0.85138105  2.14360076 -0.2471499  -0.21479088\n",
      "  1.53658005  0.73303485 -0.47272497  0.5277037 ] 1110.0185486017153\n",
      "200 [ 0.45197992  0.17453022  1.05040865  2.75058285 -0.25959699 -0.19605706\n",
      "  1.49499456  0.69981837 -0.47572989  0.51331851] 1066.1563395337432\n",
      "300 [ 0.43071575  0.32558159  1.24487784  3.34427469 -0.27151149 -0.17791861\n",
      "  1.45443189  0.66774959 -0.47849784  0.4993908 ] 1024.1411872348197\n",
      "400 [ 0.41015821  0.47317692  1.4348927   3.92496822 -0.28290978 -0.16035906\n",
      "  1.41486814  0.6367938  -0.48103725  0.48590727] 983.893705073258\n",
      "500 [ 0.39028653  0.61739487  1.62055493  4.49294898 -0.29380781 -0.14336239\n",
      "  1.37627994  0.6069173  -0.48335634  0.47285497] 945.3379580729098\n",
      "600 [ 0.37108052  0.75831227  1.8019639   5.04849622 -0.30422108 -0.12691296\n",
      "  1.33864444  0.57808732 -0.48546304  0.46022133] 908.4013118281171\n",
      "700 [ 0.35252057  0.89600425  1.97921676  5.59188301 -0.31416468 -0.11099557\n",
      "  1.30193932  0.55027203 -0.48736508  0.44799411] 873.0142880594503\n",
      "800 [ 0.33458757  1.03054421  2.15240841  6.12337644 -0.32365328 -0.09559539\n",
      "  1.26614274  0.52344048 -0.48906996  0.43616141] 839.1104265175298\n",
      "900 [ 0.31726297  1.16200391  2.32163159  6.64323769 -0.33270115 -0.08069797\n",
      "  1.23123337  0.49756262 -0.49058494  0.42471169] 806.6261529551374\n",
      "1000 [ 0.30052871  1.29045346  2.48697694  7.15172219 -0.34132217 -0.06628924\n",
      "  1.19719034  0.47260925 -0.49191708  0.41363368] 775.5006529001997\n",
      "100 [ 0.47334395  0.02001987  0.85041291  2.14123154 -0.24684028 -0.2145014\n",
      "  1.53456637  0.73206351 -0.47211654  0.5270116 ] 1110.1680238193755\n",
      "200 [ 0.45076514  0.17448307  1.04823516  2.74510423 -0.25897148 -0.19551047\n",
      "  1.49106755  0.69793799 -0.47452403  0.51196807] 1066.5039921799405\n",
      "300 [ 0.42895358  0.32521708  1.2412735   3.33498101 -0.27056493 -0.17714547\n",
      "  1.44868809  0.66501904 -0.47670579  0.49741425] 1024.7289419908736\n",
      "400 [ 0.40788583  0.47231152  1.42964328  3.91118724 -0.28163809 -0.15938822\n",
      "  1.40740041  0.63326872 -0.4786705   0.48333533] 984.7583887455285\n",
      "500 [ 0.38753911  0.61585382  1.6134571   4.47404065 -0.29220792 -0.14222102\n",
      "  1.36717758  0.6026502  -0.48042658  0.46971697] 946.5116981697346\n",
      "600 [ 0.36789131  0.75592936  1.79282483  5.02385161 -0.30229086 -0.12562667\n",
      "  1.32799331  0.57312772 -0.48198215  0.45654521] 909.911908896945\n",
      "700 [ 0.34892097  0.89262144  1.9678537   5.56092322 -0.31190292 -0.10958842\n",
      "  1.28982195  0.54466661 -0.48334512  0.44380653] 874.8855633599037\n",
      "800 [ 0.33060722  1.02601138  2.13864837  6.08555154 -0.32105961 -0.09409\n",
      "  1.25263845  0.51723321 -0.4845231   0.43148776] 841.3625465166865\n",
      "900 [ 0.31292982  1.15617857  2.30531095  6.59802572 -0.32977601 -0.07911557\n",
      "  1.21641834  0.49079486 -0.48552349  0.41957613] 809.2759320467974\n",
      "1000 [ 0.29586911  1.28320047  2.46794114  7.09862818 -0.33806676 -0.06464972\n",
      "  1.18113777  0.46531988 -0.48635344  0.40805924] 778.5618356699808\n",
      "100 [ 0.47219472  0.02016155  0.84864141  2.13689628 -0.24627378 -0.21397178\n",
      "  1.53088211  0.73028635 -0.47100334  0.52574532] 1110.4416113222078\n",
      "200 [ 0.44854673  0.17439603  1.04426457  2.73509514 -0.25782902 -0.19451235\n",
      "  1.48389594  0.69450408 -0.47232174  0.50950188] 1067.13946706089\n",
      "300 [ 0.42574164  0.3245496   1.23469904  3.31802727 -0.2688391  -0.1757364\n",
      "  1.4382181   0.66004202 -0.47343886  0.49381133] 1025.8020030425885\n",
      "400 [ 0.40375184  0.47072982  1.42008213  3.88608323 -0.27932337 -0.15762236\n",
      "  1.39381333  0.62685576 -0.4743636   0.47865588] 986.335272641984\n",
      "500 [ 0.38255057  0.61304141  1.60054749  4.43964356 -0.2893006  -0.14014928\n",
      "  1.35064729  0.59490229 -0.47510457  0.46401827] 948.6499623769643\n",
      "600 [ 0.36211188  0.75158636  1.77622527  4.97907907 -0.29878893 -0.12329682\n",
      "  1.30868654  0.56413996 -0.47567009  0.44988178] 912.6611594336601\n",
      "700 [ 0.34241068  0.88646397  1.94724219  5.50475102 -0.30780594 -0.10704529\n",
      "  1.26789852  0.53452847 -0.47606815  0.43623022] 878.2881309686136\n",
      "800 [ 0.32342263  1.01777092  2.11372159  6.01701145 -0.31636867 -0.09137554\n",
      "  1.22825153  0.50602882 -0.47630649  0.42304789] 845.454114588185\n",
      "900 [ 0.30512415  1.14560137  2.27578357  6.51620335 -0.32449356 -0.07626903\n",
      "  1.18971469  0.47860325 -0.47639255  0.41031958] 814.086119435975\n",
      "1000 [ 0.28749244  1.27004698  2.43354506  7.00266093 -0.33219659 -0.06170776\n",
      "  1.15225795  0.45221521 -0.47633351  0.39803057] 784.1147373481148\n",
      "100 [ 0.47009532  0.02042     0.84540465  2.12897488 -0.24523883 -0.21300428\n",
      "  1.52415159  0.72703981 -0.46896966  0.52343206] 1110.941758011953\n",
      "200 [ 0.44450805  0.17423453  1.03703131  2.71685945 -0.25574863 -0.19269538\n",
      "  1.47083917  0.68825254 -0.46831191  0.50501189] 1068.2983670848994\n",
      "300 [ 0.41991449  0.32332835  1.22275573  3.28722279 -0.26570633 -0.17318054\n",
      "  1.41922111  0.65101262 -0.4675102   0.48727416] 1027.7545834486605\n",
      "400 [ 0.39627815  0.46784594  1.40275938  3.840588   -0.27513461 -0.15443108\n",
      "  1.36924465  0.61526194 -0.4665732   0.47019441] 989.1987352891177\n",
      "500 [ 0.37356382  0.60792739  1.57721818  4.37746253 -0.2840553  -0.13641932\n",
      "  1.32085862  0.5809445  -0.46550921  0.453749  ] 952.5253911993825\n",
      "600 [ 0.35173754  0.74370848  1.74630261  4.89833867 -0.29248943 -0.11911852\n",
      "  1.27401345  0.54800631 -0.46432615  0.43791515] 917.6350012676775\n",
      "700 [ 0.33076656  0.87532089  1.91017794  5.40369399 -0.30045726 -0.10250285\n",
      "  1.22866105  0.51639533 -0.46303162  0.42267085] 884.4335591402424\n",
      "800 [ 0.3106193   1.00289222  2.06900436  5.89399177 -0.30797828 -0.08654741\n",
      "  1.18475483  0.48606144 -0.46163286  0.40799489] 852.8322838227043\n",
      "900 [ 0.29126529  1.12654623  2.22293714  6.36968144 -0.31507126 -0.07122812\n",
      "  1.14224963  0.45695631 -0.46013679  0.39386679] 822.7473200566094\n"
     ]
    },
    {
     "name": "stdout",
     "output_type": "stream",
     "text": [
      "1000 [ 0.27267515  1.24640286  2.37212679  6.83119901 -0.32175427 -0.05652177\n",
      "  1.10110165  0.42903338 -0.45855004  0.38026679] 794.0994561767175\n",
      "100 [ 0.46627089  0.02088952  0.83950635  2.11453887 -0.24335327 -0.21124187\n",
      "  1.51189052  0.72112569 -0.46526474  0.51921796] 1111.854049254734\n",
      "200 [ 0.43719714  0.17393198  1.02392179  2.68380255 -0.25198094 -0.18940673\n",
      "  1.44720133  0.67693585 -0.46105146  0.4968833 ] 1070.4028601951004\n",
      "300 [ 0.40943296  0.32109742  1.20122019  3.23165835 -0.26006555 -0.16858479\n",
      "  1.38504324  0.63477101 -0.45684027  0.47551316] 1031.285928101202\n",
      "400 [ 0.38292099  0.46261115  1.3716759   3.75891219 -0.26763492 -0.14873133\n",
      "  1.32531815  0.59454104 -0.45263647  0.4550664 ] 994.357900955543\n",
      "500 [ 0.35760635  0.59868992  1.53555271  4.26633961 -0.27471559 -0.12980353\n",
      "  1.26793175  0.55615977 -0.44844498  0.43550366] 959.4831716989235\n",
      "600 [ 0.33343647  0.72954211  1.69310425  4.75468691 -0.28133281 -0.11176039\n",
      "  1.21279334  0.51954476 -0.44427035  0.41678721] 926.535193453911\n",
      "700 [ 0.3103611   0.85536818  1.84457436  5.22467229 -0.28751071 -0.09456268\n",
      "  1.15981572  0.48461718 -0.44011681  0.39888093] 895.3958441963504\n",
      "800 [ 0.2883321   0.97636087  1.99019752  5.6769869  -0.29327223 -0.07817284\n",
      "  1.10891502  0.45130165 -0.43598823  0.38175021] 865.9548372502313\n",
      "900 [ 0.26730344  1.09270556  2.13019915  6.11229581 -0.29863926 -0.06255494\n",
      "  1.06001061  0.41952607 -0.43188818  0.36536192] 838.1091742491024\n",
      "1000 [ 0.24723104  1.20458053  2.26479602  6.53123907 -0.30363266 -0.04767457\n",
      "  1.01302497  0.3892215  -0.42781997  0.34968431] 811.7626374551974\n",
      "100 [ 0.45933984  0.02173616  0.82881022  2.08835694 -0.23993532 -0.20804805\n",
      "  1.48966874  0.71040746 -0.45854954  0.51158041] 1113.511334589691\n",
      "200 [ 0.42409968  0.1733562   1.00038419  2.62442809 -0.24522539 -0.18351671\n",
      "  1.40484704  0.65666202 -0.44803863  0.48231866] 1074.194737412613\n",
      "300 [ 0.39087292  0.31703449  1.16291343  3.13275806 -0.25005827 -0.1604522\n",
      "  1.32449946  0.6060112  -0.43792754  0.45467982] 1037.6011150025843\n",
      "400 [ 0.35954559  0.45318676  1.31687443  3.61478317 -0.25446641 -0.13876896\n",
      "  1.24839075  0.55827837 -0.42820255  0.42857411] 1003.5199527826159\n",
      "500 [ 0.33001012  0.58220697  1.46271862  4.07186532 -0.25848016 -0.11838632\n",
      "  1.17629801  0.51329694 -0.4188503   0.40391673] 971.7586763517011\n",
      "600 [ 0.302165    0.70446848  1.60087364  4.50529587 -0.2621279  -0.09922826\n",
      "  1.10800999  0.47090972 -0.40985781  0.38062757] 942.1410091939837\n",
      "700 [ 0.27591441  0.82032511  1.73174462  4.9162993  -0.26543616 -0.08122311\n",
      "  1.04332655  0.43096848 -0.40121245  0.35863091] 914.5054877460652\n",
      "800 [ 0.25116793  0.93011219  1.85571534  5.30603665 -0.26842972 -0.0643033\n",
      "  0.98205803  0.39333335 -0.39290198  0.33785522] 888.7041183397814\n",
      "900 [ 0.22784022  1.03414747  1.9731494   5.67560882 -0.27113175 -0.04840516\n",
      "  0.92402474  0.35787244 -0.3849145   0.31823294] 864.6011620835677\n",
      "1000 [ 0.20585075  1.1327321   2.08439123  6.02605972 -0.27356388 -0.03346868\n",
      "  0.86905638  0.32446132 -0.37723846  0.29970021] 842.0720351357794\n",
      "100 [ 0.44689667  0.02324193  0.80958585  2.04128873 -0.23379672 -0.2023149\n",
      "  1.44977137  0.69116522 -0.44649144  0.49786789] 1116.499476681814\n",
      "200 [ 0.40107826  0.17223361  0.95884205  2.51956419 -0.23333237 -0.17316899\n",
      "  1.33037723  0.62102652 -0.42514702  0.45671077] 1080.9292197884665\n",
      "300 [ 0.35893847  0.30968029  1.09644387  2.96094153 -0.23277854 -0.14647625\n",
      "  1.22025103  0.5565264  -0.40532458  0.41880908] 1048.6626265851787\n",
      "400 [ 0.32018248  0.43647643  1.22330105  3.36826791 -0.23215131 -0.12203217\n",
      "  1.11867385  0.49721211 -0.38691582  0.38390535] 1019.3618125499312\n",
      "500 [ 0.28453907  0.55344718  1.34025231  3.74417078 -0.23146485 -0.09964913\n",
      "  1.02498246  0.44266721 -0.36982014  0.35176244] 992.7272938733994\n",
      "600 [ 0.25175871  0.66135379  1.44807095  4.09107479 -0.23073159 -0.07915505\n",
      "  0.93856509  0.39250867 -0.35394408  0.322162  ] 968.4931910164037\n",
      "700 [ 0.22161184  0.76089852  1.54746989  4.41121748 -0.22996246 -0.06039212\n",
      "  0.85885736  0.34638417 -0.33920081  0.29490294] 946.4230751201721\n",
      "800 [ 0.19388729  0.85272925  1.63910644  4.70666371 -0.22916698 -0.04321557\n",
      "  0.78533869  0.30396967 -0.32550968  0.26980005] 926.3063670775559\n",
      "900 [ 0.1683908   0.93744365  1.7235866   4.97931897 -0.22835347 -0.02749266\n",
      "  0.71752883  0.26496714 -0.31279576  0.2466828 ] 907.9552120737578\n",
      "1000 [ 0.14494364  1.01559311  1.80146906  5.23094174 -0.22752913 -0.01310167\n",
      "  0.65498478  0.22910245 -0.30098944  0.22539412] 891.2017635031567\n",
      "100 [ 0.42494071  0.02585234  0.77559279  1.95802584 -0.22295719 -0.19220095\n",
      "  1.37936245  0.65721226 -0.42520689  0.47366895] 1121.8131460810318\n",
      "200 [ 0.36199928  0.16997402  0.8877793   2.33995151 -0.21308374 -0.15562019\n",
      "  1.20388861  0.56053458 -0.38622775  0.41321686] 1092.5754788414222\n",
      "300 [ 0.30680325  0.29653681  0.98617927  2.67528183 -0.20437675 -0.12371271\n",
      "  1.04981815  0.47573715 -0.35190494  0.36016986] 1067.3070962278414\n",
      "400 [ 0.25839967  0.40767997  1.07248668  2.96970176 -0.19669838 -0.09588317\n",
      "  0.91454054  0.40136    -0.321682    0.31362076] 1045.4317004143988\n",
      "500 [ 0.2159528   0.50528214  1.14818739  3.22820261 -0.18992711 -0.07161188\n",
      "  0.79576362  0.33612259 -0.295069    0.27277348] 1026.464384409648\n",
      "600 [ 0.17872974  0.59099307  1.21458471  3.4551667  -0.18395577 -0.0504452\n",
      "  0.6914748   0.27890174 -0.27163459  0.23692953] 1009.9956506394051\n",
      "700 [ 0.14608771  0.66626151  1.27282183  3.65444165 -0.17868983 -0.0319872\n",
      "  0.59990695  0.22871232 -0.25099896  0.20547596] 995.6784869867682\n",
      "800 [ 0.11746305  0.73235971  1.32390148  3.82940564 -0.17404596 -0.01589228\n",
      "  0.51950847  0.18469024 -0.23282772  0.17787494] 983.2178732729301\n",
      "900 [ 9.23614123e-02  7.90404916e-01  1.36870319e+00  3.98302467e+00\n",
      " -1.69950671e-01 -1.85883398e-03  4.48917002e-01  1.46077624e-01\n",
      " -2.16826450e-01  1.53654528e-01] 972.3622259100513\n",
      "1000 [ 0.07034928  0.84137825  1.40799845  4.11790287 -0.16633914  0.01037636\n",
      "  0.38693634  0.11220972 -0.20273591  0.13240061] 962.8963934060248\n",
      "100 [ 0.38740665  0.03016522  0.71725064  1.81500762 -0.2044012  -0.17491799\n",
      "  1.2589649   0.59916895 -0.38879476  0.4322901 ] 1131.023225383466\n",
      "200 [ 0.2997548   0.16528476  0.77291376  2.04892162 -0.18064663 -0.12771959\n",
      "  1.00218591  0.46418228 -0.3240508   0.34386522] 1111.7453789362078\n",
      "300 [ 0.22946835  0.2736821   0.81745475  2.23631847 -0.16168126 -0.09010338\n",
      "  0.79629684  0.35589275 -0.27209452  0.27295758] 1096.5757787595926\n",
      "400 [ 0.173107    0.36064212  0.8530957   2.38644864 -0.14654004 -0.06012531\n",
      "  0.63121181  0.26902021 -0.23039985  0.21609684] 1084.5990923934194\n",
      "500 [ 0.12791198  0.4304045   0.88161481  2.50672306 -0.13445229 -0.03623549\n",
      "  0.49884388  0.19932882 -0.19693982  0.17050015] 1075.1172115301206\n",
      "600 [ 0.09167107  0.48637039  0.90443504  2.60307894 -0.12480256 -0.01719832\n",
      "  0.39270892  0.14342054 -0.17008788  0.13393604] 1067.5934636793895\n",
      "700 [ 6.26103058e-02  5.31268306e-01  9.22695056e-01  2.68027281e+00\n",
      " -1.17099381e-01 -2.02879133e-03  3.07607901e-01  9.85693725e-02\n",
      " -1.48538808e-01  1.04615093e-01] 1061.6124204673283\n",
      "800 [ 0.03930718  0.56728712  0.93730605  2.7421153  -0.11095032  0.01005829\n",
      "  0.23937219  0.06258849 -0.13124523  0.08110242] 1056.8505911492696\n",
      "900 [ 0.02062098  0.59618283  0.94899714  2.79165927 -0.106042    0.01968882\n",
      "  0.18465934  0.03372357 -0.11736666  0.06224739] 1053.0548023867063\n",
      "1000 [ 0.00563702  0.61936413  0.9583518   2.83135046 -0.10212421  0.0273617\n",
      "  0.14078936  0.01056726 -0.10622864  0.04712733] 1050.0260712764982\n"
     ]
    }
   ],
   "source": [
    "l_2 = []\n",
    "w_2 = []\n",
    "for l in np.logspace(start=-4, stop=1, num=20):\n",
    "    l_2.append(l)\n",
    "    result_2 = eval_GD_2(X_, y_, iterations=1000, alpha=1e-4,lambda_=l, show=False)\n",
    "    w_2.append(list(result_2))"
   ]
  },
  {
   "cell_type": "code",
   "execution_count": 162,
   "metadata": {},
   "outputs": [],
   "source": [
    "w_1 = np.array(w_1)\n",
    "w_2 = np.array(w_2)"
   ]
  },
  {
   "cell_type": "code",
   "execution_count": 163,
   "metadata": {
    "scrolled": true
   },
   "outputs": [
    {
     "data": {
      "text/plain": [
       "array([1.00000000e-04, 1.83298071e-04, 3.35981829e-04, 6.15848211e-04,\n",
       "       1.12883789e-03, 2.06913808e-03, 3.79269019e-03, 6.95192796e-03,\n",
       "       1.27427499e-02, 2.33572147e-02, 4.28133240e-02, 7.84759970e-02,\n",
       "       1.43844989e-01, 2.63665090e-01, 4.83293024e-01, 8.85866790e-01,\n",
       "       1.62377674e+00, 2.97635144e+00, 5.45559478e+00, 1.00000000e+01])"
      ]
     },
     "execution_count": 163,
     "metadata": {},
     "output_type": "execute_result"
    }
   ],
   "source": [
    "y_l = np.logspace(start=-4, stop=1, num=20)\n",
    "y_l"
   ]
  },
  {
   "cell_type": "code",
   "execution_count": 164,
   "metadata": {},
   "outputs": [
    {
     "data": {
      "image/png": "[encoded data removed]",
      "text/plain": [
       "<Figure size 1440x720 with 1 Axes>"
      ]
     },
     "metadata": {
      "needs_background": "light"
     },
     "output_type": "display_data"
    }
   ],
   "source": [
    "plt.figure(figsize=(20, 10))\n",
    "plt.xlabel(\"Веса\")\n",
    "plt.ylabel(\"Коэффициенты регуляризации\")\n",
    "plt.plot(w_1[:,3], l_1, color=\"blue\", label=\"w_1_3: l_1\")\n",
    "plt.plot(w_1[:,6], l_1, color=\"black\", label=\"w_1_6: l_1\")\n",
    "plt.plot(w_1[:,9], l_1, color=\"yellow\", label=\"w_1_9: l_1\")\n",
    "\n",
    "plt.plot(w_2[:,3], l_2,color=\"red\", label=\"w_2_3: l_2\")\n",
    "plt.plot(w_2[:,6], l_2,color=\"pink\", label=\"w_2_6: l_2\")\n",
    "plt.plot(w_2[:,9], l_2,color=\"green\", label=\"w_2_9: l_2\")\n",
    "\n",
    "plt.legend(loc=\"lower center\")\n",
    "plt.show()"
   ]
  },
  {
   "cell_type": "code",
   "execution_count": 165,
   "metadata": {},
   "outputs": [],
   "source": [
    "#  Увеличение коэффициентов регулярицации снижает веса (если вес большой, снижение сильнее, вес 3 на графике \n",
    "# изменяется очень сильно, вес 9 слабо отклонился от изначального)\n",
    "# L-2 снижает сильнее за счет использования квадратичной функции\n",
    "# Ошибка почему-то тоже снижается, хотя не должна"
   ]
  }
 ],
 "metadata": {
  "colab": {
   "collapsed_sections": [],
   "name": "Lesson2.ipynb",
   "provenance": []
  },
  "kernelspec": {
   "display_name": "Python 3 (ipykernel)",
   "language": "python",
   "name": "python3"
  },
  "language_info": {
   "codemirror_mode": {
    "name": "ipython",
    "version": 3
   },
   "file_extension": ".py",
   "mimetype": "text/x-python",
   "name": "python",
   "nbconvert_exporter": "python",
   "pygments_lexer": "ipython3",
   "version": "3.9.2"
  },
  "toc": {
   "base_numbering": 1,
   "nav_menu": {},
   "number_sections": false,
   "sideBar": true,
   "skip_h1_title": true,
   "title_cell": "План урока",
   "title_sidebar": "План",
   "toc_cell": true,
   "toc_position": {
    "height": "calc(100% - 180px)",
    "left": "10px",
    "top": "150px",
    "width": "165px"
   },
   "toc_section_display": true,
   "toc_window_display": false
  }
 },
 "nbformat": 4,
 "nbformat_minor": 1
}
