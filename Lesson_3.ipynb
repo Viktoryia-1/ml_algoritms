{
 "cells": [
  {
   "cell_type": "markdown",
   "metadata": {},
   "source": [
    "# Урок 3. Логистическая регрессия. Log Loss"
   ]
  },
  {
   "cell_type": "markdown",
   "metadata": {
    "toc": true
   },
   "source": [
    "<h1>План урока<span class=\"tocSkip\"></span></h1>\n",
    "<div class=\"toc\"><ul class=\"toc-item\"><li><span><a href=\"#Логистическая-регрессия\" data-toc-modified-id=\"Логистическая-регрессия-1\">Логистическая регрессия</a></span></li><li><span><a href=\"#Логистическая-функция-потерь\" data-toc-modified-id=\"Логистическая-функция-потерь-2\">Логистическая функция потерь</a></span></li><li><span><a href=\"#Пример\" data-toc-modified-id=\"Пример-3\">Пример</a></span></li><li><span><a href=\"#Домашние-задания\" data-toc-modified-id=\"Домашние-задания-4\">Домашние задания</a></span></li></ul></div>"
   ]
  },
  {
   "cell_type": "code",
   "execution_count": 290,
   "metadata": {
    "colab": {},
    "colab_type": "code",
    "id": "zhwkeWtb1O0w"
   },
   "outputs": [],
   "source": [
    "import numpy as np\n",
    "import matplotlib.pyplot as plt"
   ]
  },
  {
   "cell_type": "code",
   "execution_count": 291,
   "metadata": {
    "colab": {},
    "colab_type": "code",
    "id": "zhwkeWtb1O0w"
   },
   "outputs": [],
   "source": [
    "%matplotlib inline\n",
    "plt.style.use('seaborn-ticks')\n",
    "plt.rcParams.update({'font.size': 14})"
   ]
  },
  {
   "cell_type": "markdown",
   "metadata": {},
   "source": [
    "### Логистическая регрессия"
   ]
  },
  {
   "cell_type": "markdown",
   "metadata": {},
   "source": [
    "Обобщение линейной регрессии на задачу классификации."
   ]
  },
  {
   "cell_type": "markdown",
   "metadata": {},
   "source": [
    "<img src='img/algorithmes-de-classification-regression-logistique-9.jpg' width=400 align='left'> </img>"
   ]
  },
  {
   "cell_type": "markdown",
   "metadata": {},
   "source": [
    "$\\vec{y}=X\\vec{w}$"
   ]
  },
  {
   "cell_type": "markdown",
   "metadata": {
    "colab": {},
    "colab_type": "code",
    "id": "fS4ZSyTrPD6V"
   },
   "source": [
    "Проблемы:  \n",
    "1) Если предсказывать с помощью линейной регрессии, то могут появляться такие числа:   \n",
    "np.dot(X, w) = [-12, 2, 1.5, 0.0005, 1000 ...]  \n",
    "2) MSE, как функция потерь, не подходит."
   ]
  },
  {
   "cell_type": "markdown",
   "metadata": {
    "colab": {},
    "colab_type": "code",
    "id": "IFlAQmfoQCqc"
   },
   "source": [
    "p = [0, 1] - вероятность"
   ]
  },
  {
   "cell_type": "markdown",
   "metadata": {
    "colab": {},
    "colab_type": "code",
    "id": "7pM_ENmXPxMN"
   },
   "source": [
    "$odds = \\frac{p}{1 - p} = \\frac{p_1}{p_0}$ - шансы"
   ]
  },
  {
   "cell_type": "code",
   "execution_count": 292,
   "metadata": {
    "colab": {
     "base_uri": "https://localhost:8080/",
     "height": 34
    },
    "colab_type": "code",
    "id": "OS_TUIgdPl1M",
    "outputId": "8ea131d4-87f4-4f45-8a3d-259a26e1020d"
   },
   "outputs": [
    {
     "data": {
      "text/plain": [
       "1.0"
      ]
     },
     "execution_count": 292,
     "metadata": {},
     "output_type": "execute_result"
    }
   ],
   "source": [
    "0.5 / (1 - 0.5)"
   ]
  },
  {
   "cell_type": "code",
   "execution_count": 293,
   "metadata": {
    "colab": {
     "base_uri": "https://localhost:8080/",
     "height": 34
    },
    "colab_type": "code",
    "id": "J3tXMyWOPlh7",
    "outputId": "f4c0e4a0-6547-4f54-cc33-d6c9b0631733"
   },
   "outputs": [
    {
     "data": {
      "text/plain": [
       "0.010101010101010102"
      ]
     },
     "execution_count": 293,
     "metadata": {},
     "output_type": "execute_result"
    }
   ],
   "source": [
    "0.01 / (1 - 0.01)"
   ]
  },
  {
   "cell_type": "code",
   "execution_count": 294,
   "metadata": {
    "colab": {
     "base_uri": "https://localhost:8080/",
     "height": 34
    },
    "colab_type": "code",
    "id": "q61xUBtbPlJp",
    "outputId": "a2883d59-ab30-4ebe-d342-f79542c123fd"
   },
   "outputs": [
    {
     "data": {
      "text/plain": [
       "9.000000000000002"
      ]
     },
     "execution_count": 294,
     "metadata": {},
     "output_type": "execute_result"
    }
   ],
   "source": [
    "0.9 / (1 - 0.9)"
   ]
  },
  {
   "cell_type": "code",
   "execution_count": 295,
   "metadata": {
    "colab": {
     "base_uri": "https://localhost:8080/",
     "height": 34
    },
    "colab_type": "code",
    "id": "ImNIlxczQvf_",
    "outputId": "984af402-9b42-44d8-db18-c592475e1ab7"
   },
   "outputs": [
    {
     "data": {
      "text/plain": [
       "-4.59511985013459"
      ]
     },
     "execution_count": 295,
     "metadata": {},
     "output_type": "execute_result"
    }
   ],
   "source": [
    "p = 1e-2\n",
    "np.log(p / (1 - p))                       "
   ]
  },
  {
   "cell_type": "code",
   "execution_count": 296,
   "metadata": {
    "colab": {
     "base_uri": "https://localhost:8080/",
     "height": 34
    },
    "colab_type": "code",
    "id": "MvFKM0w7Rndj",
    "outputId": "362ef2f2-86bb-4f81-86f7-0c60935d0705"
   },
   "outputs": [
    {
     "data": {
      "text/plain": [
       "4.595119850134589"
      ]
     },
     "execution_count": 296,
     "metadata": {},
     "output_type": "execute_result"
    }
   ],
   "source": [
    "p = 0.99\n",
    "np.log(p / (1 - p))"
   ]
  },
  {
   "cell_type": "markdown",
   "metadata": {
    "colab": {},
    "colab_type": "code",
    "id": "5GuJhwb6U-r_"
   },
   "source": [
    "$$X\\vec{w} = \\ln\\Big(\\frac{\\vec{p}}{1 - \\vec{p}}\\Big)$$\n",
    "$$\\exp(X\\vec{w}) = \\frac{\\vec{p}}{1 - \\vec{p}}$$\n",
    "$$(1-\\vec{p})\\exp(X\\vec{w}) = \\vec{p}$$\n",
    "$$\\exp(X\\vec{w})-\\vec{p}\\exp(X\\vec{w}) = \\vec{p}$$\n",
    "$$\\exp(X\\vec{w})=\\vec{p}(1+\\exp(X\\vec{w}))$$\n",
    "$$\\vec{p}=\\frac{\\exp{(X\\vec{w})}}{1+\\exp{(X\\vec{w})}}$$\n",
    "$$\\vec{p}=\\frac{1}{1+\\exp{(-X\\vec{w})}}=\\text{sigmoid}(-X\\vec {w})$$"
   ]
  },
  {
   "cell_type": "code",
   "execution_count": 297,
   "metadata": {},
   "outputs": [],
   "source": [
    "def sigmoid(z):\n",
    "    res = 1 / (1 + np.exp(-z))\n",
    "    return res"
   ]
  },
  {
   "cell_type": "code",
   "execution_count": 298,
   "metadata": {},
   "outputs": [
    {
     "data": {
      "image/png": "[encoded data removed]",
      "text/plain": [
       "<Figure size 432x288 with 1 Axes>"
      ]
     },
     "metadata": {},
     "output_type": "display_data"
    }
   ],
   "source": [
    "# сигмоида\n",
    "z = np.linspace(-10, 10, 101)\n",
    "probabilities = sigmoid(z)\n",
    "plt.plot(z, probabilities)\n",
    "plt.xlabel('$z=-Xw$')\n",
    "plt.ylabel('p')\n",
    "plt.grid();"
   ]
  },
  {
   "cell_type": "markdown",
   "metadata": {},
   "source": [
    "### Логистическая функция потерь "
   ]
  },
  {
   "cell_type": "markdown",
   "metadata": {},
   "source": [
    "для одного объекта: $\\text{logloss}=-{y} \\ln({p}) - (1-{y})\\ln(1-{p})$\n",
    "\n",
    "$y=0/1$ - истинный класс   \n",
    "$p=[0,1]$ - ответ алгоритма\n"
   ]
  },
  {
   "cell_type": "code",
   "execution_count": 299,
   "metadata": {
    "colab": {},
    "colab_type": "code",
    "id": "qMR5pOA38dDw"
   },
   "outputs": [],
   "source": [
    "def calc_logloss(y, y_pred):\n",
    "    err = np.mean(- y * np.log(y_pred) - (1.0 - y) * np.log(1.0 - y_pred))\n",
    "    return err"
   ]
  },
  {
   "cell_type": "code",
   "execution_count": 300,
   "metadata": {
    "colab": {
     "base_uri": "https://localhost:8080/",
     "height": 34
    },
    "colab_type": "code",
    "id": "R6zfOHMrBvnX",
    "outputId": "c26e639b-b7a5-414c-a920-928da0513938"
   },
   "outputs": [
    {
     "data": {
      "text/plain": [
       "0.10536051565782628"
      ]
     },
     "execution_count": 300,
     "metadata": {},
     "output_type": "execute_result"
    }
   ],
   "source": [
    "# Пример применения\n",
    "y_true = 1\n",
    "y_pred = 0.9\n",
    "calc_logloss(y_true, y_pred)"
   ]
  },
  {
   "cell_type": "markdown",
   "metadata": {},
   "source": [
    "$$\\text{logloss}=\\frac{1}{n}\\big(-\\vec{y} \\ln(\\vec{p}) - (1-\\vec{y})\\ln(1-\\vec{p})\\big)$$\n",
    "$$\\vec{p}=\\text{sigmoid}(-X{\\vec{w}})=\\frac{1}{1+\\text{exp}(-X{\\vec{w}})}$$\n",
    "$$\\frac{\\mathrm d}{\\mathrm d\\vec{w}}\\text{logloss}=\\frac{1}{n}(\\vec{p}-\\vec{y})X$$\n",
    "$$\\vec{w}=\\vec{w}-\\alpha \\frac{1}{n}(\\vec{p}-\\vec{y})X$$"
   ]
  },
  {
   "cell_type": "markdown",
   "metadata": {
    "colab": {},
    "colab_type": "code",
    "id": "e6TH-mkPItb6"
   },
   "source": [
    "### Пример"
   ]
  },
  {
   "cell_type": "code",
   "execution_count": 301,
   "metadata": {},
   "outputs": [
    {
     "data": {
      "text/plain": [
       "array([[1.00e+00, 1.00e+00, 5.00e+02, 1.00e+00],\n",
       "       [1.00e+00, 1.00e+00, 7.00e+02, 1.00e+00],\n",
       "       [1.00e+00, 2.00e+00, 7.50e+02, 2.00e+00],\n",
       "       [1.00e+00, 1.00e+00, 6.00e+02, 1.00e+00],\n",
       "       [1.00e+00, 3.00e+00, 1.45e+03, 2.00e+00],\n",
       "       [1.00e+00, 0.00e+00, 8.00e+02, 1.00e+00],\n",
       "       [1.00e+00, 5.00e+00, 1.50e+03, 3.00e+00],\n",
       "       [1.00e+00, 1.00e+01, 2.00e+03, 3.00e+00],\n",
       "       [1.00e+00, 1.00e+00, 4.50e+02, 1.00e+00],\n",
       "       [1.00e+00, 2.00e+00, 1.00e+03, 2.00e+00]])"
      ]
     },
     "execution_count": 301,
     "metadata": {},
     "output_type": "execute_result"
    }
   ],
   "source": [
    "X = np.array([[1, 1, 1, 1, 1, 1, 1, 1, 1, 1],\n",
    "              [1, 1, 2, 1, 3, 0, 5, 10, 1, 2],  # стаж репетитора\n",
    "              [500, 700, 750, 600, 1450,        # средняя стоимость занятия\n",
    "               800, 1500, 2000, 450, 1000],\n",
    "              [1, 1, 2, 1, 2, 1, 3, 3, 1, 2]],  # квалификация репетитора\n",
    "              dtype = np.float64).T \n",
    "\n",
    "y = np.array([0, 0, 1, 0, 1, 0, 1, 0, 1, 1]) # поступил или нет ученик на специальность Математика\n",
    "X"
   ]
  },
  {
   "cell_type": "code",
   "execution_count": 302,
   "metadata": {},
   "outputs": [
    {
     "data": {
      "text/plain": [
       "array([-0.97958969, -0.56713087, -0.46401617, -0.77336028,  0.97958969,\n",
       "       -0.36090146,  1.08270439,  2.11385144, -1.08270439,  0.05155735])"
      ]
     },
     "execution_count": 302,
     "metadata": {},
     "output_type": "execute_result"
    }
   ],
   "source": [
    "def standard_scaler(x):\n",
    "    res = (x - x.mean()) / x.std()\n",
    "    return res\n",
    "\n",
    "X_st = X.copy()\n",
    "X_st[:, 2] = standard_scaler(X[:, 2])\n",
    "X_st[:, 2]"
   ]
  },
  {
   "cell_type": "code",
   "execution_count": 303,
   "metadata": {},
   "outputs": [],
   "source": [
    "# На данных из урока изучите влияние гиперпараметров на ошибку алгоритма.\n",
    "# Подберите аргументы функции eval_LR_model для логистической регрессии таким образом,\n",
    "# чтобы log loss не превышал значение 0.3 (0.1). Как изменились веса?"
   ]
  },
  {
   "cell_type": "code",
   "execution_count": 304,
   "metadata": {
    "colab": {},
    "colab_type": "code",
    "id": "qtgUN3LW-UIq"
   },
   "outputs": [],
   "source": [
    "# логистическая регрессия\n",
    "def eval_LR_model(X, y, iterations, alpha=1e-4):\n",
    "    np.random.seed(42)\n",
    "    w = np.random.randn(X.shape[1])\n",
    "    n = X.shape[0]\n",
    "    for i in range(1, iterations + 1):\n",
    "        z = np.dot(X, w) # log(p/(1-p))\n",
    "        y_pred = sigmoid(z) # p [0, 1]\n",
    "        err = calc_logloss(y, y_pred)\n",
    "        w -= alpha * (1/n * np.dot((y_pred - y), X))\n",
    "        if i % (iterations / 10) == 0:\n",
    "            print(i, w, err)\n",
    "    return w"
   ]
  },
  {
   "cell_type": "code",
   "execution_count": 305,
   "metadata": {
    "colab": {
     "base_uri": "https://localhost:8080/",
     "height": 190
    },
    "colab_type": "code",
    "id": "oqX7loklBmYZ",
    "outputId": "f4849295-1f14-40d8-c8f2-d1b002e130c5"
   },
   "outputs": [
    {
     "name": "stdout",
     "output_type": "stream",
     "text": [
      "200 [-0.64245884 -0.81575707  1.11680356  1.72702881] 0.4995552177931558\n",
      "400 [-1.25432451 -0.91736333  1.05455726  2.24457861] 0.4664467561141666\n",
      "600 [-1.80755433 -0.96270374  0.90904148  2.64183838] 0.44201377632900957\n",
      "800 [-2.31113497 -0.98420861  0.73842971  2.97447927] 0.42228858977623335\n",
      "1000 [-2.77136565 -0.99588853  0.56641089  3.26813012] 0.40587815270727734\n",
      "1200 [-3.193644   -1.00399774  0.40259598  3.53557456] 0.3920245709386051\n",
      "1400 [-3.58276075 -1.01127932  0.2502806   3.78366682] 0.38020124069063777\n",
      "1600 [-3.9429576  -1.01884757  0.10992481  4.01638187] 0.37000858928583097\n",
      "1800 [-4.27794785 -1.0270723  -0.01920407  4.23624356] 0.36113578827337056\n",
      "2000 [-4.59094777 -1.0359998  -0.13825631  4.44501211] 0.35333924193451943\n"
     ]
    }
   ],
   "source": [
    "w = eval_LR_model(X_st, y, 2000, 1e-1)"
   ]
  },
  {
   "cell_type": "code",
   "execution_count": 306,
   "metadata": {},
   "outputs": [
    {
     "name": "stdout",
     "output_type": "stream",
     "text": [
      "[0.26 0.25 0.91 0.25 0.74 0.48 0.97 0.13 0.26 0.9 ]\n",
      "[0 0 1 0 1 0 1 0 1 1]\n",
      "[0 0 1 0 1 0 1 0 0 1]\n"
     ]
    }
   ],
   "source": [
    "y_pred = sigmoid(np.dot(X_st, w))\n",
    "print(y_pred.round(2))\n",
    "print(y)\n",
    "print(np.where(y_pred > 0.5, 1, 0))"
   ]
  },
  {
   "cell_type": "code",
   "execution_count": 307,
   "metadata": {},
   "outputs": [
    {
     "data": {
      "text/plain": [
       "0.3533026228508488"
      ]
     },
     "execution_count": 307,
     "metadata": {},
     "output_type": "execute_result"
    }
   ],
   "source": [
    "calc_logloss(y, y_pred)"
   ]
  },
  {
   "cell_type": "code",
   "execution_count": 308,
   "metadata": {},
   "outputs": [],
   "source": [
    "# При значении альфы 0.2 значение функции потерь 0.30659798764434043\n",
    "# Увеличение альфы до 4 дает значение функции потерь 0.11136723752808295\n",
    "# Увеличение количества итераций до 4000 снижает функцию потерь до 0.30660874643408553\n",
    "# Для снижения функции потерь до 0.10625984224339118 понадобилось 130000 итераций, что\n",
    "# отразится на скорости работы алгоритма, при наращивании альфы до 4 или пяти выпадаем с ошибкой \n",
    "# деления на ноль и \"обнаружено недопустимое значение при умножении\"\n",
    "# Последняя ошибка мне не совсем понятна\n",
    "# Функция потерь снижается до 0.10921914160062829 при количестве итераций 10000 и альфе 1.2\n",
    "# оптимальны-ли эти параметры? до какого значения нужно снижать функцию потерь в принципе?"
   ]
  },
  {
   "cell_type": "markdown",
   "metadata": {
    "colab": {},
    "colab_type": "code",
    "id": "Mbwxo9NqbLJy"
   },
   "source": [
    "### Домашние задания"
   ]
  },
  {
   "cell_type": "markdown",
   "metadata": {},
   "source": [
    "1. Измените функцию `calc_logloss` так, чтобы нули по возможности не попадали в `np.log` (как вариант - использовать `np.clip` или `np.where`).  \n",
    "2. На данных из урока изучите влияние гиперпараметров на ошибку алгоритма. Подберите аргументы функции `eval_LR_model` для логистической регрессии таким образом, чтобы log loss не превышал значение `0.3` `(0.1).` Как изменились веса?\n",
    "3. Создайте функцию `calc_pred_proba`, возвращающую предсказанную вероятность класса 1 (на вход подаются значения признаков Х и веса, которые уже посчитаны функцией `eval_LR_model`, на выходе - массив `y_pred_proba`).\n",
    "4. Создайте функцию `calc_pred`, возвращающую предсказанный класс (на вход подаются значения признаков Х и веса, которые уже посчитаны функцией `eval_LR_model`, а также порог вероятности, на выходе - массив `y_pred`).\n",
    "5. (\\*) Посчитайте accuracy, матрицу ошибок, precision и recall, а также F1-score.\n",
    "6. (\\*) Могла ли модель переобучиться? Почему?"
   ]
  },
  {
   "cell_type": "markdown",
   "metadata": {},
   "source": [
    "Методичка (исправленная) https://colab.research.google.com/drive/1DxLcLdf2Lns12qOqGVvapDha5tiltM1f?usp=sharing"
   ]
  },
  {
   "cell_type": "code",
   "execution_count": 309,
   "metadata": {},
   "outputs": [],
   "source": [
    "# Измените функцию calc_logloss так, чтобы нули по возможности не попадали в np.log\n",
    "# (как вариант - использовать np.clip или np.where).\n",
    "def calc_logloss_2(y, y_pred):\n",
    "    y_pred = np.clip(y_pred, 0.00001, 0.99999)\n",
    "    err = np.mean(- y * np.log(y_pred) - (1.0 - y) * np.log(1.0 - y_pred))\n",
    "    return err"
   ]
  },
  {
   "cell_type": "code",
   "execution_count": 310,
   "metadata": {},
   "outputs": [
    {
     "data": {
      "text/plain": [
       "11.51292546497478"
      ]
     },
     "execution_count": 310,
     "metadata": {},
     "output_type": "execute_result"
    }
   ],
   "source": [
    "calc_logloss_2(y=0, y_pred=1)"
   ]
  },
  {
   "cell_type": "code",
   "execution_count": 311,
   "metadata": {},
   "outputs": [],
   "source": [
    "# Создайте функцию calc_pred_proba, возвращающую предсказанную вероятность класса 1 \n",
    "# (на вход подаются значения признаков Х и веса, \n",
    "# которые уже посчитаны функцией eval_LR_model, на выходе - массив y_pred_proba)."
   ]
  },
  {
   "cell_type": "code",
   "execution_count": 312,
   "metadata": {},
   "outputs": [
    {
     "data": {
      "text/plain": [
       "array([0.26, 0.25, 0.91, 0.25, 0.74, 0.48, 0.97, 0.13, 0.26, 0.9 ])"
      ]
     },
     "execution_count": 312,
     "metadata": {},
     "output_type": "execute_result"
    }
   ],
   "source": [
    "def calc_pred_proba(X, w):\n",
    "    y_pred_proba = sigmoid(np.dot(X, w))\n",
    "    return y_pred_proba.round(2)\n",
    "calc_pred_proba(X_st, w)\n",
    "# [0.26 0.25 0.91 0.25 0.74 0.48 0.97 0.13 0.26 0.9 ]"
   ]
  },
  {
   "cell_type": "code",
   "execution_count": 313,
   "metadata": {},
   "outputs": [],
   "source": [
    "# Создайте функцию calc_pred, возвращающую предсказанный класс \n",
    "# (на вход подаются значения признаков Х и веса, которые уже посчитаны функцией eval_LR_model,\n",
    "# а также порог вероятности, на выходе - массив y_pred)."
   ]
  },
  {
   "cell_type": "code",
   "execution_count": 315,
   "metadata": {},
   "outputs": [
    {
     "data": {
      "text/plain": [
       "array([0, 0, 1, 0, 1, 0, 1, 0, 0, 1])"
      ]
     },
     "execution_count": 315,
     "metadata": {},
     "output_type": "execute_result"
    }
   ],
   "source": [
    "def calc_pred(y_proba):\n",
    "    y_pred = np.where(y_proba > 0.5, 1, 0)\n",
    "    return y_pred\n",
    "y_pred_2 = calc_pred(calc_pred_proba(X_st, w))\n",
    "y_pred_2\n",
    "#[0 0 1 0 1 0 1 0 0 1]"
   ]
  },
  {
   "cell_type": "code",
   "execution_count": 316,
   "metadata": {},
   "outputs": [],
   "source": [
    "# (*) Посчитайте accuracy, матрицу ошибок, precision и recall, а также F1-score."
   ]
  },
  {
   "cell_type": "code",
   "execution_count": 317,
   "metadata": {},
   "outputs": [],
   "source": [
    "def errors_matrix(y, y_pred):\n",
    "    err_matrix = np.zeros((2, 2))\n",
    "    for index, el in enumerate(y_pred):    \n",
    "        if el == y[index]:\n",
    "            if el == 1:\n",
    "                err_matrix[0, 0] += 1\n",
    "            elif el == 0:\n",
    "                err_matrix[1, 1] += 1\n",
    "        elif el != y[index]:\n",
    "            if el == 1:\n",
    "                err_matrix[0, 1] +=1\n",
    "            elif el == 0:\n",
    "                err_matrix[1, 0] += 1\n",
    "    return err_matrix"
   ]
  },
  {
   "cell_type": "code",
   "execution_count": 318,
   "metadata": {},
   "outputs": [
    {
     "data": {
      "text/plain": [
       "array([[4., 0.],\n",
       "       [1., 5.]])"
      ]
     },
     "execution_count": 318,
     "metadata": {},
     "output_type": "execute_result"
    }
   ],
   "source": [
    "matrix = errors_matrix(y, y_pred_2)\n",
    "matrix"
   ]
  },
  {
   "cell_type": "code",
   "execution_count": 319,
   "metadata": {},
   "outputs": [
    {
     "data": {
      "text/plain": [
       "4.5"
      ]
     },
     "execution_count": 319,
     "metadata": {},
     "output_type": "execute_result"
    }
   ],
   "source": [
    "def accuracy(err_mat):\n",
    "    return err_mat[0, 0] + err_mat[1,1]/np.sum(err_mat)\n",
    "acc = accuracy(matrix)\n",
    "acc"
   ]
  },
  {
   "cell_type": "code",
   "execution_count": 320,
   "metadata": {},
   "outputs": [
    {
     "data": {
      "text/plain": [
       "1.0"
      ]
     },
     "execution_count": 320,
     "metadata": {},
     "output_type": "execute_result"
    }
   ],
   "source": [
    "def precision(err_mat):\n",
    "    return err_mat[0,0]/(err_mat[0,0] + err_mat[0,1])\n",
    "pre = precision(matrix)\n",
    "pre"
   ]
  },
  {
   "cell_type": "code",
   "execution_count": 321,
   "metadata": {},
   "outputs": [
    {
     "data": {
      "text/plain": [
       "0.8"
      ]
     },
     "execution_count": 321,
     "metadata": {},
     "output_type": "execute_result"
    }
   ],
   "source": [
    "def recall(err_mat):\n",
    "    return err_mat[0,0]/(err_mat[0,0] + err_mat[1,0])\n",
    "re = recall(matrix)\n",
    "re"
   ]
  },
  {
   "cell_type": "code",
   "execution_count": 322,
   "metadata": {},
   "outputs": [
    {
     "data": {
      "text/plain": [
       "0.888888888888889"
      ]
     },
     "execution_count": 322,
     "metadata": {},
     "output_type": "execute_result"
    }
   ],
   "source": [
    "def f_score(pre, re):\n",
    "    return (2 * pre * re)/(pre + re)\n",
    "f_score(pre, re)"
   ]
  },
  {
   "cell_type": "code",
   "execution_count": null,
   "metadata": {},
   "outputs": [],
   "source": []
  }
 ],
 "metadata": {
  "colab": {
   "collapsed_sections": [],
   "name": "Lesson3_.ipynb",
   "provenance": []
  },
  "kernelspec": {
   "display_name": "Python 3 (ipykernel)",
   "language": "python",
   "name": "python3"
  },
  "language_info": {
   "codemirror_mode": {
    "name": "ipython",
    "version": 3
   },
   "file_extension": ".py",
   "mimetype": "text/x-python",
   "name": "python",
   "nbconvert_exporter": "python",
   "pygments_lexer": "ipython3",
   "version": "3.9.2"
  },
  "toc": {
   "base_numbering": 1,
   "nav_menu": {},
   "number_sections": false,
   "sideBar": true,
   "skip_h1_title": true,
   "title_cell": "План урока",
   "title_sidebar": "План",
   "toc_cell": true,
   "toc_position": {
    "height": "calc(100% - 180px)",
    "left": "10px",
    "top": "150px",
    "width": "165px"
   },
   "toc_section_display": true,
   "toc_window_display": false
  }
 },
 "nbformat": 4,
 "nbformat_minor": 1
}
