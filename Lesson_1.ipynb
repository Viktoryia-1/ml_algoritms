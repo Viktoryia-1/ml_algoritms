{
 "cells": [
  {
   "cell_type": "markdown",
   "metadata": {},
   "source": [
    "# Урок 1. Алгоритм линейной регрессии. Градиентный спуск"
   ]
  },
  {
   "cell_type": "markdown",
   "metadata": {},
   "source": [
    "Библиотеки Python для DS (часть 1) -> Библиотеки Python для DS (часть 2) -> Алгоритмы анализа данных\n",
    "\n",
    "- ДЗ сдавать в jupyter блокнотах\n",
    "- pull request / ссылка / файл\n",
    "- заглушки действуют неделю"
   ]
  },
  {
   "cell_type": "markdown",
   "metadata": {
    "toc": true
   },
   "source": [
    "<h1>План занятия<span class=\"tocSkip\"></span></h1>\n",
    "<div class=\"toc\"><ul class=\"toc-item\"><li><span><a href=\"#Линейная-регрессия\" data-toc-modified-id=\"Линейная-регрессия-1\">Линейная регрессия</a></span><ul class=\"toc-item\"><li><span><a href=\"#Уравнение-прямой\" data-toc-modified-id=\"Уравнение-прямой-1.1\">Уравнение прямой</a></span></li><li><span><a href=\"#Уравнение-линейной-регрессии\" data-toc-modified-id=\"Уравнение-линейной-регрессии-1.2\">Уравнение линейной регрессии</a></span></li></ul></li><li><span><a href=\"#Метод-наименьших-квадратов\" data-toc-modified-id=\"Метод-наименьших-квадратов-2\">Метод наименьших квадратов</a></span></li><li><span><a href=\"#Градиентный-спуск-(gradient-descent)\" data-toc-modified-id=\"Градиентный-спуск-(gradient-descent)-3\">Градиентный спуск (gradient descent)</a></span></li><li><span><a href=\"#Домашние-задания\" data-toc-modified-id=\"Домашние-задания-4\">Домашние задания</a></span></li></ul></div>"
   ]
  },
  {
   "cell_type": "code",
   "execution_count": 37,
   "metadata": {
    "colab": {},
    "colab_type": "code",
    "id": "ak8b3KV45kVW"
   },
   "outputs": [],
   "source": [
    "import numpy as np\n",
    "import matplotlib.pyplot as plt\n",
    "plt.rcParams.update({'font.size': 14,\n",
    "                     'xtick.labelsize': 14})"
   ]
  },
  {
   "cell_type": "markdown",
   "metadata": {},
   "source": [
    "### Линейная регрессия"
   ]
  },
  {
   "cell_type": "markdown",
   "metadata": {},
   "source": [
    "<img src='img/linear_regression.png' width=400 align='left'>"
   ]
  },
  {
   "cell_type": "markdown",
   "metadata": {},
   "source": [
    "#### Уравнение прямой"
   ]
  },
  {
   "cell_type": "markdown",
   "metadata": {
    "colab": {
     "base_uri": "https://localhost:8080/",
     "height": 52
    },
    "colab_type": "code",
    "id": "U3vVuLOc6Us6",
    "outputId": "736f4095-bc2b-4816-f9c3-5696f82632ee"
   },
   "source": [
    "<div style='float:left;'><img src='img/slope-intercept-form.png' width=250 align='left'></img></div><div style='float:left;'><img src='img\\slope-intercept.png' width=300 align='center'></img></div>"
   ]
  },
  {
   "cell_type": "code",
   "execution_count": 38,
   "metadata": {},
   "outputs": [
    {
     "data": {
      "application/vnd.jupyter.widget-view+json": {
       "model_id": "1f6e1fe4e37344e6ac0ebc0af532062e",
       "version_major": 2,
       "version_minor": 0
      },
      "text/plain": [
       "interactive(children=(FloatSlider(value=0.0, description='m', max=2.0, min=-2.0), IntSlider(value=0, descripti…"
      ]
     },
     "metadata": {},
     "output_type": "display_data"
    }
   ],
   "source": [
    "from ipywidgets import interactive\n",
    "\n",
    "def f(m, b):\n",
    "    plt.figure(2)\n",
    "    x = np.linspace(0, 10, num=1000)\n",
    "    plt.plot(x, m * x + b)\n",
    "    plt.ylim(0, 10)\n",
    "    plt.show()\n",
    "\n",
    "interactive_plot = interactive(f, m=(-2.0, 2.0), b=(-10, 10, 1))\n",
    "output = interactive_plot.children[-1]\n",
    "output.layout.height = '350px'\n",
    "interactive_plot"
   ]
  },
  {
   "cell_type": "markdown",
   "metadata": {},
   "source": [
    "#### Уравнение линейной регрессии"
   ]
  },
  {
   "cell_type": "markdown",
   "metadata": {},
   "source": [
    "$${y}_i = w_0 + w_1\\cdot x_{i}+\\epsilon_i, \\text{ for } i \\in [1,n]$$\n",
    "$$\\hat{y}_i = \\hat w_0\\cdot 1 + \\hat w_1\\cdot x_{i}, \\text{ for } i \\in [1,n]$$"
   ]
  },
  {
   "cell_type": "markdown",
   "metadata": {},
   "source": [
    "$$\\vec{y}=X\\vec{w},$$\n",
    "\n",
    "\n",
    "$$\\text{где }\\vec{y} = \\begin{pmatrix}\n",
    "\\hat y_{1}\\\\ \n",
    "\\vdots\\\\ \n",
    "\\hat y_{n}\n",
    "\\end{pmatrix}, \n",
    "X = \\begin{pmatrix}\n",
    "1 & x_{1}\\\\ \n",
    "\\vdots & \\vdots\\\\ \n",
    "1 & x_{n}\n",
    "\\end{pmatrix},\n",
    "\\vec{w} = \\begin{pmatrix}\n",
    "\\hat w_{0}\\\\ \n",
    "\\hat w_{1}\n",
    "\\end{pmatrix}\n",
    "$$"
   ]
  },
  {
   "cell_type": "code",
   "execution_count": 39,
   "metadata": {
    "colab": {},
    "colab_type": "code",
    "id": "i77tZbAd5plB"
   },
   "outputs": [
    {
     "data": {
      "text/plain": [
       "(10, 2)"
      ]
     },
     "execution_count": 39,
     "metadata": {},
     "output_type": "execute_result"
    }
   ],
   "source": [
    "X = np.array([[1, 1, 1, 1, 1, 1, 1, 1, 1, 1],   # для умножения на intercept\n",
    "              [1, 1, 2, 1, 3, 0, 5, 10, 1, 2]]).T # стаж репетитора\n",
    "X.shape"
   ]
  },
  {
   "cell_type": "code",
   "execution_count": 40,
   "metadata": {},
   "outputs": [
    {
     "data": {
      "text/plain": [
       "array([[ 1,  1],\n",
       "       [ 1,  1],\n",
       "       [ 1,  2],\n",
       "       [ 1,  1],\n",
       "       [ 1,  3],\n",
       "       [ 1,  0],\n",
       "       [ 1,  5],\n",
       "       [ 1, 10],\n",
       "       [ 1,  1],\n",
       "       [ 1,  2]])"
      ]
     },
     "execution_count": 40,
     "metadata": {},
     "output_type": "execute_result"
    }
   ],
   "source": [
    "X"
   ]
  },
  {
   "cell_type": "code",
   "execution_count": 41,
   "metadata": {
    "colab": {},
    "colab_type": "code",
    "id": "VsNrKi1Q6Wmh"
   },
   "outputs": [],
   "source": [
    "# средний балл ЕГЭ (целевая переменная)\n",
    "y = [45, 55, 50, 59, 65, 35, 75, 80, 50, 60]"
   ]
  },
  {
   "cell_type": "code",
   "execution_count": 42,
   "metadata": {
    "colab": {
     "base_uri": "https://localhost:8080/",
     "height": 283
    },
    "colab_type": "code",
    "id": "qrXJ8gQBHMmy",
    "outputId": "efab3114-264e-4226-b46c-faeaea681246"
   },
   "outputs": [
    {
     "data": {
      "image/png": "[encoded data removed]",
      "text/plain": [
       "<Figure size 432x288 with 1 Axes>"
      ]
     },
     "metadata": {
      "needs_background": "light"
     },
     "output_type": "display_data"
    }
   ],
   "source": [
    "plt.scatter(X[:,1], y)\n",
    "plt.xlabel('стаж')\n",
    "plt.ylabel('ср.балл ЕГЭ');"
   ]
  },
  {
   "cell_type": "code",
   "execution_count": 43,
   "metadata": {
    "colab": {
     "base_uri": "https://localhost:8080/",
     "height": 283
    },
    "colab_type": "code",
    "id": "qrXJ8gQBHMmy",
    "outputId": "efab3114-264e-4226-b46c-faeaea681246"
   },
   "outputs": [
    {
     "data": {
      "image/png": "[encoded data removed]",
      "text/plain": [
       "<Figure size 432x288 with 1 Axes>"
      ]
     },
     "metadata": {
      "needs_background": "light"
     },
     "output_type": "display_data"
    }
   ],
   "source": [
    "# y = m * x + b\n",
    "m = 5\n",
    "b = 45\n",
    "plt.scatter(X[:,1], y);\n",
    "plt.plot(X[:,1],  m * X[:,1] + b, color='red')\n",
    "plt.xlabel('стаж')\n",
    "plt.ylabel('ср.балл ЕГЭ');"
   ]
  },
  {
   "cell_type": "code",
   "execution_count": 44,
   "metadata": {
    "colab": {},
    "colab_type": "code",
    "id": "NntLxvtU7CbH"
   },
   "outputs": [],
   "source": [
    "y_pred1 = 45 + 5 * X[:,1] \n",
    "y_pred2 = 40 + 7 * X[:,1]"
   ]
  },
  {
   "cell_type": "code",
   "execution_count": 45,
   "metadata": {
    "colab": {
     "base_uri": "https://localhost:8080/",
     "height": 34
    },
    "colab_type": "code",
    "id": "XsDNASCq9VBe",
    "outputId": "b5350887-7fc5-4cd4-e50c-15b2c7ac0d9e"
   },
   "outputs": [
    {
     "data": {
      "text/plain": [
       "array([50, 50, 55, 50, 60, 45, 70, 95, 50, 55])"
      ]
     },
     "execution_count": 45,
     "metadata": {},
     "output_type": "execute_result"
    }
   ],
   "source": [
    "y_pred1"
   ]
  },
  {
   "cell_type": "code",
   "execution_count": 46,
   "metadata": {
    "colab": {
     "base_uri": "https://localhost:8080/",
     "height": 52
    },
    "colab_type": "code",
    "id": "R8zyO-Qfs51Z",
    "outputId": "9eb1cff7-fe54-461d-a332-5603259f6377"
   },
   "outputs": [
    {
     "data": {
      "text/plain": [
       "array([ 47,  47,  54,  47,  61,  40,  75, 110,  47,  54])"
      ]
     },
     "execution_count": 46,
     "metadata": {},
     "output_type": "execute_result"
    }
   ],
   "source": [
    "y_pred2"
   ]
  },
  {
   "cell_type": "code",
   "execution_count": 47,
   "metadata": {
    "colab": {
     "base_uri": "https://localhost:8080/",
     "height": 283
    },
    "colab_type": "code",
    "id": "kbQbHKlas_3u",
    "outputId": "4a04f1ee-8152-4259-ebf8-991d50f47278"
   },
   "outputs": [
    {
     "data": {
      "image/png": "[encoded data removed]",
      "text/plain": [
       "<Figure size 432x288 with 1 Axes>"
      ]
     },
     "metadata": {
      "needs_background": "light"
     },
     "output_type": "display_data"
    }
   ],
   "source": [
    "plt.scatter(X[:,1], y)\n",
    "plt.plot(X[:,1], y_pred1, label='pred 1')\n",
    "plt.plot(X[:,1], y_pred2, label='pred 2')\n",
    "plt.xlabel('стаж')\n",
    "plt.ylabel('ср.балл ЕГЭ')\n",
    "plt.legend();"
   ]
  },
  {
   "cell_type": "code",
   "execution_count": 48,
   "metadata": {
    "colab": {},
    "colab_type": "code",
    "id": "zbsqjAxH9WqI"
   },
   "outputs": [
    {
     "data": {
      "text/plain": [
       "(-0.6, -0.8)"
      ]
     },
     "execution_count": 48,
     "metadata": {},
     "output_type": "execute_result"
    }
   ],
   "source": [
    "err1 = np.mean(y - y_pred1)\n",
    "err2 = np.mean(y - y_pred2)\n",
    "err1, err2"
   ]
  },
  {
   "cell_type": "code",
   "execution_count": 49,
   "metadata": {
    "colab": {},
    "colab_type": "code",
    "id": "vUqCthPf9eYI"
   },
   "outputs": [
    {
     "data": {
      "text/plain": [
       "(6.4, 7.4)"
      ]
     },
     "execution_count": 49,
     "metadata": {},
     "output_type": "execute_result"
    }
   ],
   "source": [
    "# mae - mean absolute error\n",
    "mae_1 = np.mean(np.abs(y - y_pred1))\n",
    "mae_2 = np.mean(np.abs(y - y_pred2))\n",
    "mae_1, mae_2"
   ]
  },
  {
   "cell_type": "code",
   "execution_count": 50,
   "metadata": {
    "colab": {},
    "colab_type": "code",
    "id": "XTn2bZIg_EBS"
   },
   "outputs": [
    {
     "data": {
      "text/plain": [
       "(55.6, 121.4)"
      ]
     },
     "execution_count": 50,
     "metadata": {},
     "output_type": "execute_result"
    }
   ],
   "source": [
    "# mse - mean squared error\n",
    "mse_1 = np.mean((y - y_pred1)**2)\n",
    "mse_2 = np.mean((y - y_pred2)**2)\n",
    "mse_1, mse_2"
   ]
  },
  {
   "cell_type": "markdown",
   "metadata": {
    "colab_type": "text",
    "id": "R4zHyZ2Da5HV"
   },
   "source": [
    "### Метод наименьших квадратов"
   ]
  },
  {
   "cell_type": "markdown",
   "metadata": {},
   "source": [
    "Нормальное уравнение линейной регрессии\n",
    "$$\\vec{w} = (X^{T}X)^{-1}X^{T}\\vec{y}$$"
   ]
  },
  {
   "cell_type": "code",
   "execution_count": 51,
   "metadata": {},
   "outputs": [
    {
     "data": {
      "text/plain": [
       "array([[ 10,  26],\n",
       "       [ 26, 146]])"
      ]
     },
     "execution_count": 51,
     "metadata": {},
     "output_type": "execute_result"
    }
   ],
   "source": [
    "X.T @ X"
   ]
  },
  {
   "cell_type": "code",
   "execution_count": 52,
   "metadata": {
    "colab": {
     "base_uri": "https://localhost:8080/",
     "height": 34
    },
    "colab_type": "code",
    "id": "mnyZzkaDBegD",
    "outputId": "368800a6-deef-46d0-b27f-d6eb5e46a743"
   },
   "outputs": [
    {
     "data": {
      "text/plain": [
       "array([47.23214286,  3.91071429])"
      ]
     },
     "execution_count": 52,
     "metadata": {},
     "output_type": "execute_result"
    }
   ],
   "source": [
    "w = np.linalg.inv(X.T @ X) @ X.T @ y\n",
    "w"
   ]
  },
  {
   "cell_type": "code",
   "execution_count": 53,
   "metadata": {},
   "outputs": [
    {
     "data": {
      "text/plain": [
       "(47.23214285714286, 3.910714285714285)"
      ]
     },
     "execution_count": 53,
     "metadata": {},
     "output_type": "execute_result"
    }
   ],
   "source": [
    "w1 = np.sum((y - np.mean(y)) * (X[:,1] - X[:,1].mean())) / np.sum((X[:,1] - X[:,1].mean()) ** 2)\n",
    "w0 = np.mean(y) - w1 * X[:,1].mean()\n",
    "w0, w1"
   ]
  },
  {
   "cell_type": "code",
   "execution_count": 54,
   "metadata": {},
   "outputs": [
    {
     "name": "stdout",
     "output_type": "stream",
     "text": [
      "[45 45 50 45 55 40 65 90 45 50]\n",
      "[45 45 50 45 55 40 65 90 45 50]\n",
      "[45 45 50 45 55 40 65 90 45 50]\n",
      "[45 45 50 45 55 40 65 90 45 50]\n",
      "[45 45 50 45 55 40 65 90 45 50]\n"
     ]
    }
   ],
   "source": [
    "w_ = [40, 5]\n",
    "print(X @ w_)\n",
    "print(np.dot(w_, X.T))\n",
    "print(np.dot(X, w_))\n",
    "print(w_[0] * X[:,0] + w_[1] * X[:,1])\n",
    "print(np.sum(w_ * X, axis=1))"
   ]
  },
  {
   "cell_type": "code",
   "execution_count": 55,
   "metadata": {
    "colab": {
     "base_uri": "https://localhost:8080/",
     "height": 282
    },
    "colab_type": "code",
    "id": "Lyg-J3H7Bnv5",
    "outputId": "7701dd28-d123-4773-cd1f-1439abfb6d90"
   },
   "outputs": [
    {
     "data": {
      "image/png": "[encoded data removed]",
      "text/plain": [
       "<Figure size 432x288 with 1 Axes>"
      ]
     },
     "metadata": {
      "needs_background": "light"
     },
     "output_type": "display_data"
    }
   ],
   "source": [
    "plt.scatter(X[:,1], y)\n",
    "plt.plot(X[:,1], 48 + X[:,1] * 4, color='g')\n",
    "#plt.plot(X[:,1], 40 + X[:,1] * 7)\n",
    "plt.plot(X[:,1], w[0] + w[1] * X[:,1], color='red');"
   ]
  },
  {
   "cell_type": "code",
   "execution_count": 56,
   "metadata": {
    "colab": {},
    "colab_type": "code",
    "id": "JTSC2cFnCd8T"
   },
   "outputs": [],
   "source": [
    "def calc_mse(y, y_pred):\n",
    "    err = np.mean((y - y_pred)**2)\n",
    "    return err\n",
    "\n",
    "def calc_mae(y, y_pred):\n",
    "    err = np.mean(np.abs(y - y_pred))\n",
    "    return err"
   ]
  },
  {
   "cell_type": "code",
   "execution_count": 57,
   "metadata": {
    "colab": {
     "base_uri": "https://localhost:8080/",
     "height": 34
    },
    "colab_type": "code",
    "id": "AaE_x_nCDW3x",
    "outputId": "74189131-5508-4ba0-a346-42b2ba6ef418"
   },
   "outputs": [
    {
     "data": {
      "text/plain": [
       "(6.4, 55.6)"
      ]
     },
     "execution_count": 57,
     "metadata": {},
     "output_type": "execute_result"
    }
   ],
   "source": [
    "calc_mae(y, y_pred1), calc_mse(y, y_pred1)"
   ]
  },
  {
   "cell_type": "code",
   "execution_count": 58,
   "metadata": {
    "colab": {
     "base_uri": "https://localhost:8080/",
     "height": 50
    },
    "colab_type": "code",
    "id": "Yxo6vu3NDaTC",
    "outputId": "7e152226-fe88-4e14-ebee-1501abb61966"
   },
   "outputs": [
    {
     "data": {
      "text/plain": [
       "array([51.14285714, 51.14285714, 55.05357143, 51.14285714, 58.96428571,\n",
       "       47.23214286, 66.78571429, 86.33928571, 51.14285714, 55.05357143])"
      ]
     },
     "execution_count": 58,
     "metadata": {},
     "output_type": "execute_result"
    }
   ],
   "source": [
    "y_pred3 = w[0] + w[1] * X[:,1]\n",
    "y_pred3"
   ]
  },
  {
   "cell_type": "code",
   "execution_count": 59,
   "metadata": {
    "colab": {
     "base_uri": "https://localhost:8080/",
     "height": 34
    },
    "colab_type": "code",
    "id": "_WtO6lvhDmQ6",
    "outputId": "8de8b895-85d8-448e-f565-b70e93a5dd25"
   },
   "outputs": [
    {
     "data": {
      "text/plain": [
       "(6.182142857142859, 45.93750000000002)"
      ]
     },
     "execution_count": 59,
     "metadata": {},
     "output_type": "execute_result"
    }
   ],
   "source": [
    "calc_mae(y, y_pred3), calc_mse(y, y_pred3)"
   ]
  },
  {
   "cell_type": "markdown",
   "metadata": {
    "colab_type": "text",
    "id": "JAOgIXLRa--g"
   },
   "source": [
    "### Градиентный спуск (gradient descent)"
   ]
  },
  {
   "cell_type": "markdown",
   "metadata": {},
   "source": [
    "<img src='img/grad_desent.gif' width=500 align='center'></img>"
   ]
  },
  {
   "cell_type": "markdown",
   "metadata": {},
   "source": [
    "$$L(w)=\\frac{1}{n}\\sum^{n}_{i=1}\\big({y_{pred}}_i-y_{i}\\big)^{2}=\\frac{1}{n}\\sum^{n}_{i=1}\\big((w_0\\cdot x_{i0}+w_1\\cdot x_{i1})-y_{i}\\big)^{2}\\rightarrow \\underset{w}{\\text{min}}$$\n",
    "$$w_j\\leftarrow w_j-\\alpha\\frac{\\partial}{\\partial w_j}L(w)$$\n",
    "$$\\frac{\\partial L(w)}{\\partial w_j}=\\frac{1}{n} 2\\sum^{n}_{i=1}x_{ij}\\Big(\\sum^{m}_{j=0}(w_jx_{ij})-y_i\\Big)$$\n",
    "$$\\vec{w}=\\vec{w}-\\alpha \\frac{2}{n}X^T(X\\vec{w}-\\vec{y}) $$\n"
   ]
  },
  {
   "cell_type": "code",
   "execution_count": 60,
   "metadata": {
    "colab": {},
    "colab_type": "code",
    "id": "5DKkvmkwHdOx"
   },
   "outputs": [
    {
     "data": {
      "text/plain": [
       "(array([1. , 0.5]), array([1.1102, 0.84  ]))"
      ]
     },
     "execution_count": 60,
     "metadata": {},
     "output_type": "execute_result"
    }
   ],
   "source": [
    "n = 10\n",
    "alpha = 1e-3\n",
    "w = np.array([1, 0.5])\n",
    "grad = 1/n * 2 * np.sum(X.T * (np.sum(w * X, axis=1) - y), axis=1)\n",
    "grad = 1/n * 2 * np.dot(X.T, (np.dot(w, X.T) - y))\n",
    "w, w - alpha * grad"
   ]
  },
  {
   "cell_type": "markdown",
   "metadata": {},
   "source": [
    "### Домашние задания"
   ]
  },
  {
   "cell_type": "markdown",
   "metadata": {
    "colab_type": "text",
    "id": "huXrhXQsZTMt"
   },
   "source": [
    "1. Проведите небольшое исследование алгоритма градиентного спуска. Оцените влияние значений скорости обучения (`alpha`) и количества итераций на ошибку алгоритма. Как связаны эти два гиперпараметра между собой? Подберите скорость обучения и количество итераций до совпадения ответов алгоритма с результатами МНК. "
   ]
  },
  {
   "cell_type": "code",
   "execution_count": 106,
   "metadata": {
    "colab": {
     "base_uri": "https://localhost:8080/",
     "height": 185
    },
    "colab_type": "code",
    "id": "IDB22MQKMYaJ",
    "outputId": "4c03219e-a57c-4583-f439-6699fd0619bb"
   },
   "outputs": [
    {
     "name": "stdout",
     "output_type": "stream",
     "text": [
      "0 [ 4.306 10.7  ] 3173.15\n",
      "100 [45.43587625  4.24240866] 47.78566552757455\n",
      "200 [47.15661983  3.92466019] 45.940767066883986\n",
      "300 [47.22896753  3.91130063] 45.93750577530847\n",
      "400 [47.23200935  3.91073894] 45.93750001020923\n",
      "500 [47.23213724  3.91071532] 45.937500000018055\n"
     ]
    }
   ],
   "source": [
    "n = X.shape[0]\n",
    "alpha = 0.03\n",
    "w = np.array([1, 0.5])\n",
    "\n",
    "for i in range(500 + 1):\n",
    "    y_pred = np.dot(w, X.T)\n",
    "    err = calc_mse(y, y_pred)\n",
    "    for j in range(w.shape[0]):\n",
    "        w[j] -= alpha * (1/n * 2 * np.sum(X[:,j] * (y_pred - y)))\n",
    "    if i % 100 == 0:\n",
    "        print(i, w, err) # МНК: array([47.23214286,  3.91071429]) 45.937499999999986"
   ]
  },
  {
   "cell_type": "code",
   "execution_count": 62,
   "metadata": {},
   "outputs": [],
   "source": [
    "# Увеличение альфы без изменений итераций\n",
    "# alpha = 0.02\n",
    "# [47.23214282  3.91071429] 45.937499999999986\n",
    "# Идеально совпадает второй вес и ошибка, первый вес чуть меньше (на 4.000000330961484e-08)\n",
    "# alpha = 0.023\n",
    "# [47.23214286  3.91071429] 45.93749999999999\n",
    "# Идеально совпадают оба веса, чуть больше ошибка(на -7.105427357601002e-15)\n"
   ]
  },
  {
   "cell_type": "code",
   "execution_count": null,
   "metadata": {},
   "outputs": [],
   "source": [
    "# Изменение количества итераций без изменения альфы\n",
    "# нужно слишком много итераций, снижается производительность\n",
    "# 15000\n",
    "# [47.2321355   3.91071564] 45.93750000002917\n",
    "# 16000\n",
    "# [47.23214026  3.91071477] 45.93750000000364\n",
    "# 17000 \n",
    "# [47.23214194  3.91071446] 45.93750000000046"
   ]
  },
  {
   "cell_type": "code",
   "execution_count": 110,
   "metadata": {},
   "outputs": [],
   "source": [
    "# alpha = 0.03\n",
    "\n",
    "# 500\n",
    "# [47.23213724  3.91071532] 45.937500000018055\n",
    "# Увеличение альфы позволяет снизить количество итераций\n",
    "# и получить исходные веса с минимальными отклонениями"
   ]
  },
  {
   "cell_type": "markdown",
   "metadata": {
    "colab_type": "text",
    "id": "5Qu1o4JhZYwI"
   },
   "source": [
    "*2. В этом коде мы избавляемся от итераций по весам, но тут есть ошибка, исправьте ее:"
   ]
  },
  {
   "cell_type": "code",
   "execution_count": 135,
   "metadata": {
    "colab": {
     "base_uri": "https://localhost:8080/",
     "height": 185
    },
    "colab_type": "code",
    "id": "WZZzDCQLY4pA",
    "outputId": "28f58ade-72f2-4381-809d-2417752d56e4"
   },
   "outputs": [
    {
     "name": "stdout",
     "output_type": "stream",
     "text": [
      "0 [ 4.306 10.7  ] 3173.15\n",
      "100 [45.43587625  4.24240866] 47.78566552757455\n",
      "200 [47.15661983  3.92466019] 45.940767066883986\n",
      "300 [47.22896753  3.91130063] 45.93750577530847\n",
      "400 [47.23200935  3.91073894] 45.93750001020923\n",
      "500 [47.23213724  3.91071532] 45.937500000018055\n",
      "600 [47.23214262  3.91071433] 45.93750000000003\n",
      "700 [47.23214285  3.91071429] 45.9375\n",
      "800 [47.23214286  3.91071429] 45.937499999999986\n",
      "900 [47.23214286  3.91071429] 45.93750000000001\n"
     ]
    }
   ],
   "source": [
    "w = np.array([1, 0.5])\n",
    "\n",
    "for i in range(1000):\n",
    "    y_pred = np.dot(w, X.T)\n",
    "    err = calc_mse(y, y_pred)\n",
    "    '''for j in range(w.shape[0]):\n",
    "        w[j] -= alpha * (1/n * 2 * np.sum(X[j] * (y_pred - y)))'''\n",
    "    w -= (alpha * (1/n * 2 * np.sum(X.T * (np.sum(w * X, axis=1) - y), axis=1)))\n",
    "    if i % 100 == 0:\n",
    "        print(i, w, err) # [47.23214286  3.91071429] 45.937499999999986"
   ]
  },
  {
   "cell_type": "markdown",
   "metadata": {
    "colab": {},
    "colab_type": "code",
    "id": "kGLyytFgHdco"
   },
   "source": [
    "*3. Вместо того, чтобы задавать количество итераций, задайте условие остановки алгоритма - когда ошибка за итерацию начинает изменяться ниже определенного порога. \n",
    "\n",
    "Сколько нужно сделать итераций, если установить допустимое отклонение mse в размере $\\text{diff}=10^{-6}$, а значение $\\alpha=10^{-2}$?"
   ]
  },
  {
   "cell_type": "code",
   "execution_count": 145,
   "metadata": {},
   "outputs": [
    {
     "name": "stdout",
     "output_type": "stream",
     "text": [
      "Веса: [47.22276525  3.91244593], ошибка:45.937547277798465, количество итераций: 808\n"
     ]
    }
   ],
   "source": [
    "w = np.array([1, 0.5])\n",
    "diff = 1e-6\n",
    "alpha = 1e-2\n",
    "diff, alpha\n",
    "\n",
    "w = np.array([1, 0.5])\n",
    "iter_count = 0\n",
    "\n",
    "while True:\n",
    "    y_pred = np.dot(w, X.T)\n",
    "    err = calc_mse(y, y_pred)\n",
    "    w -= (alpha * (1/n * 2 * np.sum(X.T * (np.sum(w * X, axis=1) - y), axis=1)))\n",
    "    new_pred = np.dot(w, X.T)\n",
    "    new_err = calc_mse(y, new_pred)\n",
    "    if (err - new_err) < diff:\n",
    "        print(f\"Веса: {w}, ошибка:{new_err}, количество итераций: {iter_count}\")\n",
    "        break\n",
    "    else:\n",
    "        iter_count += 1\n",
    "    \n",
    "    \n",
    "     # [47.23214286  3.91071429] 45.937499999999986\n"
   ]
  },
  {
   "cell_type": "markdown",
   "metadata": {},
   "source": [
    "Заметки по матричным вычислениям http://www.machinelearning.ru/wiki/images/2/2a/Matrix-Gauss.pdf"
   ]
  },
  {
   "cell_type": "code",
   "execution_count": null,
   "metadata": {},
   "outputs": [],
   "source": []
  }
 ],
 "metadata": {
  "colab": {
   "collapsed_sections": [],
   "name": "Lesson1.ipynb",
   "provenance": []
  },
  "kernelspec": {
   "display_name": "Python 3 (ipykernel)",
   "language": "python",
   "name": "python3"
  },
  "language_info": {
   "codemirror_mode": {
    "name": "ipython",
    "version": 3
   },
   "file_extension": ".py",
   "mimetype": "text/x-python",
   "name": "python",
   "nbconvert_exporter": "python",
   "pygments_lexer": "ipython3",
   "version": "3.9.2"
  },
  "toc": {
   "base_numbering": 1,
   "nav_menu": {},
   "number_sections": false,
   "sideBar": true,
   "skip_h1_title": true,
   "title_cell": "План занятия",
   "title_sidebar": "План",
   "toc_cell": true,
   "toc_position": {
    "height": "calc(100% - 180px)",
    "left": "10px",
    "top": "150px",
    "width": "165px"
   },
   "toc_section_display": true,
   "toc_window_display": false
  }
 },
 "nbformat": 4,
 "nbformat_minor": 1
}
