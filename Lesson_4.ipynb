{
 "cells": [
  {
   "cell_type": "markdown",
   "metadata": {
    "colab_type": "text",
    "id": "FM6XV3IlabW_"
   },
   "source": [
    "## Урок 4. Деревья решений"
   ]
  },
  {
   "cell_type": "markdown",
   "metadata": {
    "colab_type": "text",
    "id": "Y6OcIFWiabXC"
   },
   "source": [
    "В этом уроке пойдет речь еще об одном популярном методе машинного обучения - _деревьях решений_. Это семейство алгоритмов значительно отличается от линейных моделей, но также применяется в задачах классификации и регрессии.\n",
    "\n",
    "Метод основан на известной структуре данных - деревьях, которые по сути представляют собой последовательные инструкции с условиями. Например, в обсуждаемой ранее задаче кредитного скоринга может быть следующий алгоритм принятия решения:\n",
    "\n",
    "1. Старше ли клиент 18 лет? Если да, то продолжаем, иначе отказываем в кредите.\n",
    "\n",
    "2. Превышает ли его заработок 50 тысяч рублей? Если да, то продолжаем, иначе отказываем в кредите.\n",
    "\n",
    "3. Были ли у клиента просроченные кредиты ранее? Если да, отказываем в кредите, иначе выдаем.\n",
    "\n",
    "В листьях (терминальных узлах) деревьев стоят значения целевой функции (прогноз), а в узлах - условия перехода, определяющие, по какому из ребер идти. Если речь идет о бинарных деревьях (каждый узел производит ветвление на две части), обычно, если условие в узле истинно, то происходит переход по левому ребру, если ложно, то по правому. Изобразим описанный выше алгоритм в виде дерева решений."
   ]
  },
  {
   "cell_type": "code",
   "execution_count": 256,
   "metadata": {
    "colab": {},
    "colab_type": "code",
    "id": "R-asfUSaabXD"
   },
   "outputs": [],
   "source": [
    "# если дерево ниже не отображается, требуется установить библиотеку python-graphviz\n",
    "import os  \n",
    "os.environ[\"PATH\"] += os.pathsep + 'C:\\\\Program Files (x86)\\\\Graphviz2.38\\\\bin'\n",
    "#from graphviz import Digraph"
   ]
  },
  {
   "cell_type": "code",
   "execution_count": 257,
   "metadata": {
    "colab": {},
    "colab_type": "code",
    "id": "aifJQkhTabXG",
    "outputId": "3d1ff9d0-5fe0-4131-d9a0-e8cf2d63dd21"
   },
   "outputs": [],
   "source": [
    "# dot = Digraph(node_attr={'shape': 'box'})\n",
    "\n",
    "# dot.node('A', label='Клиент старше 18 лет?')\n",
    "# dot.node('B', label='Превышает ли его заработок 50 тысяч рублей?')\n",
    "# dot.node('C', label='Отказать')\n",
    "# dot.node('D', label='Были ли у клиента просроченные кредиты ранее?')\n",
    "# dot.node('E', label='Отказать')\n",
    "# dot.node('F', label='Отказать')\n",
    "# dot.node('G', label='Выдать')\n",
    "\n",
    "# dot.edge('A', 'B', label='да')\n",
    "# dot.edge('A', 'C', label='нет')\n",
    "# dot.edge('B', 'D', label='да')\n",
    "# dot.edge('B', 'E', label='нет')\n",
    "# dot.edge('D', 'F', label='да')\n",
    "# dot.edge('D', 'G', label='нет')\n",
    "\n",
    "# dot"
   ]
  },
  {
   "cell_type": "markdown",
   "metadata": {},
   "source": [
    "![](img/tree.jpg)"
   ]
  },
  {
   "cell_type": "markdown",
   "metadata": {
    "colab_type": "text",
    "id": "asbWiXeOabXM"
   },
   "source": [
    "В задачах машинного обучения чаще всего в вершинах прописываются максимально простые условия. Обычно это сравнение значения одного из признаков $x^{j}$ с некоторым заданным порогом $t$:\n",
    "\n",
    "$$[x^{j} \\leq t].$$\n",
    "\n",
    "Если решается задача классификации, конечным прогнозом является класс или распределение вероятностей классов. В случае регрессии прогноз в листе является вещественным числом.\n",
    "\n",
    "Большим плюсом деревьев является тот факт, что они легко интерпретируемы. "
   ]
  },
  {
   "cell_type": "markdown",
   "metadata": {
    "colab_type": "text",
    "id": "MNt1_4CWabXM"
   },
   "source": [
    "### Построение деревьев решений"
   ]
  },
  {
   "cell_type": "markdown",
   "metadata": {
    "colab_type": "text",
    "id": "IR2W64axabXN"
   },
   "source": [
    "Деревья обладают и отрицательными качествами - в частности, они очень легко переобучаются. Легко построить дерево, в котором каждый лист будет соответствовать одному объекту обучающей выборки. Оно будет идеально подогнано под обучающую выборку, давать стопроцентный ответ на ней, но при этом не будет восстанавливать оригинальных закономерностей, и качество ответов на новых данных будет неудовлетворительным."
   ]
  },
  {
   "cell_type": "markdown",
   "metadata": {
    "colab_type": "text",
    "id": "2k5dCHAQabXO"
   },
   "source": [
    "В машинном обучении деревья строятся последовательно от корня к листьям (так называемый \"жадный\" способ). Вначале выбирается корень и критерий, по которому выборка разбивается на две. Затем то же самое делается для каждого из потомков этого корня и так далее до достаточного уровня ветвления. Задача состоит в выборе способа разбиения каждого из узлов, то есть в выборе значения порога, с которым будет сравниваться значение одного из признаков в каждом узле.\n",
    "\n",
    "Разбиение выбирается с точки зрения некоторого заранее заданного функционала качества $Q(X, j, t)$. Находятся наилучшие значения $j$ и $t$ для создания _предиката_ $[x^{j}<t]$. Параметры $j$ и $t$ можно выбирать перебором: признаков конечное число, а из всех возможных значений порога $t$ можно рассматривать только те, при которых получаются различные разбиения на две подвыборки, таким образом, различных значений параметра $t$ будет столько же, сколько различных значений признака $x^{j}$ в обучающей выборке.\n",
    "\n",
    "В каждой вершине производится проверка, не выполнилось ли некоторое условие останова (критерии останова рассмотрим далее), и если оно выполнилось, разбиение прекращается, и вершина объвляется листом, и он будет содержать прогноз.\n",
    "\n",
    "В задаче классификации это будет класс, к которому относится большая часть объектов из выборки в листе $X_{m}$\n",
    "\n",
    "$$a_{m} = \\text{argmax}_{y \\in Y} \\sum_{i \\in X_{m}}[y_{i}=y]$$\n",
    "\n",
    "или доля объектов определенного класса $k$, если требуется предсказать вероятности классов\n",
    "\n",
    "$$a_{mk} = \\frac{1}{|X_{m}|} \\sum_{i \\in X_{m}}[y_{i}=k].$$\n",
    "\n",
    "В случае регрессии можно в качестве ответа давать средний по выборке в листе\n",
    "\n",
    "$$a_{m} = \\frac{1}{|X_{m}|} \\sum_{i \\in X_{m}}y_{i}.$$\n",
    "\n",
    "После построения дерева может проводиться его _стрижка_ (pruning) - удаление некоторых вершин согласно некоторому подходу с целью понижения сложности модели и повышения обобщающей способности."
   ]
  },
  {
   "cell_type": "markdown",
   "metadata": {
    "colab_type": "text",
    "id": "SV4vq5FrabXP"
   },
   "source": [
    "За функционал качества при работе с деревом решений принимается функционал вида\n",
    "\n",
    "$$Q(X_{m}, j, t) = H(X_{m}) - \\frac{|X_{l}|}{|X_{m}|}H(X_{l}) - \\frac{|X_{r}|}{|X_{m}|}H(X_{r}),$$\n",
    "\n",
    "где $X_{m}$ - множество объектов, попавших в вершину на данном шаге, $X_{l}$ и $X_{r}$ - множества, попадающие в левое и правое поддерево, соответственно, после разбиения. $H(X)$ - _критерий информативности_. Он оценивает качество распределения объектов в подмножестве и тем меньше, чем меньше разнообразие ответов в $X$, соответственно, задача обучения состоит в его минимизации и, соответственно, максимизации $Q(X_{m}, j, t)$ на данном шаге. Последний, по сути, характеризует прирост качества на данном шаге.\n",
    "\n",
    "В формуле значения критериев информативности нормируются - домножаются на долю объектов, ушедших в соответствующее подмножество. Например, если у нас множество в узле разбилось на два подмножества размером в 9990 объектов и 10 объектов, но при этом в первом подмножестве все объекты будут принадлежать к одному классу (то есть иметь минимальное значение разброса), а во втором - к разным, то в целом разбиение будет считаться хорошим, так как подавляющее большинство отсортировано правильно."
   ]
  },
  {
   "cell_type": "markdown",
   "metadata": {
    "colab_type": "text",
    "id": "pjRAYZGJabXP"
   },
   "source": [
    "### Критерий информативности"
   ]
  },
  {
   "cell_type": "markdown",
   "metadata": {
    "colab_type": "text",
    "id": "OUZfaAV7abXQ"
   },
   "source": [
    "В случае регрессии разброс будет характеризоваться дисперсией, поэтому критерий информативности будет записан в виде\n",
    "\n",
    "$$H(X) = \\frac{1}{|X|}\\sum_{i\\in X}(y_{i} - \\bar{y})^{2},$$\n",
    "\n",
    "где $\\bar{y}$ - среднее значение ответа в выборке $X$:\n",
    "\n",
    "$$\\bar{y} = \\frac{1}{|X|}\\sum_{i\\in X}y_{i}.$$"
   ]
  },
  {
   "cell_type": "markdown",
   "metadata": {
    "colab_type": "text",
    "id": "L-j5hnV_abXR"
   },
   "source": [
    "В задаче классификации есть несколько способов определить критерий информативности.\n",
    "\n",
    "Обозначим через $p_{k}$ долю объектов класса $k$ в выборке $X$:\n",
    "\n",
    "$$p_{k} = \\frac{1}{|X|}\\sum_{i\\in X}[y_{i} = k].$$\n",
    "\n",
    "$p_{k}$ будет характеризовать вероятность выдачи класса $k$.\n",
    "\n",
    "_Критерий Джини_ или _индекс Джини_ выглядит следующим образом:\n",
    "\n",
    "$$H(X) = \\sum^{K}_{k=1}p_{k}(1-p_{k})= 1 - \\sum^{K}_{k=1}p_{k}^{2},$$\n",
    "\n",
    "где $K$ - количество классов в наборе данных $X$.\n",
    "\n",
    "Его минимум достигается когда все объекты в подмножестве относятся к одному классу, а максимум - при равном содержании объектов всех класов. Критерий информативности Джини можно интерпретировать как вероятность ошибки случайного классификатора.\n",
    "\n",
    "\n",
    "Еще один критерий информативности - _энтропийный критерий_. Он также называется _энтропией Шеннона_ и записывается как\n",
    "\n",
    "$$H(X) = - \\sum^{K}_{k=1}p_{k}\\text{log}_{2}p_{k}.$$\n",
    "\n",
    "Минимум энтропии также достигается когда все объекты относятся к одному класссу, а максимум - при равномерном распределении. Стоит отметить, что в формуле полагается, что $0\\text{log}_{2}0=0.$\n",
    "\n",
    "\n"
   ]
  },
  {
   "cell_type": "markdown",
   "metadata": {
    "colab_type": "text",
    "id": "wQbZUf1OabXS"
   },
   "source": [
    "### Критерии останова"
   ]
  },
  {
   "cell_type": "markdown",
   "metadata": {
    "colab_type": "text",
    "id": "fNr4Fc7tabXS"
   },
   "source": [
    "_Критерии останова_ - это критерии, которые показывают, нужно ли остановить процесс построения дерева. Правильный выбор критериев останова роста дерева может существенно повлиять на его качество. Существует большое количество возможных ограничений:\n",
    "\n",
    "- Ограничение максимальной глубины дерева. Этот критерий считается достаточно грубым, но хорошо зарекомендовавшим себя в построении композиций деревьев - когда несколько деревьев объединяются в один алгоритм.\n",
    "\n",
    "\n",
    "- Ограничение максимального количества листьев.\n",
    "\n",
    "\n",
    "- Ограничение минимального количества $n$ объектов в листе. При этом оно должно быть достаточным, чтобы построить надежный прогноз.\n",
    "\n",
    "\n",
    "- Останов в случае, когда все объекты в листе относятся к одному классу.\n",
    "\n",
    "\n",
    "- Требование улучшения функционала качества при разбиении на какую-то минимальную величину.\n",
    "\n",
    "Подбор оптимальных критериев - сложная задача, которая обычно решается методом кросс-валидации."
   ]
  },
  {
   "cell_type": "markdown",
   "metadata": {
    "colab_type": "text",
    "id": "vyLBxK_AabXT"
   },
   "source": [
    "### Обрезка деревьев"
   ]
  },
  {
   "cell_type": "markdown",
   "metadata": {
    "colab_type": "text",
    "id": "gvdu6ypbabXU"
   },
   "source": [
    "В случае применения метода стрижки (обрезки, прунинга) деревьев использовать критерии останова необязательно, и можно строить переобученные деревья, затем снижая их сложность, удаляя листья по некоторому критерию (например, пока улучшается качество на отложенной выборке). Считается, что стрижка работает лучше, чем критерии останова."
   ]
  },
  {
   "cell_type": "markdown",
   "metadata": {
    "colab_type": "text",
    "id": "t9Lc5HJnabXU"
   },
   "source": [
    "Одним из методов стрижки является _cost-complexity pruning_. Допустим, мы построили дерево, обозначенное как $T_{0}$. В каждом из листьев находятся объекты одного класса, и значение функционала ошибки $R(T)$ при этом будет минимально на $T_{0}$. Для борьбы с переобучением к нему добавляют \"штраф\" за размер дерева (аналогично регуляризации, рассмотренной нами в предыдущих уроках) и получают новый функционал $R_{\\alpha}(T)$:\n",
    "\n",
    "$$R_{\\alpha}(T) = R(T) + \\alpha|T|,$$\n",
    "\n",
    "где $|T|$ - число листьев в дереве, $\\alpha$ - некоторый параметр регуляризации. Таким образом если при построении дерева на каком-то этапе построения алгоритма ошибка будет неизменна, а глубина дерева увеличиваться, итоговый функционал, состоящий из их суммы, будет расти."
   ]
  },
  {
   "cell_type": "markdown",
   "metadata": {
    "colab_type": "text",
    "id": "jSY2sT6CabXV"
   },
   "source": [
    "Однако стрижка деревьев обладает существенными минусами. В частности, она является очень трудоемкой процедурой. Например, она может требовать вычисления функционала качества на валидационной выборке на каждом шаге. К тому же, на данный момент одиночные деревья на практике почти не используются, а используются композиции деревьев, и в этом случае стрижка как метод борьбы с переобучением становится еще более сложным подходом. Обычно в такой ситуации достаточно использовать простые критерии останова."
   ]
  },
  {
   "cell_type": "markdown",
   "metadata": {
    "colab_type": "text",
    "id": "g5FCRiMOabXW"
   },
   "source": [
    "## CART"
   ]
  },
  {
   "cell_type": "markdown",
   "metadata": {
    "colab_type": "text",
    "id": "cMNNa6u1abXX"
   },
   "source": [
    "CART (Classification and regression trees) - первый из алгоритмов, состоящий в обычном последовательном построении дерева решений и придуманный в 1983 году. На первой итерации строятся все возможные разбиения исходного пространства на два и выбирается такое, при котором максимально выделен один из классов в одно подпространство. На следующих итерациях выбирается худший лист (с наибольшим разнообразием классов), и на нем проводится та же операция. Так продложается до достижения одного из критериев останова. \n",
    "\n",
    "Полученное дерево будет подогнано под обучающую выборку (переобучено), так что затем требуется его кросс-валидация или обрезка методом cost-complexity pruning. "
   ]
  },
  {
   "cell_type": "code",
   "execution_count": 258,
   "metadata": {},
   "outputs": [
    {
     "data": {
      "image/png": "[encoded data removed]",
      "text/plain": [
       "<Figure size 432x288 with 1 Axes>"
      ]
     },
     "metadata": {
      "needs_background": "light"
     },
     "output_type": "display_data"
    }
   ],
   "source": [
    "import pandas as pd\n",
    "import matplotlib.pyplot as plt\n",
    "plt.rcParams.update({'font.size': 14})\n",
    "\n",
    "X = pd.DataFrame({'x1': [1.5, 1.5, 2.5, 2.5, 2.5, 3.5, 3.5, 3.5, 4.5, 4.5],\n",
    "                  'x2': [1.5, 2.5, 1.5, 2.5, 3.5, 1.5, 2.5, 3.5, 2.5, 3.5]}) \n",
    "y = [1, 1, 0, 1, 1, 0, 0, 1, 0, 0]\n",
    "\n",
    "plt.scatter('x1', 'x2', data=X, s=300, c=y, marker='o', cmap='winter')\n",
    "plt.xlabel('x1')\n",
    "plt.ylabel('x2')\n",
    "plt.plot([3, 3], [1.5, 3.5], 'r-') # 1\n",
    "plt.plot([2, 2], [1.5, 3.5], 'm-') # 2\n",
    "plt.plot([1.5, 4.5], [2, 2], 'y-') # 3\n",
    "plt.grid();"
   ]
  },
  {
   "cell_type": "code",
   "execution_count": 259,
   "metadata": {},
   "outputs": [
    {
     "name": "stdout",
     "output_type": "stream",
     "text": [
      "H_0 = 1.0\n",
      "H_left = -0.0\n",
      "H_right = 0.9544\n",
      "IG(x_1 <= 2.0) = 0.2365\n"
     ]
    }
   ],
   "source": [
    "import numpy as np\n",
    "\n",
    "H_0 = - 5/10 * np.log2(5/10) - 5/10 * np.log2(5/10) # энтропия Шеннона\n",
    "print('H_0 = {:.4}'.format(H_0))\n",
    "\n",
    "# x_1 <= 2\n",
    "H_left = - 2/2 * np.log2(2/2) - 0\n",
    "print('H_left = {:.4}'.format(H_left))\n",
    "H_right = - 3/8 * np.log2(3/8) - 5/8 * np.log2(5/8)\n",
    "\n",
    "print('H_right = {:.4}'.format(H_right))\n",
    "IG = H_0 - 2/10 * H_left - 8/10 * H_right # прирост информации\n",
    "print('IG(x_1 <= 2.0) = {:.4}'.format(IG))\n"
   ]
  },
  {
   "cell_type": "code",
   "execution_count": 260,
   "metadata": {},
   "outputs": [
    {
     "name": "stdout",
     "output_type": "stream",
     "text": [
      "H_0 = 1.0\n",
      "H_left = 0.7219\n",
      "H_right = 0.7219\n",
      "IG(x_1 <= 3.0) = 0.2781\n"
     ]
    }
   ],
   "source": [
    "# x_1 <= 3\n",
    "print('H_0 = {:.4}'.format(H_0))\n",
    "H_left = - 4/5 * np.log2(4/5) - 1/5 * np.log2(1/5)\n",
    "print('H_left = {:.4}'.format(H_left))\n",
    "H_right = - 1/5 * np.log2(1/5) - 4/5 * np.log2(4/5)\n",
    "print('H_right = {:.4}'.format(H_right))\n",
    "IG = H_0 - 5/10 * H_left - 5/10 * H_right\n",
    "print('IG(x_1 <= 3.0) = {:.4}'.format(IG))"
   ]
  },
  {
   "cell_type": "code",
   "execution_count": 261,
   "metadata": {},
   "outputs": [
    {
     "name": "stdout",
     "output_type": "stream",
     "text": [
      "H_0 = 1.0\n",
      "H_left = 0.9183\n",
      "H_right = 0.9852\n",
      "IG(x_2 <= 2.0) = 0.03485\n"
     ]
    }
   ],
   "source": [
    "# x_2 <= 2\n",
    "print('H_0 = {:.4}'.format(H_0))\n",
    "H_left = - 1/3 * np.log2(1/3) - 2/3 * np.log2(2/3)\n",
    "print('H_left = {:.4}'.format(H_left))\n",
    "H_right = - 4/7 * np.log2(4/7) - 3/7 * np.log2(3/7)\n",
    "print('H_right = {:.4}'.format(H_right))\n",
    "IG = H_0 - 3/10 * H_left - 7/10 * H_right\n",
    "print('IG(x_2 <= 2.0) = {:.4}'.format(IG))"
   ]
  },
  {
   "cell_type": "markdown",
   "metadata": {
    "colab_type": "text",
    "id": "sWm0sO22abXZ"
   },
   "source": [
    "## Реализация дерева решений"
   ]
  },
  {
   "cell_type": "markdown",
   "metadata": {
    "colab_type": "text",
    "id": "9yZFTHXJabXa"
   },
   "source": [
    "Реализуем алгоритм алгоритм работы дерева решений своими руками."
   ]
  },
  {
   "cell_type": "code",
   "execution_count": 262,
   "metadata": {
    "colab": {},
    "colab_type": "code",
    "id": "u7Xi827dabXb"
   },
   "outputs": [],
   "source": [
    "import matplotlib.pyplot as plt\n",
    "import random\n",
    "\n",
    "from matplotlib.colors import ListedColormap\n",
    "from sklearn import datasets\n",
    "\n",
    "import numpy as np"
   ]
  },
  {
   "cell_type": "code",
   "execution_count": 263,
   "metadata": {
    "colab": {},
    "colab_type": "code",
    "id": "6FZaieu8abXe"
   },
   "outputs": [],
   "source": [
    "# сгенерируем данные\n",
    "classification_data, classification_labels = datasets.make_classification(n_samples=200,\n",
    "                                                      n_features = 2, n_informative = 2, \n",
    "                                                      n_classes = 2, n_redundant = 0, \n",
    "                                                      n_clusters_per_class = 1, \n",
    "                                                      random_state = 5\n",
    "                                                                         )"
   ]
  },
  {
   "cell_type": "code",
   "execution_count": 264,
   "metadata": {
    "colab": {
     "base_uri": "https://localhost:8080/",
     "height": 501
    },
    "colab_type": "code",
    "executionInfo": {
     "elapsed": 1579,
     "status": "ok",
     "timestamp": 1576241785538,
     "user": {
      "displayName": "Victor Sergevnin",
      "photoUrl": "",
      "userId": "00795386645800606002"
     },
     "user_tz": -180
    },
    "id": "FHpOr1k6abXg",
    "outputId": "076d8a8e-c6f4-4296-a571-c1570c7991df",
    "scrolled": false
   },
   "outputs": [
    {
     "data": {
      "image/png": "[encoded data removed]",
      "text/plain": [
       "<Figure size 432x432 with 1 Axes>"
      ]
     },
     "metadata": {
      "needs_background": "light"
     },
     "output_type": "display_data"
    }
   ],
   "source": [
    "# визуализируем сгенерированные данные\n",
    "\n",
    "colors = ListedColormap(['red', 'blue'])\n",
    "light_colors = ListedColormap(['lightcoral', 'lightblue'])\n",
    "\n",
    "plt.figure(figsize=(6,6))\n",
    "plt.scatter(list(map(lambda x: x[0], classification_data)), list(map(lambda x: x[1], classification_data)), \n",
    "              c=classification_labels, cmap=colors);"
   ]
  },
  {
   "cell_type": "code",
   "execution_count": 265,
   "metadata": {
    "colab": {},
    "colab_type": "code",
    "id": "Duu45IJUabXi"
   },
   "outputs": [],
   "source": [
    "# Реализуем класс узла\n",
    "\n",
    "class Node:\n",
    "    \n",
    "    def __init__(self, index, t, true_branch, false_branch):\n",
    "        self.index = index  # индекс признака, по которому ведется сравнение с порогом в этом узле\n",
    "        self.t = t  # значение порога\n",
    "        self.true_branch = true_branch  # поддерево, удовлетворяющее условию в узле\n",
    "        self.false_branch = false_branch  # поддерево, не удовлетворяющее условию в узле"
   ]
  },
  {
   "cell_type": "code",
   "execution_count": 266,
   "metadata": {
    "colab": {},
    "colab_type": "code",
    "id": "QY8oNtakabXl"
   },
   "outputs": [],
   "source": [
    "# И класс терминального узла (листа)\n",
    "\n",
    "class Leaf:\n",
    "    \n",
    "    def __init__(self, data, labels):\n",
    "        self.data = data\n",
    "        self.labels = labels\n",
    "        self.prediction = self.predict()\n",
    "        \n",
    "    def predict(self):\n",
    "        # подсчет количества объектов разных классов\n",
    "        classes = {}  # сформируем словарь \"класс: количество объектов\"\n",
    "        for label in self.labels:\n",
    "            if label not in classes:\n",
    "                classes[label] = 0\n",
    "            classes[label] += 1\n",
    "        #  найдем класс, количество объектов которого будет максимальным в этом листе и вернем его    \n",
    "        prediction = max(classes, key=classes.get)\n",
    "        return prediction        "
   ]
  },
  {
   "cell_type": "markdown",
   "metadata": {},
   "source": [
    "Индекс Джини:\n",
    "$$H(X) = 1 - \\sum^{K}_{k=1}p_{k}^{2}.$$"
   ]
  },
  {
   "cell_type": "code",
   "execution_count": 267,
   "metadata": {
    "colab": {},
    "colab_type": "code",
    "id": "uBdli3WDabXn"
   },
   "outputs": [],
   "source": [
    "# Расчет критерия Джини\n",
    "\n",
    "def gini(labels):\n",
    "    #  подсчет количества объектов разных классов\n",
    "    classes = {}\n",
    "    for label in labels:\n",
    "        if label not in classes:\n",
    "            classes[label] = 0\n",
    "        classes[label] += 1\n",
    "    \n",
    "    #  расчет критерия\n",
    "    impurity = 1 # коэффициент неопределенности Джини\n",
    "    for label in classes:\n",
    "        p = classes[label] / len(labels)\n",
    "        impurity -= p ** 2\n",
    "        \n",
    "    return impurity"
   ]
  },
  {
   "cell_type": "code",
   "execution_count": 268,
   "metadata": {},
   "outputs": [],
   "source": [
    "# Два варианта кода, второй выглядит лучше на мой взгляд.\n",
    "\n",
    "# Результат на данных из 400 обьектов\n",
    "# энтропия Шеннона: \n",
    "# обучающая выборка:93.2 ; тестовая выборка: 91.6\n",
    "# индекс Джинни: \n",
    "# обучающая: 92.8; тестовая: 86.6\n",
    "\n",
    "# На данных из 800 обьектов:\n",
    "# обучающая: 91.25; тестовая: 89.1 для обоих случаев\n",
    "\n",
    "# На данных из 1200 обьектов:\n",
    "# энтропия Шеннона: обучающая: 91.5; тестовая: 93.0\n",
    "# индекс Джинни: обучающая: 91.9; тестовая: 92.7\n",
    "\n",
    "# Разница для применения двух индексов небольшая"
   ]
  },
  {
   "cell_type": "code",
   "execution_count": 269,
   "metadata": {},
   "outputs": [],
   "source": [
    "# Расчет энтропии Шеннона\n",
    "\n",
    "def Shanon(labels):\n",
    "    #  подсчет количества объектов разных классов\n",
    "    classes = {}\n",
    "    for label in labels:\n",
    "        if label not in classes:\n",
    "            classes[label] = 0\n",
    "        classes[label] += 1\n",
    "        \n",
    "    \n",
    "    #  расчет критерия\n",
    "#     impurity = []\n",
    "#     for label in classes:\n",
    "#         p = classes[label] / len(labels)\n",
    "#         left = p * np.log(p)\n",
    "        \n",
    "#         impurity.append(left)\n",
    "       \n",
    "#     return  - sum(impurity)\n",
    "\n",
    "    impurity = 0\n",
    "    for label in classes:\n",
    "        p = classes[label] / len(labels)\n",
    "        left = p * np.log(p)  \n",
    "        impurity -= left\n",
    "       \n",
    "    return impurity "
   ]
  },
  {
   "cell_type": "code",
   "execution_count": 270,
   "metadata": {},
   "outputs": [
    {
     "data": {
      "text/plain": [
       "0.6931471805599453"
      ]
     },
     "execution_count": 270,
     "metadata": {},
     "output_type": "execute_result"
    }
   ],
   "source": [
    "F = [1, 1, 1, 1, 1, 2, 2, 2, 2, 2]\n",
    "Shanon(F)"
   ]
  },
  {
   "cell_type": "markdown",
   "metadata": {},
   "source": [
    "Функционал качества:  \n",
    "\n",
    "$$Q = H(X_{m}) - \\frac{|X_{l}|}{|X_{m}|}H(X_{l}) - \\frac{|X_{r}|}{|X_{m}|}H(X_{r})$$"
   ]
  },
  {
   "cell_type": "code",
   "execution_count": 271,
   "metadata": {
    "colab": {},
    "colab_type": "code",
    "id": "9vvLDhuRabXr"
   },
   "outputs": [],
   "source": [
    "# Расчет качества\n",
    "\n",
    "def quality(left_labels, right_labels, current_gini):\n",
    "\n",
    "    # доля выбоки, ушедшая в левое поддерево\n",
    "    p = float(left_labels.shape[0]) / (left_labels.shape[0] + right_labels.shape[0])\n",
    "    \n",
    "    return current_gini - p * gini(left_labels) - (1 - p) * gini(right_labels)"
   ]
  },
  {
   "cell_type": "code",
   "execution_count": 272,
   "metadata": {
    "colab": {},
    "colab_type": "code",
    "id": "nhWkphi3abXt"
   },
   "outputs": [],
   "source": [
    "# Разбиение датасета в узле\n",
    "\n",
    "def split(data, labels, index, t):\n",
    "    \n",
    "    left = np.where(data[:, index] <= t)\n",
    "    right = np.where(data[:, index] > t)\n",
    "        \n",
    "    true_data = data[left]\n",
    "    false_data = data[right]\n",
    "    true_labels = labels[left]\n",
    "    false_labels = labels[right]\n",
    "        \n",
    "    return true_data, false_data, true_labels, false_labels"
   ]
  },
  {
   "cell_type": "code",
   "execution_count": 273,
   "metadata": {
    "colab": {},
    "colab_type": "code",
    "id": "5wi8Fbs_abXw"
   },
   "outputs": [],
   "source": [
    "# Нахождение наилучшего разбиения\n",
    "\n",
    "def find_best_split(data, labels, min_leaf):\n",
    "    \n",
    "    #  обозначим минимальное количество объектов в узле\n",
    "#    min_leaf = 5\n",
    "\n",
    "    current_gini = gini(labels)\n",
    "\n",
    "    best_quality = 0\n",
    "    best_t = None\n",
    "    best_index = None\n",
    "    \n",
    "    n_features = data.shape[1]\n",
    "    \n",
    "    for index in range(n_features):\n",
    "        # будем проверять только уникальные значения признака, исключая повторения\n",
    "        t_values = np.unique([row[index] for row in data])\n",
    "        \n",
    "        for t in t_values:\n",
    "            true_data, false_data, true_labels, false_labels = split(data, labels, index, t)\n",
    "            #  пропускаем разбиения, в которых в узле остается менее 5 объектов\n",
    "            if len(true_data) < min_leaf or len(false_data) < min_leaf:\n",
    "                continue\n",
    "            \n",
    "            current_quality = quality(true_labels, false_labels, current_gini)\n",
    "            \n",
    "            #  выбираем порог, на котором получается максимальный прирост качества\n",
    "            if current_quality > best_quality:\n",
    "                best_quality, best_t, best_index = current_quality, t, index\n",
    "\n",
    "    return best_quality, best_t, best_index"
   ]
  },
  {
   "cell_type": "code",
   "execution_count": 274,
   "metadata": {},
   "outputs": [],
   "source": [
    "# В коде из методички реализуйте один или несколько критериев останова:\n",
    "# минимальное количество объектов в листе (min_leaf),\n",
    "# максимальная глубина дерева, максимальное количество листьев и т.д.\n",
    "# Добавьте эти критерии в параметры функции build_tree \n",
    "# и проверьте ее работоспособность."
   ]
  },
  {
   "cell_type": "code",
   "execution_count": 275,
   "metadata": {},
   "outputs": [],
   "source": [
    "# min_leaf\n",
    "# Задаем min_leaf в find_best_split как обязательный параметр, а в build_tree как\n",
    "# дефолтный выставляем выбранное значение (иначе вылетим с ошибкой)\n",
    "# Увеличиваем количество обьектов до 350, на дефолтном параметре (5) получаем\n",
    "# результаты на обучающей выборке 96.3б на тестовой 84.7\n",
    "# Изменяем до 10: 95.1; 84.7 соответственно\n",
    "# До 15: 95.1; 90.4 (внезапно) соответственно\n",
    "# До 20: 86.5; 79.0 соответственно\n",
    "# Уменьшим до 3: 96.7; 89.5 соответственно\n",
    "# И до 1: 100; 90.4 соответственно\n",
    "# Для 350 экземпляров лучшим количеством экземпляров в листе оказалось 15:\n",
    "# меньше всего разница между обучающей и тестовой выборкой"
   ]
  },
  {
   "cell_type": "code",
   "execution_count": 276,
   "metadata": {},
   "outputs": [],
   "source": [
    "# max_depth\n",
    "# На 800 обьектах без ограничения глубины дерева:\n",
    "# Обучающаяя выборка: 91.25; Тестовая: 89.1\n",
    "# С ограничением до 2: Обучающая: 90.7; Тестовая: 91.25\n",
    "# Углубляя до 4 или 7 выходим с тем-же результатом, что и без ограничения\n",
    "# На 2000 обьектах ограничение глубины никак не сказалось\n",
    "# На 4000 обьектах тоже\n",
    "# На 12000 обьектах\n",
    "# Без ограничения: Обучающая: 91.85; Тестовая: 89.6 \n",
    "# Ограничение до 7,4,3,2: Обучающая: 91.4; Тестовая: 89.6\n",
    "# По итогу на практике разницы почти нет. Не могу найти ошибку "
   ]
  },
  {
   "cell_type": "code",
   "execution_count": 322,
   "metadata": {
    "colab": {},
    "colab_type": "code",
    "id": "f1__qSXSabXy"
   },
   "outputs": [],
   "source": [
    "# Построение дерева с помощью рекурсивной функции\n",
    "\n",
    "def build_tree(data, labels, min_leaf=5, max_depth=1000, start=0):\n",
    "      \n",
    "    quality, t, index = find_best_split(data, labels, min_leaf)\n",
    "    \n",
    "    #  Базовый случай - прекращаем рекурсию, когда нет прироста в качества\n",
    "    if quality == 0:\n",
    "        return Leaf(data, labels)\n",
    "    true_data, false_data, true_labels, false_labels = split(data, labels, index, t)\n",
    "    if (max_depth is not None) and (start <= max_depth):        \n",
    "        start +=1\n",
    "    else:\n",
    "        return Leaf(data, labels)\n",
    "    \n",
    "    # Рекурсивно строим два поддерева\n",
    "    true_branch = build_tree(true_data, true_labels, min_leaf, max_depth, start)\n",
    "    false_branch = build_tree(false_data, false_labels, min_leaf, max_depth, start)\n",
    "\n",
    "    # Возвращаем класс узла со всеми поддеревьями, то есть целого дерева\n",
    "    return Node(index, t, true_branch, false_branch)"
   ]
  },
  {
   "cell_type": "code",
   "execution_count": 323,
   "metadata": {
    "colab": {},
    "colab_type": "code",
    "id": "F7ruKazCabX3"
   },
   "outputs": [],
   "source": [
    "def classify_object(obj, node):\n",
    "\n",
    "    #  Останавливаем рекурсию, если достигли листа\n",
    "    if isinstance(node, Leaf):\n",
    "        answer = node.prediction\n",
    "        return answer\n",
    "\n",
    "    if obj[node.index] <= node.t:\n",
    "        return classify_object(obj, node.true_branch)\n",
    "    else:\n",
    "        return classify_object(obj, node.false_branch)"
   ]
  },
  {
   "cell_type": "code",
   "execution_count": 324,
   "metadata": {
    "colab": {},
    "colab_type": "code",
    "id": "SLOdTAqdabX7"
   },
   "outputs": [],
   "source": [
    "def predict(data, tree):\n",
    "    \n",
    "    classes = []\n",
    "    for obj in data:\n",
    "        prediction = classify_object(obj, tree)\n",
    "        classes.append(prediction)\n",
    "    return classes"
   ]
  },
  {
   "cell_type": "code",
   "execution_count": 325,
   "metadata": {
    "colab": {},
    "colab_type": "code",
    "id": "wnDPkwVJabYA"
   },
   "outputs": [],
   "source": [
    "# Разобьем выборку на обучающую и тестовую\n",
    "\n",
    "from sklearn import model_selection\n",
    "\n",
    "train_data, test_data, train_labels, test_labels = model_selection.train_test_split(classification_data, \n",
    "                                                                                     classification_labels, \n",
    "                                                                                     test_size = 0.3,\n",
    "                                                                                     random_state = 1)"
   ]
  },
  {
   "cell_type": "code",
   "execution_count": 328,
   "metadata": {
    "colab": {},
    "colab_type": "code",
    "id": "UbbvkqvOabYD"
   },
   "outputs": [],
   "source": [
    "# Построим дерево по обучающей выборке\n",
    "my_tree = build_tree(train_data, train_labels, max_depth=1)"
   ]
  },
  {
   "cell_type": "code",
   "execution_count": 329,
   "metadata": {
    "colab": {
     "base_uri": "https://localhost:8080/",
     "height": 311
    },
    "colab_type": "code",
    "executionInfo": {
     "elapsed": 1893,
     "status": "ok",
     "timestamp": 1576241785980,
     "user": {
      "displayName": "Victor Sergevnin",
      "photoUrl": "",
      "userId": "00795386645800606002"
     },
     "user_tz": -180
    },
    "id": "GF1rVs9VabYG",
    "outputId": "2f7d40ba-e20d-4b45-c7c5-9d4d15cba329"
   },
   "outputs": [
    {
     "name": "stdout",
     "output_type": "stream",
     "text": [
      "УЗЕЛ: индекс 0\n",
      "Порог -0.02\n",
      "--> Левая ветка:\n",
      "    ЛИСТ: прогноз = 0 [0 0 0 0 0 0 0 0 0 0 0 0 0 0 0 0 0 0 0 0 0 0 0 0 0 0 0 0 0 0 0 0 0 0 0 0 0\n",
      " 0 0 0 0 0 0 0 0 0 0 0 0 0 0 0 0 0 0 0 0 0 0 0 0 0 0 0 0 0 0 0 0 0 0 0]\n",
      "--> Правая ветка:\n",
      "    УЗЕЛ: индекс 0\n",
      "    Порог 0.54\n",
      "    --> Левая ветка:\n",
      "        ЛИСТ: прогноз = 1 [0 1 1 1 1 1 1 0 1 1]\n",
      "    --> Правая ветка:\n",
      "        ЛИСТ: прогноз = 1 [1 1 1 1 1 1 1 1 1 1 1 1 1 1 1 1 1 1 1 1 1 1 1 1 1 1 1 1 1 1 1 1 1 1 1 1 1\n",
      " 1 1 1 1 1 0 1 1 1 1 1 1 1 1 1 1 1 1 1 1 1]\n"
     ]
    }
   ],
   "source": [
    "# Напечатаем ход нашего дерева\n",
    "def print_tree(node, spacing=\"\"):\n",
    "\n",
    "    # Если лист, то выводим его прогноз\n",
    "    if isinstance(node, Leaf):\n",
    "        print(spacing + \"ЛИСТ: прогноз =\", node.prediction, node.labels)\n",
    "        return\n",
    "\n",
    "    # Выведем значение индекса и порога на этом узле\n",
    "    print(spacing + 'УЗЕЛ: индекс', str(node.index))\n",
    "    print(spacing + 'Порог', str(round(node.t, 2)))\n",
    "\n",
    "    # Рекурсионный вызов функции на положительном поддереве\n",
    "    print (spacing + '--> Левая ветка:')\n",
    "    print_tree(node.true_branch, spacing + \"    \")\n",
    "\n",
    "    # Рекурсионный вызов функции на положительном поддереве\n",
    "    print (spacing + '--> Правая ветка:')\n",
    "    print_tree(node.false_branch, spacing + \"    \")\n",
    "    \n",
    "print_tree(my_tree)"
   ]
  },
  {
   "cell_type": "code",
   "execution_count": 315,
   "metadata": {
    "colab": {},
    "colab_type": "code",
    "id": "CyvzFQp3abYI"
   },
   "outputs": [],
   "source": [
    "# Получим ответы для обучающей выборки \n",
    "train_answers = predict(train_data, my_tree)"
   ]
  },
  {
   "cell_type": "code",
   "execution_count": 316,
   "metadata": {
    "colab": {},
    "colab_type": "code",
    "id": "Rl6IyN8yabYN"
   },
   "outputs": [],
   "source": [
    "# И получим ответы для тестовой выборки\n",
    "answers = predict(test_data, my_tree)"
   ]
  },
  {
   "cell_type": "markdown",
   "metadata": {},
   "source": [
    "$$accuracy=\\frac{1}{l}\\sum^l_{i=1}[pred_i=y_i]$$"
   ]
  },
  {
   "cell_type": "code",
   "execution_count": 317,
   "metadata": {
    "colab": {},
    "colab_type": "code",
    "id": "2odXAe7vabYP"
   },
   "outputs": [],
   "source": [
    "# Введем функцию подсчета точности как доли правильных ответов\n",
    "def accuracy_metric(actual, predicted):\n",
    "    correct = 0\n",
    "    for i in range(len(actual)):\n",
    "        if actual[i] == predicted[i]:\n",
    "            correct += 1\n",
    "    return correct / float(len(actual)) * 100.0"
   ]
  },
  {
   "cell_type": "code",
   "execution_count": 318,
   "metadata": {
    "colab": {
     "base_uri": "https://localhost:8080/",
     "height": 35
    },
    "colab_type": "code",
    "executionInfo": {
     "elapsed": 1857,
     "status": "ok",
     "timestamp": 1576241785989,
     "user": {
      "displayName": "Victor Sergevnin",
      "photoUrl": "",
      "userId": "00795386645800606002"
     },
     "user_tz": -180
    },
    "id": "Jn0L6r8CabYS",
    "outputId": "200858a7-20de-494e-eec5-507ff7d79ae8"
   },
   "outputs": [
    {
     "data": {
      "text/plain": [
       "97.85714285714285"
      ]
     },
     "execution_count": 318,
     "metadata": {},
     "output_type": "execute_result"
    }
   ],
   "source": [
    "# Точность на обучающей выборке\n",
    "train_accuracy = accuracy_metric(train_labels, train_answers)\n",
    "train_accuracy"
   ]
  },
  {
   "cell_type": "code",
   "execution_count": 319,
   "metadata": {
    "colab": {
     "base_uri": "https://localhost:8080/",
     "height": 35
    },
    "colab_type": "code",
    "executionInfo": {
     "elapsed": 1840,
     "status": "ok",
     "timestamp": 1576241785991,
     "user": {
      "displayName": "Victor Sergevnin",
      "photoUrl": "",
      "userId": "00795386645800606002"
     },
     "user_tz": -180
    },
    "id": "D__eGtLRabYU",
    "outputId": "7b116cd2-da9f-4752-e28e-2dfc279d88d3"
   },
   "outputs": [
    {
     "data": {
      "text/plain": [
       "100.0"
      ]
     },
     "execution_count": 319,
     "metadata": {},
     "output_type": "execute_result"
    }
   ],
   "source": [
    "# Точность на тестовой выборке\n",
    "test_accuracy = accuracy_metric(test_labels, answers)\n",
    "test_accuracy"
   ]
  },
  {
   "cell_type": "code",
   "execution_count": 301,
   "metadata": {
    "colab": {
     "base_uri": "https://localhost:8080/",
     "height": 462
    },
    "colab_type": "code",
    "executionInfo": {
     "elapsed": 2384,
     "status": "ok",
     "timestamp": 1576241786553,
     "user": {
      "displayName": "Victor Sergevnin",
      "photoUrl": "",
      "userId": "00795386645800606002"
     },
     "user_tz": -180
    },
    "id": "TEHbV9hXabYW",
    "outputId": "17ac3229-63c1-4542-ed42-290ba6377af1"
   },
   "outputs": [
    {
     "name": "stderr",
     "output_type": "stream",
     "text": [
      "/var/folders/lw/sfx9kxt17jj8cb5s59ll44q80000gp/T/ipykernel_32924/3498025306.py:14: MatplotlibDeprecationWarning: shading='flat' when X and Y have the same dimensions as C is deprecated since 3.3.  Either specify the corners of the quadrilaterals with X and Y, or pass shading='auto', 'nearest' or 'gouraud', or set rcParams['pcolor.shading'].  This will become an error two minor releases later.\n",
      "  plt.pcolormesh(xx, yy, mesh_predictions, cmap = light_colors)\n",
      "/var/folders/lw/sfx9kxt17jj8cb5s59ll44q80000gp/T/ipykernel_32924/3498025306.py:20: MatplotlibDeprecationWarning: shading='flat' when X and Y have the same dimensions as C is deprecated since 3.3.  Either specify the corners of the quadrilaterals with X and Y, or pass shading='auto', 'nearest' or 'gouraud', or set rcParams['pcolor.shading'].  This will become an error two minor releases later.\n",
      "  plt.pcolormesh(xx, yy, mesh_predictions, cmap = light_colors)\n"
     ]
    },
    {
     "data": {
      "text/plain": [
       "Text(0.5, 1.0, 'Test accuracy=100.00')"
      ]
     },
     "execution_count": 301,
     "metadata": {},
     "output_type": "execute_result"
    },
    {
     "data": {
      "image/png": "[encoded data removed]",
      "text/plain": [
       "<Figure size 1152x504 with 2 Axes>"
      ]
     },
     "metadata": {
      "needs_background": "light"
     },
     "output_type": "display_data"
    }
   ],
   "source": [
    "# Визуализируем дерево на графике\n",
    "\n",
    "def get_meshgrid(data, step=0.05, border=1.2):\n",
    "    x_min, x_max = data[:, 0].min() - border, data[:, 0].max() + border\n",
    "    y_min, y_max = data[:, 1].min() - border, data[:, 1].max() + border\n",
    "    return np.meshgrid(np.arange(x_min, x_max, step), np.arange(y_min, y_max, step))\n",
    "\n",
    "plt.figure(figsize = (16, 7))\n",
    "\n",
    "# график обучающей выборки\n",
    "plt.subplot(1,2,1)\n",
    "xx, yy = get_meshgrid(train_data)\n",
    "mesh_predictions = np.array(predict(np.c_[xx.ravel(), yy.ravel()], my_tree)).reshape(xx.shape)\n",
    "plt.pcolormesh(xx, yy, mesh_predictions, cmap = light_colors)\n",
    "plt.scatter(train_data[:, 0], train_data[:, 1], c = train_labels, cmap = colors)\n",
    "plt.title(f'Train accuracy={train_accuracy:.2f}')\n",
    "\n",
    "# график тестовой выборки\n",
    "plt.subplot(1,2,2)\n",
    "plt.pcolormesh(xx, yy, mesh_predictions, cmap = light_colors)\n",
    "plt.scatter(test_data[:, 0], test_data[:, 1], c = test_labels, cmap = colors)\n",
    "plt.title(f'Test accuracy={test_accuracy:.2f}')"
   ]
  },
  {
   "cell_type": "markdown",
   "metadata": {
    "colab_type": "text",
    "id": "DC48TQN9abYY"
   },
   "source": [
    "Как видно, дерево строит кусочно-постоянную разделяющую гиперплоскость, то есть состоящую из прямых, параллельных осям. Чем глубже дерево, тем сложнее гиперплоскость. Также происходит и в случае регрессии - график зависимости целевого значения восстанавливается кусочно-постоянной функцией."
   ]
  },
  {
   "cell_type": "markdown",
   "metadata": {
    "colab_type": "text",
    "id": "eAYfxLSTabYZ"
   },
   "source": [
    "## Работа деревьев в случае пропущенных значений"
   ]
  },
  {
   "cell_type": "markdown",
   "metadata": {
    "colab_type": "text",
    "id": "nhyvKAv2abYa"
   },
   "source": [
    "Иногда в реальных задачах бывает так, что не для всех объектов известно значение того или иного признака. Одним из преимуществ деревьев решений является возможность обрабатывать такие случаи.\n",
    "\n",
    "Допустим, требуется вычислить функционал качества для разбиения $[x_{j}<t]$, но в выборке $X_{m}$ для некоторого подмножества объектов $V_{j}$ неизвестно значение $j$-го признака. В этом случае функционал качества рассчитывается без учета этих объектов (обозначим выборку без их учета как $X_{m}\\text{\\ }V_{j}$), с поправкой на потерю информации:\n",
    "\n",
    "$$Q_{X_{m}, j, t} = \\frac{|X_{m}\\text{\\ } V_{j}|}{|X_{m}|}Q(X_{m}\\text{\\ }V_{j}, j,t).$$"
   ]
  },
  {
   "cell_type": "markdown",
   "metadata": {
    "colab_type": "text",
    "id": "V9mAVLqrabYb"
   },
   "source": [
    "Если такой разбиение окажется лучшим, объекты из $V_{j}$ помещаются в оба образованных поддерева.\n",
    "\n",
    "На этапе применения дерева выполняется похожая операция. Если объект попал в вершину, в которой нельзя вычислить критерий разбиения из-за отсутствия значения необходимого признака, прогнозы для него вычисляются в обоих поддеревьях, а затем усредняются с весами, пропорциональными числу объектов в них.\n",
    "\n",
    "$$\\frac{|X_{l}|}{|X_{m}|}a_{l}(x) + \\frac{|X_{r}|}{|X_{m}|}a_{r}(x),$$\n",
    "\n",
    "где $a$ - прогноз веорятности отнесения объекта $x$ к одному из классов."
   ]
  },
  {
   "cell_type": "markdown",
   "metadata": {
    "colab_type": "text",
    "id": "VMUVpzQ-abYd"
   },
   "source": [
    "Кроме этого подхода существует метод построения _суррогатных предикатов_ в каждой вершине. Проще говоря, это запасной предикат, который использует другой признак, но при этом дает максимально близкое к исходному разбиение."
   ]
  },
  {
   "cell_type": "markdown",
   "metadata": {
    "colab_type": "text",
    "id": "jyKBrnbpabYd"
   },
   "source": [
    "## Работа деревьев с категориальными признаками"
   ]
  },
  {
   "cell_type": "markdown",
   "metadata": {
    "colab_type": "text",
    "id": "WaIif9BAabYe"
   },
   "source": [
    "Кроме вещественных и бинарных признаков в задаче могут иметь место категориальные признаки (делящиеся на конечное число категорий, например, цвета автомобилей). Самый простой способ учета категориальных признаков в алгоритме деревьев состоит в разбитии вершины на столько поддеревьев, сколько имеется возможных значений признака. В этом случае дерево называется _n-арным_. Условие разбиения будет простым (отнесение признака к той или иной категории), однако здесь появляется риск получения конечного дерева с очень большим числом листьев. В случае такого дерева критерий ошибки $Q$ будет состоять из $n$ слагаемых (или из $(n+1)$) в случае максимизируемого критерия, который мы использовали."
   ]
  },
  {
   "cell_type": "markdown",
   "metadata": {
    "colab_type": "text",
    "id": "oo6IMSS-abYf"
   },
   "source": [
    "Есть и другой подход, заключающийся в формировании бинарных деревьев путем разделения множества значений признака $C = \\{c_{1}, ...,c_{n}\\}$ на два непересекающихся подмножества $C_{1}$ и $C_{2}$. После такого разделения условием разбиения в узле будет проверка принадлежности признака одному из подмножеств $[x \\in C_{1}]$.\n",
    "\n",
    "Задача остается в выборе оптимального варианта разбиения исходного множества на два подмножества, так как обычный перебор всех вариантов может быть крайне затруднительным из-за большого количества вариантов разбиения. В случаях с бинарной классификацией и регрессией используют следующий метод: все возможные значения категориального признака сортируются по определенному принципу, затем заменяются на натуральные числа.\n",
    "\n",
    "В случае бинарной классификации признаки упорядочиваются не основе того, какая доля объектов с такими признаками относится к классу +1. Если обозначить множество объектов в узле $m$, у которых $j$-й признак имеет значение $с$, через $X_{m}(c)$, а через $N_{m}(c)$ количество таких объектов, получим:\n",
    "\n",
    "$$\\frac{1}{N_{m}(c_{1})} \\sum_{x \\in X_{m}(c_{1})}[y_{i}=+1]\\leq...\\leq \\frac{1}{N_{m}(c_{n})} \\sum_{x \\in X_{m}(c_{n})}[y_{i}=+1],$$\n",
    "\n",
    "и после замены категории $c_{i}$ на натуральное число ищется разбиение как для вещественного признака."
   ]
  },
  {
   "cell_type": "markdown",
   "metadata": {
    "colab_type": "text",
    "id": "Bb3tpXPcabYf"
   },
   "source": [
    "В случае задачи регрессии сортировка происходит схожим образом, но вместо доли объектов положительного класса среди объектов с таким значением признака вычисляется средний ответ по объектам с соответствующим значением категориального признака:\n",
    "\n",
    "$$\\frac{1}{N_{m}(c_{1})} \\sum_{x \\in X_{m}(c_{1})}y_{i}\\leq...\\leq \\frac{1}{N_{m}(c_{n})} \\sum_{x \\in X_{m}(c_{n})}y_{i}.$$"
   ]
  },
  {
   "cell_type": "markdown",
   "metadata": {
    "colab_type": "text",
    "id": "fuInidP3abYh"
   },
   "source": [
    "## Дополнительные материалы"
   ]
  },
  {
   "cell_type": "markdown",
   "metadata": {
    "colab_type": "text",
    "id": "qlxrQi3-abYh"
   },
   "source": [
    "1. [Энтропия](https://habr.com/ru/post/305794/)\n",
    "2. [Энтропия - теоретическое обоснование](https://ru.wikipedia.org/wiki/%D0%98%D0%BD%D1%84%D0%BE%D1%80%D0%BC%D0%B0%D1%86%D0%B8%D0%BE%D0%BD%D0%BD%D0%B0%D1%8F_%D1%8D%D0%BD%D1%82%D1%80%D0%BE%D0%BF%D0%B8%D1%8F)\n",
    "3. [Cost-Complexity Pruning](http://mlwiki.org/index.php/Cost-Complexity_Pruning)\n",
    "4. [Реализация дерева решений в функциональном стиле](https://github.com/random-forests/tutorials/blob/master/decision_tree.ipynb)\n",
    "5. [ООП-реализация дерева решений](https://github.com/curiousily/Machine-Learning-from-Scratch/blob/master/3_decision_trees.ipynb)\n",
    "6. [Пример работы дерева решений в задаче регрессии](https://habr.com/ru/company/ods/blog/322534/#derevo-resheniy-v-zadache-regressii)"
   ]
  },
  {
   "cell_type": "markdown",
   "metadata": {},
   "source": [
    "## Домашние задания"
   ]
  },
  {
   "cell_type": "markdown",
   "metadata": {},
   "source": [
    "1. В коде из методички реализуйте один или несколько критериев останова: минимальное количество объектов в листе (`min_leaf`), максимальная глубина дерева, максимальное количество листьев и т.д. Добавьте эти критерии в параметры функции `build_tree` и проверьте ее работоспособность. \n",
    "2. (\\*) Для задачи классификации обучите дерево решений с использованием критериев разбиения Джини и Энтропия. Сравните качество классификации, сделайте выводы.\n",
    "2. (\\*) Реализуйте дерево для задачи регрессии. Возьмите за основу дерево, реализованное в методичке, заменив механизм предсказания в листе на взятие среднего значения по выборке, а критерий Джини на дисперсию значений. Проверьте точность предсказания дерева на одной из метрик задачи регрессии."
   ]
  },
  {
   "cell_type": "code",
   "execution_count": null,
   "metadata": {},
   "outputs": [],
   "source": [
    "# 3 задание\n",
    "from sklearn import datasets\n",
    "\n",
    "regression_data, regression_labels = datasets.make_regression(n_samples=100, \n",
    "                                                      n_features=1, bias=5, noise=10,\n",
    "                                                      random_state=42)\n",
    "plt.figure(figsize=(6,6))\n",
    "plt.scatter(regression_data, regression_labels, c='darkorange', edgecolor='black', s=70);"
   ]
  },
  {
   "cell_type": "code",
   "execution_count": null,
   "metadata": {},
   "outputs": [],
   "source": []
  }
 ],
 "metadata": {
  "colab": {
   "collapsed_sections": [],
   "name": "Lesson_4.ipynb",
   "provenance": []
  },
  "kernelspec": {
   "display_name": "Python 3 (ipykernel)",
   "language": "python",
   "name": "python3"
  },
  "language_info": {
   "codemirror_mode": {
    "name": "ipython",
    "version": 3
   },
   "file_extension": ".py",
   "mimetype": "text/x-python",
   "name": "python",
   "nbconvert_exporter": "python",
   "pygments_lexer": "ipython3",
   "version": "3.9.2"
  },
  "toc": {
   "base_numbering": 1,
   "nav_menu": {},
   "number_sections": false,
   "sideBar": true,
   "skip_h1_title": true,
   "title_cell": "Содержание",
   "title_sidebar": "Содержание",
   "toc_cell": false,
   "toc_position": {},
   "toc_section_display": true,
   "toc_window_display": false
  }
 },
 "nbformat": 4,
 "nbformat_minor": 1
}
